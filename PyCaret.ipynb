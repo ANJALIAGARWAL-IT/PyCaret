{
 "cells": [
  {
   "cell_type": "markdown",
   "metadata": {},
   "source": [
    "### PyCaret \n",
    "-----------"
   ]
  },
  {
   "cell_type": "code",
   "execution_count": 4,
   "metadata": {},
   "outputs": [],
   "source": [
    "### Loading Dataset From Pycaret\n",
    "from pycaret.datasets import get_data\n"
   ]
  },
  {
   "cell_type": "code",
   "execution_count": 5,
   "metadata": {},
   "outputs": [
    {
     "data": {
      "text/html": [
       "<div>\n",
       "<style scoped>\n",
       "    .dataframe tbody tr th:only-of-type {\n",
       "        vertical-align: middle;\n",
       "    }\n",
       "\n",
       "    .dataframe tbody tr th {\n",
       "        vertical-align: top;\n",
       "    }\n",
       "\n",
       "    .dataframe thead th {\n",
       "        text-align: right;\n",
       "    }\n",
       "</style>\n",
       "<table border=\"1\" class=\"dataframe\">\n",
       "  <thead>\n",
       "    <tr style=\"text-align: right;\">\n",
       "      <th></th>\n",
       "      <th>Number of times pregnant</th>\n",
       "      <th>Plasma glucose concentration a 2 hours in an oral glucose tolerance test</th>\n",
       "      <th>Diastolic blood pressure (mm Hg)</th>\n",
       "      <th>Triceps skin fold thickness (mm)</th>\n",
       "      <th>2-Hour serum insulin (mu U/ml)</th>\n",
       "      <th>Body mass index (weight in kg/(height in m)^2)</th>\n",
       "      <th>Diabetes pedigree function</th>\n",
       "      <th>Age (years)</th>\n",
       "      <th>Class variable</th>\n",
       "    </tr>\n",
       "  </thead>\n",
       "  <tbody>\n",
       "    <tr>\n",
       "      <th>0</th>\n",
       "      <td>6</td>\n",
       "      <td>148</td>\n",
       "      <td>72</td>\n",
       "      <td>35</td>\n",
       "      <td>0</td>\n",
       "      <td>33.6</td>\n",
       "      <td>0.627</td>\n",
       "      <td>50</td>\n",
       "      <td>1</td>\n",
       "    </tr>\n",
       "    <tr>\n",
       "      <th>1</th>\n",
       "      <td>1</td>\n",
       "      <td>85</td>\n",
       "      <td>66</td>\n",
       "      <td>29</td>\n",
       "      <td>0</td>\n",
       "      <td>26.6</td>\n",
       "      <td>0.351</td>\n",
       "      <td>31</td>\n",
       "      <td>0</td>\n",
       "    </tr>\n",
       "    <tr>\n",
       "      <th>2</th>\n",
       "      <td>8</td>\n",
       "      <td>183</td>\n",
       "      <td>64</td>\n",
       "      <td>0</td>\n",
       "      <td>0</td>\n",
       "      <td>23.3</td>\n",
       "      <td>0.672</td>\n",
       "      <td>32</td>\n",
       "      <td>1</td>\n",
       "    </tr>\n",
       "    <tr>\n",
       "      <th>3</th>\n",
       "      <td>1</td>\n",
       "      <td>89</td>\n",
       "      <td>66</td>\n",
       "      <td>23</td>\n",
       "      <td>94</td>\n",
       "      <td>28.1</td>\n",
       "      <td>0.167</td>\n",
       "      <td>21</td>\n",
       "      <td>0</td>\n",
       "    </tr>\n",
       "    <tr>\n",
       "      <th>4</th>\n",
       "      <td>0</td>\n",
       "      <td>137</td>\n",
       "      <td>40</td>\n",
       "      <td>35</td>\n",
       "      <td>168</td>\n",
       "      <td>43.1</td>\n",
       "      <td>2.288</td>\n",
       "      <td>33</td>\n",
       "      <td>1</td>\n",
       "    </tr>\n",
       "  </tbody>\n",
       "</table>\n",
       "</div>"
      ],
      "text/plain": [
       "   Number of times pregnant  \\\n",
       "0                         6   \n",
       "1                         1   \n",
       "2                         8   \n",
       "3                         1   \n",
       "4                         0   \n",
       "\n",
       "   Plasma glucose concentration a 2 hours in an oral glucose tolerance test  \\\n",
       "0                                                148                          \n",
       "1                                                 85                          \n",
       "2                                                183                          \n",
       "3                                                 89                          \n",
       "4                                                137                          \n",
       "\n",
       "   Diastolic blood pressure (mm Hg)  Triceps skin fold thickness (mm)  \\\n",
       "0                                72                                35   \n",
       "1                                66                                29   \n",
       "2                                64                                 0   \n",
       "3                                66                                23   \n",
       "4                                40                                35   \n",
       "\n",
       "   2-Hour serum insulin (mu U/ml)  \\\n",
       "0                               0   \n",
       "1                               0   \n",
       "2                               0   \n",
       "3                              94   \n",
       "4                             168   \n",
       "\n",
       "   Body mass index (weight in kg/(height in m)^2)  Diabetes pedigree function  \\\n",
       "0                                            33.6                       0.627   \n",
       "1                                            26.6                       0.351   \n",
       "2                                            23.3                       0.672   \n",
       "3                                            28.1                       0.167   \n",
       "4                                            43.1                       2.288   \n",
       "\n",
       "   Age (years)  Class variable  \n",
       "0           50               1  \n",
       "1           31               0  \n",
       "2           32               1  \n",
       "3           21               0  \n",
       "4           33               1  "
      ]
     },
     "metadata": {},
     "output_type": "display_data"
    }
   ],
   "source": [
    "#### Classification Example\n",
    "diabetes_df=get_data(\"diabetes\")"
   ]
  },
  {
   "cell_type": "code",
   "execution_count": 10,
   "metadata": {},
   "outputs": [
    {
     "data": {
      "text/plain": [
       "0    500\n",
       "1    268\n",
       "Name: Class variable, dtype: int64"
      ]
     },
     "execution_count": 10,
     "metadata": {},
     "output_type": "execute_result"
    }
   ],
   "source": [
    "diabetes_df['Class variable'].value_counts()"
   ]
  },
  {
   "cell_type": "code",
   "execution_count": 6,
   "metadata": {},
   "outputs": [
    {
     "name": "stdout",
     "output_type": "stream",
     "text": [
      " \n",
      "Setup Succesfully Completed!\n"
     ]
    },
    {
     "data": {
      "text/html": [
       "<style  type=\"text/css\" >\n",
       "</style><table id=\"T_8f677106_cf50_11ea_a732_803253a1022e\" ><thead>    <tr>        <th class=\"blank level0\" ></th>        <th class=\"col_heading level0 col0\" >Description</th>        <th class=\"col_heading level0 col1\" >Value</th>    </tr></thead><tbody>\n",
       "                <tr>\n",
       "                        <th id=\"T_8f677106_cf50_11ea_a732_803253a1022elevel0_row0\" class=\"row_heading level0 row0\" >0</th>\n",
       "                        <td id=\"T_8f677106_cf50_11ea_a732_803253a1022erow0_col0\" class=\"data row0 col0\" >session_id</td>\n",
       "                        <td id=\"T_8f677106_cf50_11ea_a732_803253a1022erow0_col1\" class=\"data row0 col1\" >7322</td>\n",
       "            </tr>\n",
       "            <tr>\n",
       "                        <th id=\"T_8f677106_cf50_11ea_a732_803253a1022elevel0_row1\" class=\"row_heading level0 row1\" >1</th>\n",
       "                        <td id=\"T_8f677106_cf50_11ea_a732_803253a1022erow1_col0\" class=\"data row1 col0\" >Target Type</td>\n",
       "                        <td id=\"T_8f677106_cf50_11ea_a732_803253a1022erow1_col1\" class=\"data row1 col1\" >Binary</td>\n",
       "            </tr>\n",
       "            <tr>\n",
       "                        <th id=\"T_8f677106_cf50_11ea_a732_803253a1022elevel0_row2\" class=\"row_heading level0 row2\" >2</th>\n",
       "                        <td id=\"T_8f677106_cf50_11ea_a732_803253a1022erow2_col0\" class=\"data row2 col0\" >Label Encoded</td>\n",
       "                        <td id=\"T_8f677106_cf50_11ea_a732_803253a1022erow2_col1\" class=\"data row2 col1\" >None</td>\n",
       "            </tr>\n",
       "            <tr>\n",
       "                        <th id=\"T_8f677106_cf50_11ea_a732_803253a1022elevel0_row3\" class=\"row_heading level0 row3\" >3</th>\n",
       "                        <td id=\"T_8f677106_cf50_11ea_a732_803253a1022erow3_col0\" class=\"data row3 col0\" >Original Data</td>\n",
       "                        <td id=\"T_8f677106_cf50_11ea_a732_803253a1022erow3_col1\" class=\"data row3 col1\" >(768, 9)</td>\n",
       "            </tr>\n",
       "            <tr>\n",
       "                        <th id=\"T_8f677106_cf50_11ea_a732_803253a1022elevel0_row4\" class=\"row_heading level0 row4\" >4</th>\n",
       "                        <td id=\"T_8f677106_cf50_11ea_a732_803253a1022erow4_col0\" class=\"data row4 col0\" >Missing Values </td>\n",
       "                        <td id=\"T_8f677106_cf50_11ea_a732_803253a1022erow4_col1\" class=\"data row4 col1\" >False</td>\n",
       "            </tr>\n",
       "            <tr>\n",
       "                        <th id=\"T_8f677106_cf50_11ea_a732_803253a1022elevel0_row5\" class=\"row_heading level0 row5\" >5</th>\n",
       "                        <td id=\"T_8f677106_cf50_11ea_a732_803253a1022erow5_col0\" class=\"data row5 col0\" >Numeric Features </td>\n",
       "                        <td id=\"T_8f677106_cf50_11ea_a732_803253a1022erow5_col1\" class=\"data row5 col1\" >7</td>\n",
       "            </tr>\n",
       "            <tr>\n",
       "                        <th id=\"T_8f677106_cf50_11ea_a732_803253a1022elevel0_row6\" class=\"row_heading level0 row6\" >6</th>\n",
       "                        <td id=\"T_8f677106_cf50_11ea_a732_803253a1022erow6_col0\" class=\"data row6 col0\" >Categorical Features </td>\n",
       "                        <td id=\"T_8f677106_cf50_11ea_a732_803253a1022erow6_col1\" class=\"data row6 col1\" >1</td>\n",
       "            </tr>\n",
       "            <tr>\n",
       "                        <th id=\"T_8f677106_cf50_11ea_a732_803253a1022elevel0_row7\" class=\"row_heading level0 row7\" >7</th>\n",
       "                        <td id=\"T_8f677106_cf50_11ea_a732_803253a1022erow7_col0\" class=\"data row7 col0\" >Ordinal Features </td>\n",
       "                        <td id=\"T_8f677106_cf50_11ea_a732_803253a1022erow7_col1\" class=\"data row7 col1\" >False</td>\n",
       "            </tr>\n",
       "            <tr>\n",
       "                        <th id=\"T_8f677106_cf50_11ea_a732_803253a1022elevel0_row8\" class=\"row_heading level0 row8\" >8</th>\n",
       "                        <td id=\"T_8f677106_cf50_11ea_a732_803253a1022erow8_col0\" class=\"data row8 col0\" >High Cardinality Features </td>\n",
       "                        <td id=\"T_8f677106_cf50_11ea_a732_803253a1022erow8_col1\" class=\"data row8 col1\" >False</td>\n",
       "            </tr>\n",
       "            <tr>\n",
       "                        <th id=\"T_8f677106_cf50_11ea_a732_803253a1022elevel0_row9\" class=\"row_heading level0 row9\" >9</th>\n",
       "                        <td id=\"T_8f677106_cf50_11ea_a732_803253a1022erow9_col0\" class=\"data row9 col0\" >High Cardinality Method </td>\n",
       "                        <td id=\"T_8f677106_cf50_11ea_a732_803253a1022erow9_col1\" class=\"data row9 col1\" >None</td>\n",
       "            </tr>\n",
       "            <tr>\n",
       "                        <th id=\"T_8f677106_cf50_11ea_a732_803253a1022elevel0_row10\" class=\"row_heading level0 row10\" >10</th>\n",
       "                        <td id=\"T_8f677106_cf50_11ea_a732_803253a1022erow10_col0\" class=\"data row10 col0\" >Sampled Data</td>\n",
       "                        <td id=\"T_8f677106_cf50_11ea_a732_803253a1022erow10_col1\" class=\"data row10 col1\" >(768, 9)</td>\n",
       "            </tr>\n",
       "            <tr>\n",
       "                        <th id=\"T_8f677106_cf50_11ea_a732_803253a1022elevel0_row11\" class=\"row_heading level0 row11\" >11</th>\n",
       "                        <td id=\"T_8f677106_cf50_11ea_a732_803253a1022erow11_col0\" class=\"data row11 col0\" >Transformed Train Set</td>\n",
       "                        <td id=\"T_8f677106_cf50_11ea_a732_803253a1022erow11_col1\" class=\"data row11 col1\" >(537, 24)</td>\n",
       "            </tr>\n",
       "            <tr>\n",
       "                        <th id=\"T_8f677106_cf50_11ea_a732_803253a1022elevel0_row12\" class=\"row_heading level0 row12\" >12</th>\n",
       "                        <td id=\"T_8f677106_cf50_11ea_a732_803253a1022erow12_col0\" class=\"data row12 col0\" >Transformed Test Set</td>\n",
       "                        <td id=\"T_8f677106_cf50_11ea_a732_803253a1022erow12_col1\" class=\"data row12 col1\" >(231, 24)</td>\n",
       "            </tr>\n",
       "            <tr>\n",
       "                        <th id=\"T_8f677106_cf50_11ea_a732_803253a1022elevel0_row13\" class=\"row_heading level0 row13\" >13</th>\n",
       "                        <td id=\"T_8f677106_cf50_11ea_a732_803253a1022erow13_col0\" class=\"data row13 col0\" >Numeric Imputer </td>\n",
       "                        <td id=\"T_8f677106_cf50_11ea_a732_803253a1022erow13_col1\" class=\"data row13 col1\" >mean</td>\n",
       "            </tr>\n",
       "            <tr>\n",
       "                        <th id=\"T_8f677106_cf50_11ea_a732_803253a1022elevel0_row14\" class=\"row_heading level0 row14\" >14</th>\n",
       "                        <td id=\"T_8f677106_cf50_11ea_a732_803253a1022erow14_col0\" class=\"data row14 col0\" >Categorical Imputer </td>\n",
       "                        <td id=\"T_8f677106_cf50_11ea_a732_803253a1022erow14_col1\" class=\"data row14 col1\" >constant</td>\n",
       "            </tr>\n",
       "            <tr>\n",
       "                        <th id=\"T_8f677106_cf50_11ea_a732_803253a1022elevel0_row15\" class=\"row_heading level0 row15\" >15</th>\n",
       "                        <td id=\"T_8f677106_cf50_11ea_a732_803253a1022erow15_col0\" class=\"data row15 col0\" >Normalize </td>\n",
       "                        <td id=\"T_8f677106_cf50_11ea_a732_803253a1022erow15_col1\" class=\"data row15 col1\" >False</td>\n",
       "            </tr>\n",
       "            <tr>\n",
       "                        <th id=\"T_8f677106_cf50_11ea_a732_803253a1022elevel0_row16\" class=\"row_heading level0 row16\" >16</th>\n",
       "                        <td id=\"T_8f677106_cf50_11ea_a732_803253a1022erow16_col0\" class=\"data row16 col0\" >Normalize Method </td>\n",
       "                        <td id=\"T_8f677106_cf50_11ea_a732_803253a1022erow16_col1\" class=\"data row16 col1\" >None</td>\n",
       "            </tr>\n",
       "            <tr>\n",
       "                        <th id=\"T_8f677106_cf50_11ea_a732_803253a1022elevel0_row17\" class=\"row_heading level0 row17\" >17</th>\n",
       "                        <td id=\"T_8f677106_cf50_11ea_a732_803253a1022erow17_col0\" class=\"data row17 col0\" >Transformation </td>\n",
       "                        <td id=\"T_8f677106_cf50_11ea_a732_803253a1022erow17_col1\" class=\"data row17 col1\" >False</td>\n",
       "            </tr>\n",
       "            <tr>\n",
       "                        <th id=\"T_8f677106_cf50_11ea_a732_803253a1022elevel0_row18\" class=\"row_heading level0 row18\" >18</th>\n",
       "                        <td id=\"T_8f677106_cf50_11ea_a732_803253a1022erow18_col0\" class=\"data row18 col0\" >Transformation Method </td>\n",
       "                        <td id=\"T_8f677106_cf50_11ea_a732_803253a1022erow18_col1\" class=\"data row18 col1\" >None</td>\n",
       "            </tr>\n",
       "            <tr>\n",
       "                        <th id=\"T_8f677106_cf50_11ea_a732_803253a1022elevel0_row19\" class=\"row_heading level0 row19\" >19</th>\n",
       "                        <td id=\"T_8f677106_cf50_11ea_a732_803253a1022erow19_col0\" class=\"data row19 col0\" >PCA </td>\n",
       "                        <td id=\"T_8f677106_cf50_11ea_a732_803253a1022erow19_col1\" class=\"data row19 col1\" >False</td>\n",
       "            </tr>\n",
       "            <tr>\n",
       "                        <th id=\"T_8f677106_cf50_11ea_a732_803253a1022elevel0_row20\" class=\"row_heading level0 row20\" >20</th>\n",
       "                        <td id=\"T_8f677106_cf50_11ea_a732_803253a1022erow20_col0\" class=\"data row20 col0\" >PCA Method </td>\n",
       "                        <td id=\"T_8f677106_cf50_11ea_a732_803253a1022erow20_col1\" class=\"data row20 col1\" >None</td>\n",
       "            </tr>\n",
       "            <tr>\n",
       "                        <th id=\"T_8f677106_cf50_11ea_a732_803253a1022elevel0_row21\" class=\"row_heading level0 row21\" >21</th>\n",
       "                        <td id=\"T_8f677106_cf50_11ea_a732_803253a1022erow21_col0\" class=\"data row21 col0\" >PCA Components </td>\n",
       "                        <td id=\"T_8f677106_cf50_11ea_a732_803253a1022erow21_col1\" class=\"data row21 col1\" >None</td>\n",
       "            </tr>\n",
       "            <tr>\n",
       "                        <th id=\"T_8f677106_cf50_11ea_a732_803253a1022elevel0_row22\" class=\"row_heading level0 row22\" >22</th>\n",
       "                        <td id=\"T_8f677106_cf50_11ea_a732_803253a1022erow22_col0\" class=\"data row22 col0\" >Ignore Low Variance </td>\n",
       "                        <td id=\"T_8f677106_cf50_11ea_a732_803253a1022erow22_col1\" class=\"data row22 col1\" >False</td>\n",
       "            </tr>\n",
       "            <tr>\n",
       "                        <th id=\"T_8f677106_cf50_11ea_a732_803253a1022elevel0_row23\" class=\"row_heading level0 row23\" >23</th>\n",
       "                        <td id=\"T_8f677106_cf50_11ea_a732_803253a1022erow23_col0\" class=\"data row23 col0\" >Combine Rare Levels </td>\n",
       "                        <td id=\"T_8f677106_cf50_11ea_a732_803253a1022erow23_col1\" class=\"data row23 col1\" >False</td>\n",
       "            </tr>\n",
       "            <tr>\n",
       "                        <th id=\"T_8f677106_cf50_11ea_a732_803253a1022elevel0_row24\" class=\"row_heading level0 row24\" >24</th>\n",
       "                        <td id=\"T_8f677106_cf50_11ea_a732_803253a1022erow24_col0\" class=\"data row24 col0\" >Rare Level Threshold </td>\n",
       "                        <td id=\"T_8f677106_cf50_11ea_a732_803253a1022erow24_col1\" class=\"data row24 col1\" >None</td>\n",
       "            </tr>\n",
       "            <tr>\n",
       "                        <th id=\"T_8f677106_cf50_11ea_a732_803253a1022elevel0_row25\" class=\"row_heading level0 row25\" >25</th>\n",
       "                        <td id=\"T_8f677106_cf50_11ea_a732_803253a1022erow25_col0\" class=\"data row25 col0\" >Numeric Binning </td>\n",
       "                        <td id=\"T_8f677106_cf50_11ea_a732_803253a1022erow25_col1\" class=\"data row25 col1\" >False</td>\n",
       "            </tr>\n",
       "            <tr>\n",
       "                        <th id=\"T_8f677106_cf50_11ea_a732_803253a1022elevel0_row26\" class=\"row_heading level0 row26\" >26</th>\n",
       "                        <td id=\"T_8f677106_cf50_11ea_a732_803253a1022erow26_col0\" class=\"data row26 col0\" >Remove Outliers </td>\n",
       "                        <td id=\"T_8f677106_cf50_11ea_a732_803253a1022erow26_col1\" class=\"data row26 col1\" >False</td>\n",
       "            </tr>\n",
       "            <tr>\n",
       "                        <th id=\"T_8f677106_cf50_11ea_a732_803253a1022elevel0_row27\" class=\"row_heading level0 row27\" >27</th>\n",
       "                        <td id=\"T_8f677106_cf50_11ea_a732_803253a1022erow27_col0\" class=\"data row27 col0\" >Outliers Threshold </td>\n",
       "                        <td id=\"T_8f677106_cf50_11ea_a732_803253a1022erow27_col1\" class=\"data row27 col1\" >None</td>\n",
       "            </tr>\n",
       "            <tr>\n",
       "                        <th id=\"T_8f677106_cf50_11ea_a732_803253a1022elevel0_row28\" class=\"row_heading level0 row28\" >28</th>\n",
       "                        <td id=\"T_8f677106_cf50_11ea_a732_803253a1022erow28_col0\" class=\"data row28 col0\" >Remove Multicollinearity </td>\n",
       "                        <td id=\"T_8f677106_cf50_11ea_a732_803253a1022erow28_col1\" class=\"data row28 col1\" >False</td>\n",
       "            </tr>\n",
       "            <tr>\n",
       "                        <th id=\"T_8f677106_cf50_11ea_a732_803253a1022elevel0_row29\" class=\"row_heading level0 row29\" >29</th>\n",
       "                        <td id=\"T_8f677106_cf50_11ea_a732_803253a1022erow29_col0\" class=\"data row29 col0\" >Multicollinearity Threshold </td>\n",
       "                        <td id=\"T_8f677106_cf50_11ea_a732_803253a1022erow29_col1\" class=\"data row29 col1\" >None</td>\n",
       "            </tr>\n",
       "            <tr>\n",
       "                        <th id=\"T_8f677106_cf50_11ea_a732_803253a1022elevel0_row30\" class=\"row_heading level0 row30\" >30</th>\n",
       "                        <td id=\"T_8f677106_cf50_11ea_a732_803253a1022erow30_col0\" class=\"data row30 col0\" >Clustering </td>\n",
       "                        <td id=\"T_8f677106_cf50_11ea_a732_803253a1022erow30_col1\" class=\"data row30 col1\" >False</td>\n",
       "            </tr>\n",
       "            <tr>\n",
       "                        <th id=\"T_8f677106_cf50_11ea_a732_803253a1022elevel0_row31\" class=\"row_heading level0 row31\" >31</th>\n",
       "                        <td id=\"T_8f677106_cf50_11ea_a732_803253a1022erow31_col0\" class=\"data row31 col0\" >Clustering Iteration </td>\n",
       "                        <td id=\"T_8f677106_cf50_11ea_a732_803253a1022erow31_col1\" class=\"data row31 col1\" >None</td>\n",
       "            </tr>\n",
       "            <tr>\n",
       "                        <th id=\"T_8f677106_cf50_11ea_a732_803253a1022elevel0_row32\" class=\"row_heading level0 row32\" >32</th>\n",
       "                        <td id=\"T_8f677106_cf50_11ea_a732_803253a1022erow32_col0\" class=\"data row32 col0\" >Polynomial Features </td>\n",
       "                        <td id=\"T_8f677106_cf50_11ea_a732_803253a1022erow32_col1\" class=\"data row32 col1\" >False</td>\n",
       "            </tr>\n",
       "            <tr>\n",
       "                        <th id=\"T_8f677106_cf50_11ea_a732_803253a1022elevel0_row33\" class=\"row_heading level0 row33\" >33</th>\n",
       "                        <td id=\"T_8f677106_cf50_11ea_a732_803253a1022erow33_col0\" class=\"data row33 col0\" >Polynomial Degree </td>\n",
       "                        <td id=\"T_8f677106_cf50_11ea_a732_803253a1022erow33_col1\" class=\"data row33 col1\" >None</td>\n",
       "            </tr>\n",
       "            <tr>\n",
       "                        <th id=\"T_8f677106_cf50_11ea_a732_803253a1022elevel0_row34\" class=\"row_heading level0 row34\" >34</th>\n",
       "                        <td id=\"T_8f677106_cf50_11ea_a732_803253a1022erow34_col0\" class=\"data row34 col0\" >Trignometry Features </td>\n",
       "                        <td id=\"T_8f677106_cf50_11ea_a732_803253a1022erow34_col1\" class=\"data row34 col1\" >False</td>\n",
       "            </tr>\n",
       "            <tr>\n",
       "                        <th id=\"T_8f677106_cf50_11ea_a732_803253a1022elevel0_row35\" class=\"row_heading level0 row35\" >35</th>\n",
       "                        <td id=\"T_8f677106_cf50_11ea_a732_803253a1022erow35_col0\" class=\"data row35 col0\" >Polynomial Threshold </td>\n",
       "                        <td id=\"T_8f677106_cf50_11ea_a732_803253a1022erow35_col1\" class=\"data row35 col1\" >None</td>\n",
       "            </tr>\n",
       "            <tr>\n",
       "                        <th id=\"T_8f677106_cf50_11ea_a732_803253a1022elevel0_row36\" class=\"row_heading level0 row36\" >36</th>\n",
       "                        <td id=\"T_8f677106_cf50_11ea_a732_803253a1022erow36_col0\" class=\"data row36 col0\" >Group Features </td>\n",
       "                        <td id=\"T_8f677106_cf50_11ea_a732_803253a1022erow36_col1\" class=\"data row36 col1\" >False</td>\n",
       "            </tr>\n",
       "            <tr>\n",
       "                        <th id=\"T_8f677106_cf50_11ea_a732_803253a1022elevel0_row37\" class=\"row_heading level0 row37\" >37</th>\n",
       "                        <td id=\"T_8f677106_cf50_11ea_a732_803253a1022erow37_col0\" class=\"data row37 col0\" >Feature Selection </td>\n",
       "                        <td id=\"T_8f677106_cf50_11ea_a732_803253a1022erow37_col1\" class=\"data row37 col1\" >False</td>\n",
       "            </tr>\n",
       "            <tr>\n",
       "                        <th id=\"T_8f677106_cf50_11ea_a732_803253a1022elevel0_row38\" class=\"row_heading level0 row38\" >38</th>\n",
       "                        <td id=\"T_8f677106_cf50_11ea_a732_803253a1022erow38_col0\" class=\"data row38 col0\" >Features Selection Threshold </td>\n",
       "                        <td id=\"T_8f677106_cf50_11ea_a732_803253a1022erow38_col1\" class=\"data row38 col1\" >None</td>\n",
       "            </tr>\n",
       "            <tr>\n",
       "                        <th id=\"T_8f677106_cf50_11ea_a732_803253a1022elevel0_row39\" class=\"row_heading level0 row39\" >39</th>\n",
       "                        <td id=\"T_8f677106_cf50_11ea_a732_803253a1022erow39_col0\" class=\"data row39 col0\" >Feature Interaction </td>\n",
       "                        <td id=\"T_8f677106_cf50_11ea_a732_803253a1022erow39_col1\" class=\"data row39 col1\" >False</td>\n",
       "            </tr>\n",
       "            <tr>\n",
       "                        <th id=\"T_8f677106_cf50_11ea_a732_803253a1022elevel0_row40\" class=\"row_heading level0 row40\" >40</th>\n",
       "                        <td id=\"T_8f677106_cf50_11ea_a732_803253a1022erow40_col0\" class=\"data row40 col0\" >Feature Ratio </td>\n",
       "                        <td id=\"T_8f677106_cf50_11ea_a732_803253a1022erow40_col1\" class=\"data row40 col1\" >False</td>\n",
       "            </tr>\n",
       "            <tr>\n",
       "                        <th id=\"T_8f677106_cf50_11ea_a732_803253a1022elevel0_row41\" class=\"row_heading level0 row41\" >41</th>\n",
       "                        <td id=\"T_8f677106_cf50_11ea_a732_803253a1022erow41_col0\" class=\"data row41 col0\" >Interaction Threshold </td>\n",
       "                        <td id=\"T_8f677106_cf50_11ea_a732_803253a1022erow41_col1\" class=\"data row41 col1\" >None</td>\n",
       "            </tr>\n",
       "    </tbody></table>"
      ],
      "text/plain": [
       "<pandas.io.formats.style.Styler at 0x291c6690288>"
      ]
     },
     "metadata": {},
     "output_type": "display_data"
    }
   ],
   "source": [
    "from pycaret.classification import *\n",
    "clf=setup(data=diabetes_df,target='Class variable')"
   ]
  },
  {
   "cell_type": "code",
   "execution_count": 7,
   "metadata": {},
   "outputs": [
    {
     "data": {
      "text/html": [
       "<style  type=\"text/css\" >\n",
       "    #T_fb56d630_cf50_11ea_9d55_803253a1022e th {\n",
       "          text-align: left;\n",
       "    }    #T_fb56d630_cf50_11ea_9d55_803253a1022erow0_col0 {\n",
       "            text-align:  left;\n",
       "        }    #T_fb56d630_cf50_11ea_9d55_803253a1022erow0_col1 {\n",
       "            background-color:  yellow;\n",
       "            text-align:  left;\n",
       "        }    #T_fb56d630_cf50_11ea_9d55_803253a1022erow0_col2 {\n",
       "            : ;\n",
       "            text-align:  left;\n",
       "        }    #T_fb56d630_cf50_11ea_9d55_803253a1022erow0_col3 {\n",
       "            : ;\n",
       "            text-align:  left;\n",
       "        }    #T_fb56d630_cf50_11ea_9d55_803253a1022erow0_col4 {\n",
       "            background-color:  yellow;\n",
       "            text-align:  left;\n",
       "        }    #T_fb56d630_cf50_11ea_9d55_803253a1022erow0_col5 {\n",
       "            : ;\n",
       "            text-align:  left;\n",
       "        }    #T_fb56d630_cf50_11ea_9d55_803253a1022erow0_col6 {\n",
       "            background-color:  yellow;\n",
       "            text-align:  left;\n",
       "        }    #T_fb56d630_cf50_11ea_9d55_803253a1022erow1_col0 {\n",
       "            text-align:  left;\n",
       "        }    #T_fb56d630_cf50_11ea_9d55_803253a1022erow1_col1 {\n",
       "            : ;\n",
       "            text-align:  left;\n",
       "        }    #T_fb56d630_cf50_11ea_9d55_803253a1022erow1_col2 {\n",
       "            background-color:  yellow;\n",
       "            text-align:  left;\n",
       "        }    #T_fb56d630_cf50_11ea_9d55_803253a1022erow1_col3 {\n",
       "            : ;\n",
       "            text-align:  left;\n",
       "        }    #T_fb56d630_cf50_11ea_9d55_803253a1022erow1_col4 {\n",
       "            : ;\n",
       "            text-align:  left;\n",
       "        }    #T_fb56d630_cf50_11ea_9d55_803253a1022erow1_col5 {\n",
       "            : ;\n",
       "            text-align:  left;\n",
       "        }    #T_fb56d630_cf50_11ea_9d55_803253a1022erow1_col6 {\n",
       "            : ;\n",
       "            text-align:  left;\n",
       "        }    #T_fb56d630_cf50_11ea_9d55_803253a1022erow2_col0 {\n",
       "            text-align:  left;\n",
       "        }    #T_fb56d630_cf50_11ea_9d55_803253a1022erow2_col1 {\n",
       "            : ;\n",
       "            text-align:  left;\n",
       "        }    #T_fb56d630_cf50_11ea_9d55_803253a1022erow2_col2 {\n",
       "            : ;\n",
       "            text-align:  left;\n",
       "        }    #T_fb56d630_cf50_11ea_9d55_803253a1022erow2_col3 {\n",
       "            : ;\n",
       "            text-align:  left;\n",
       "        }    #T_fb56d630_cf50_11ea_9d55_803253a1022erow2_col4 {\n",
       "            : ;\n",
       "            text-align:  left;\n",
       "        }    #T_fb56d630_cf50_11ea_9d55_803253a1022erow2_col5 {\n",
       "            : ;\n",
       "            text-align:  left;\n",
       "        }    #T_fb56d630_cf50_11ea_9d55_803253a1022erow2_col6 {\n",
       "            : ;\n",
       "            text-align:  left;\n",
       "        }    #T_fb56d630_cf50_11ea_9d55_803253a1022erow3_col0 {\n",
       "            text-align:  left;\n",
       "        }    #T_fb56d630_cf50_11ea_9d55_803253a1022erow3_col1 {\n",
       "            : ;\n",
       "            text-align:  left;\n",
       "        }    #T_fb56d630_cf50_11ea_9d55_803253a1022erow3_col2 {\n",
       "            : ;\n",
       "            text-align:  left;\n",
       "        }    #T_fb56d630_cf50_11ea_9d55_803253a1022erow3_col3 {\n",
       "            : ;\n",
       "            text-align:  left;\n",
       "        }    #T_fb56d630_cf50_11ea_9d55_803253a1022erow3_col4 {\n",
       "            : ;\n",
       "            text-align:  left;\n",
       "        }    #T_fb56d630_cf50_11ea_9d55_803253a1022erow3_col5 {\n",
       "            : ;\n",
       "            text-align:  left;\n",
       "        }    #T_fb56d630_cf50_11ea_9d55_803253a1022erow3_col6 {\n",
       "            : ;\n",
       "            text-align:  left;\n",
       "        }    #T_fb56d630_cf50_11ea_9d55_803253a1022erow4_col0 {\n",
       "            text-align:  left;\n",
       "        }    #T_fb56d630_cf50_11ea_9d55_803253a1022erow4_col1 {\n",
       "            : ;\n",
       "            text-align:  left;\n",
       "        }    #T_fb56d630_cf50_11ea_9d55_803253a1022erow4_col2 {\n",
       "            : ;\n",
       "            text-align:  left;\n",
       "        }    #T_fb56d630_cf50_11ea_9d55_803253a1022erow4_col3 {\n",
       "            background-color:  yellow;\n",
       "            text-align:  left;\n",
       "        }    #T_fb56d630_cf50_11ea_9d55_803253a1022erow4_col4 {\n",
       "            : ;\n",
       "            text-align:  left;\n",
       "        }    #T_fb56d630_cf50_11ea_9d55_803253a1022erow4_col5 {\n",
       "            background-color:  yellow;\n",
       "            text-align:  left;\n",
       "        }    #T_fb56d630_cf50_11ea_9d55_803253a1022erow4_col6 {\n",
       "            : ;\n",
       "            text-align:  left;\n",
       "        }    #T_fb56d630_cf50_11ea_9d55_803253a1022erow5_col0 {\n",
       "            text-align:  left;\n",
       "        }    #T_fb56d630_cf50_11ea_9d55_803253a1022erow5_col1 {\n",
       "            : ;\n",
       "            text-align:  left;\n",
       "        }    #T_fb56d630_cf50_11ea_9d55_803253a1022erow5_col2 {\n",
       "            : ;\n",
       "            text-align:  left;\n",
       "        }    #T_fb56d630_cf50_11ea_9d55_803253a1022erow5_col3 {\n",
       "            : ;\n",
       "            text-align:  left;\n",
       "        }    #T_fb56d630_cf50_11ea_9d55_803253a1022erow5_col4 {\n",
       "            : ;\n",
       "            text-align:  left;\n",
       "        }    #T_fb56d630_cf50_11ea_9d55_803253a1022erow5_col5 {\n",
       "            : ;\n",
       "            text-align:  left;\n",
       "        }    #T_fb56d630_cf50_11ea_9d55_803253a1022erow5_col6 {\n",
       "            : ;\n",
       "            text-align:  left;\n",
       "        }    #T_fb56d630_cf50_11ea_9d55_803253a1022erow6_col0 {\n",
       "            text-align:  left;\n",
       "        }    #T_fb56d630_cf50_11ea_9d55_803253a1022erow6_col1 {\n",
       "            : ;\n",
       "            text-align:  left;\n",
       "        }    #T_fb56d630_cf50_11ea_9d55_803253a1022erow6_col2 {\n",
       "            : ;\n",
       "            text-align:  left;\n",
       "        }    #T_fb56d630_cf50_11ea_9d55_803253a1022erow6_col3 {\n",
       "            : ;\n",
       "            text-align:  left;\n",
       "        }    #T_fb56d630_cf50_11ea_9d55_803253a1022erow6_col4 {\n",
       "            : ;\n",
       "            text-align:  left;\n",
       "        }    #T_fb56d630_cf50_11ea_9d55_803253a1022erow6_col5 {\n",
       "            : ;\n",
       "            text-align:  left;\n",
       "        }    #T_fb56d630_cf50_11ea_9d55_803253a1022erow6_col6 {\n",
       "            : ;\n",
       "            text-align:  left;\n",
       "        }    #T_fb56d630_cf50_11ea_9d55_803253a1022erow7_col0 {\n",
       "            text-align:  left;\n",
       "        }    #T_fb56d630_cf50_11ea_9d55_803253a1022erow7_col1 {\n",
       "            : ;\n",
       "            text-align:  left;\n",
       "        }    #T_fb56d630_cf50_11ea_9d55_803253a1022erow7_col2 {\n",
       "            : ;\n",
       "            text-align:  left;\n",
       "        }    #T_fb56d630_cf50_11ea_9d55_803253a1022erow7_col3 {\n",
       "            : ;\n",
       "            text-align:  left;\n",
       "        }    #T_fb56d630_cf50_11ea_9d55_803253a1022erow7_col4 {\n",
       "            : ;\n",
       "            text-align:  left;\n",
       "        }    #T_fb56d630_cf50_11ea_9d55_803253a1022erow7_col5 {\n",
       "            : ;\n",
       "            text-align:  left;\n",
       "        }    #T_fb56d630_cf50_11ea_9d55_803253a1022erow7_col6 {\n",
       "            : ;\n",
       "            text-align:  left;\n",
       "        }    #T_fb56d630_cf50_11ea_9d55_803253a1022erow8_col0 {\n",
       "            text-align:  left;\n",
       "        }    #T_fb56d630_cf50_11ea_9d55_803253a1022erow8_col1 {\n",
       "            : ;\n",
       "            text-align:  left;\n",
       "        }    #T_fb56d630_cf50_11ea_9d55_803253a1022erow8_col2 {\n",
       "            : ;\n",
       "            text-align:  left;\n",
       "        }    #T_fb56d630_cf50_11ea_9d55_803253a1022erow8_col3 {\n",
       "            : ;\n",
       "            text-align:  left;\n",
       "        }    #T_fb56d630_cf50_11ea_9d55_803253a1022erow8_col4 {\n",
       "            : ;\n",
       "            text-align:  left;\n",
       "        }    #T_fb56d630_cf50_11ea_9d55_803253a1022erow8_col5 {\n",
       "            : ;\n",
       "            text-align:  left;\n",
       "        }    #T_fb56d630_cf50_11ea_9d55_803253a1022erow8_col6 {\n",
       "            : ;\n",
       "            text-align:  left;\n",
       "        }    #T_fb56d630_cf50_11ea_9d55_803253a1022erow9_col0 {\n",
       "            text-align:  left;\n",
       "        }    #T_fb56d630_cf50_11ea_9d55_803253a1022erow9_col1 {\n",
       "            : ;\n",
       "            text-align:  left;\n",
       "        }    #T_fb56d630_cf50_11ea_9d55_803253a1022erow9_col2 {\n",
       "            : ;\n",
       "            text-align:  left;\n",
       "        }    #T_fb56d630_cf50_11ea_9d55_803253a1022erow9_col3 {\n",
       "            : ;\n",
       "            text-align:  left;\n",
       "        }    #T_fb56d630_cf50_11ea_9d55_803253a1022erow9_col4 {\n",
       "            : ;\n",
       "            text-align:  left;\n",
       "        }    #T_fb56d630_cf50_11ea_9d55_803253a1022erow9_col5 {\n",
       "            : ;\n",
       "            text-align:  left;\n",
       "        }    #T_fb56d630_cf50_11ea_9d55_803253a1022erow9_col6 {\n",
       "            : ;\n",
       "            text-align:  left;\n",
       "        }    #T_fb56d630_cf50_11ea_9d55_803253a1022erow10_col0 {\n",
       "            text-align:  left;\n",
       "        }    #T_fb56d630_cf50_11ea_9d55_803253a1022erow10_col1 {\n",
       "            : ;\n",
       "            text-align:  left;\n",
       "        }    #T_fb56d630_cf50_11ea_9d55_803253a1022erow10_col2 {\n",
       "            : ;\n",
       "            text-align:  left;\n",
       "        }    #T_fb56d630_cf50_11ea_9d55_803253a1022erow10_col3 {\n",
       "            : ;\n",
       "            text-align:  left;\n",
       "        }    #T_fb56d630_cf50_11ea_9d55_803253a1022erow10_col4 {\n",
       "            : ;\n",
       "            text-align:  left;\n",
       "        }    #T_fb56d630_cf50_11ea_9d55_803253a1022erow10_col5 {\n",
       "            : ;\n",
       "            text-align:  left;\n",
       "        }    #T_fb56d630_cf50_11ea_9d55_803253a1022erow10_col6 {\n",
       "            : ;\n",
       "            text-align:  left;\n",
       "        }    #T_fb56d630_cf50_11ea_9d55_803253a1022erow11_col0 {\n",
       "            text-align:  left;\n",
       "        }    #T_fb56d630_cf50_11ea_9d55_803253a1022erow11_col1 {\n",
       "            : ;\n",
       "            text-align:  left;\n",
       "        }    #T_fb56d630_cf50_11ea_9d55_803253a1022erow11_col2 {\n",
       "            : ;\n",
       "            text-align:  left;\n",
       "        }    #T_fb56d630_cf50_11ea_9d55_803253a1022erow11_col3 {\n",
       "            : ;\n",
       "            text-align:  left;\n",
       "        }    #T_fb56d630_cf50_11ea_9d55_803253a1022erow11_col4 {\n",
       "            : ;\n",
       "            text-align:  left;\n",
       "        }    #T_fb56d630_cf50_11ea_9d55_803253a1022erow11_col5 {\n",
       "            : ;\n",
       "            text-align:  left;\n",
       "        }    #T_fb56d630_cf50_11ea_9d55_803253a1022erow11_col6 {\n",
       "            : ;\n",
       "            text-align:  left;\n",
       "        }    #T_fb56d630_cf50_11ea_9d55_803253a1022erow12_col0 {\n",
       "            text-align:  left;\n",
       "        }    #T_fb56d630_cf50_11ea_9d55_803253a1022erow12_col1 {\n",
       "            : ;\n",
       "            text-align:  left;\n",
       "        }    #T_fb56d630_cf50_11ea_9d55_803253a1022erow12_col2 {\n",
       "            : ;\n",
       "            text-align:  left;\n",
       "        }    #T_fb56d630_cf50_11ea_9d55_803253a1022erow12_col3 {\n",
       "            : ;\n",
       "            text-align:  left;\n",
       "        }    #T_fb56d630_cf50_11ea_9d55_803253a1022erow12_col4 {\n",
       "            : ;\n",
       "            text-align:  left;\n",
       "        }    #T_fb56d630_cf50_11ea_9d55_803253a1022erow12_col5 {\n",
       "            : ;\n",
       "            text-align:  left;\n",
       "        }    #T_fb56d630_cf50_11ea_9d55_803253a1022erow12_col6 {\n",
       "            : ;\n",
       "            text-align:  left;\n",
       "        }    #T_fb56d630_cf50_11ea_9d55_803253a1022erow13_col0 {\n",
       "            text-align:  left;\n",
       "        }    #T_fb56d630_cf50_11ea_9d55_803253a1022erow13_col1 {\n",
       "            : ;\n",
       "            text-align:  left;\n",
       "        }    #T_fb56d630_cf50_11ea_9d55_803253a1022erow13_col2 {\n",
       "            : ;\n",
       "            text-align:  left;\n",
       "        }    #T_fb56d630_cf50_11ea_9d55_803253a1022erow13_col3 {\n",
       "            : ;\n",
       "            text-align:  left;\n",
       "        }    #T_fb56d630_cf50_11ea_9d55_803253a1022erow13_col4 {\n",
       "            : ;\n",
       "            text-align:  left;\n",
       "        }    #T_fb56d630_cf50_11ea_9d55_803253a1022erow13_col5 {\n",
       "            : ;\n",
       "            text-align:  left;\n",
       "        }    #T_fb56d630_cf50_11ea_9d55_803253a1022erow13_col6 {\n",
       "            : ;\n",
       "            text-align:  left;\n",
       "        }    #T_fb56d630_cf50_11ea_9d55_803253a1022erow14_col0 {\n",
       "            text-align:  left;\n",
       "        }    #T_fb56d630_cf50_11ea_9d55_803253a1022erow14_col1 {\n",
       "            : ;\n",
       "            text-align:  left;\n",
       "        }    #T_fb56d630_cf50_11ea_9d55_803253a1022erow14_col2 {\n",
       "            : ;\n",
       "            text-align:  left;\n",
       "        }    #T_fb56d630_cf50_11ea_9d55_803253a1022erow14_col3 {\n",
       "            : ;\n",
       "            text-align:  left;\n",
       "        }    #T_fb56d630_cf50_11ea_9d55_803253a1022erow14_col4 {\n",
       "            : ;\n",
       "            text-align:  left;\n",
       "        }    #T_fb56d630_cf50_11ea_9d55_803253a1022erow14_col5 {\n",
       "            : ;\n",
       "            text-align:  left;\n",
       "        }    #T_fb56d630_cf50_11ea_9d55_803253a1022erow14_col6 {\n",
       "            : ;\n",
       "            text-align:  left;\n",
       "        }</style><table id=\"T_fb56d630_cf50_11ea_9d55_803253a1022e\" ><thead>    <tr>        <th class=\"blank level0\" ></th>        <th class=\"col_heading level0 col0\" >Model</th>        <th class=\"col_heading level0 col1\" >Accuracy</th>        <th class=\"col_heading level0 col2\" >AUC</th>        <th class=\"col_heading level0 col3\" >Recall</th>        <th class=\"col_heading level0 col4\" >Prec.</th>        <th class=\"col_heading level0 col5\" >F1</th>        <th class=\"col_heading level0 col6\" >Kappa</th>    </tr></thead><tbody>\n",
       "                <tr>\n",
       "                        <th id=\"T_fb56d630_cf50_11ea_9d55_803253a1022elevel0_row0\" class=\"row_heading level0 row0\" >0</th>\n",
       "                        <td id=\"T_fb56d630_cf50_11ea_9d55_803253a1022erow0_col0\" class=\"data row0 col0\" >Ridge Classifier</td>\n",
       "                        <td id=\"T_fb56d630_cf50_11ea_9d55_803253a1022erow0_col1\" class=\"data row0 col1\" >0.767100</td>\n",
       "                        <td id=\"T_fb56d630_cf50_11ea_9d55_803253a1022erow0_col2\" class=\"data row0 col2\" >0.000000</td>\n",
       "                        <td id=\"T_fb56d630_cf50_11ea_9d55_803253a1022erow0_col3\" class=\"data row0 col3\" >0.555800</td>\n",
       "                        <td id=\"T_fb56d630_cf50_11ea_9d55_803253a1022erow0_col4\" class=\"data row0 col4\" >0.712700</td>\n",
       "                        <td id=\"T_fb56d630_cf50_11ea_9d55_803253a1022erow0_col5\" class=\"data row0 col5\" >0.618600</td>\n",
       "                        <td id=\"T_fb56d630_cf50_11ea_9d55_803253a1022erow0_col6\" class=\"data row0 col6\" >0.456600</td>\n",
       "            </tr>\n",
       "            <tr>\n",
       "                        <th id=\"T_fb56d630_cf50_11ea_9d55_803253a1022elevel0_row1\" class=\"row_heading level0 row1\" >1</th>\n",
       "                        <td id=\"T_fb56d630_cf50_11ea_9d55_803253a1022erow1_col0\" class=\"data row1 col0\" >Linear Discriminant Analysis</td>\n",
       "                        <td id=\"T_fb56d630_cf50_11ea_9d55_803253a1022erow1_col1\" class=\"data row1 col1\" >0.761600</td>\n",
       "                        <td id=\"T_fb56d630_cf50_11ea_9d55_803253a1022erow1_col2\" class=\"data row1 col2\" >0.817100</td>\n",
       "                        <td id=\"T_fb56d630_cf50_11ea_9d55_803253a1022erow1_col3\" class=\"data row1 col3\" >0.555800</td>\n",
       "                        <td id=\"T_fb56d630_cf50_11ea_9d55_803253a1022erow1_col4\" class=\"data row1 col4\" >0.697500</td>\n",
       "                        <td id=\"T_fb56d630_cf50_11ea_9d55_803253a1022erow1_col5\" class=\"data row1 col5\" >0.612900</td>\n",
       "                        <td id=\"T_fb56d630_cf50_11ea_9d55_803253a1022erow1_col6\" class=\"data row1 col6\" >0.445700</td>\n",
       "            </tr>\n",
       "            <tr>\n",
       "                        <th id=\"T_fb56d630_cf50_11ea_9d55_803253a1022elevel0_row2\" class=\"row_heading level0 row2\" >2</th>\n",
       "                        <td id=\"T_fb56d630_cf50_11ea_9d55_803253a1022erow2_col0\" class=\"data row2 col0\" >Logistic Regression</td>\n",
       "                        <td id=\"T_fb56d630_cf50_11ea_9d55_803253a1022erow2_col1\" class=\"data row2 col1\" >0.750500</td>\n",
       "                        <td id=\"T_fb56d630_cf50_11ea_9d55_803253a1022erow2_col2\" class=\"data row2 col2\" >0.808500</td>\n",
       "                        <td id=\"T_fb56d630_cf50_11ea_9d55_803253a1022erow2_col3\" class=\"data row2 col3\" >0.566700</td>\n",
       "                        <td id=\"T_fb56d630_cf50_11ea_9d55_803253a1022erow2_col4\" class=\"data row2 col4\" >0.669900</td>\n",
       "                        <td id=\"T_fb56d630_cf50_11ea_9d55_803253a1022erow2_col5\" class=\"data row2 col5\" >0.608000</td>\n",
       "                        <td id=\"T_fb56d630_cf50_11ea_9d55_803253a1022erow2_col6\" class=\"data row2 col6\" >0.428400</td>\n",
       "            </tr>\n",
       "            <tr>\n",
       "                        <th id=\"T_fb56d630_cf50_11ea_9d55_803253a1022elevel0_row3\" class=\"row_heading level0 row3\" >3</th>\n",
       "                        <td id=\"T_fb56d630_cf50_11ea_9d55_803253a1022erow3_col0\" class=\"data row3 col0\" >Ada Boost Classifier</td>\n",
       "                        <td id=\"T_fb56d630_cf50_11ea_9d55_803253a1022erow3_col1\" class=\"data row3 col1\" >0.750500</td>\n",
       "                        <td id=\"T_fb56d630_cf50_11ea_9d55_803253a1022erow3_col2\" class=\"data row3 col2\" >0.781200</td>\n",
       "                        <td id=\"T_fb56d630_cf50_11ea_9d55_803253a1022erow3_col3\" class=\"data row3 col3\" >0.587400</td>\n",
       "                        <td id=\"T_fb56d630_cf50_11ea_9d55_803253a1022erow3_col4\" class=\"data row3 col4\" >0.664300</td>\n",
       "                        <td id=\"T_fb56d630_cf50_11ea_9d55_803253a1022erow3_col5\" class=\"data row3 col5\" >0.618400</td>\n",
       "                        <td id=\"T_fb56d630_cf50_11ea_9d55_803253a1022erow3_col6\" class=\"data row3 col6\" >0.435100</td>\n",
       "            </tr>\n",
       "            <tr>\n",
       "                        <th id=\"T_fb56d630_cf50_11ea_9d55_803253a1022elevel0_row4\" class=\"row_heading level0 row4\" >4</th>\n",
       "                        <td id=\"T_fb56d630_cf50_11ea_9d55_803253a1022erow4_col0\" class=\"data row4 col0\" >Extreme Gradient Boosting</td>\n",
       "                        <td id=\"T_fb56d630_cf50_11ea_9d55_803253a1022erow4_col1\" class=\"data row4 col1\" >0.750500</td>\n",
       "                        <td id=\"T_fb56d630_cf50_11ea_9d55_803253a1022erow4_col2\" class=\"data row4 col2\" >0.814900</td>\n",
       "                        <td id=\"T_fb56d630_cf50_11ea_9d55_803253a1022erow4_col3\" class=\"data row4 col3\" >0.614000</td>\n",
       "                        <td id=\"T_fb56d630_cf50_11ea_9d55_803253a1022erow4_col4\" class=\"data row4 col4\" >0.649400</td>\n",
       "                        <td id=\"T_fb56d630_cf50_11ea_9d55_803253a1022erow4_col5\" class=\"data row4 col5\" >0.628000</td>\n",
       "                        <td id=\"T_fb56d630_cf50_11ea_9d55_803253a1022erow4_col6\" class=\"data row4 col6\" >0.441100</td>\n",
       "            </tr>\n",
       "            <tr>\n",
       "                        <th id=\"T_fb56d630_cf50_11ea_9d55_803253a1022elevel0_row5\" class=\"row_heading level0 row5\" >5</th>\n",
       "                        <td id=\"T_fb56d630_cf50_11ea_9d55_803253a1022erow5_col0\" class=\"data row5 col0\" >Random Forest Classifier</td>\n",
       "                        <td id=\"T_fb56d630_cf50_11ea_9d55_803253a1022erow5_col1\" class=\"data row5 col1\" >0.748500</td>\n",
       "                        <td id=\"T_fb56d630_cf50_11ea_9d55_803253a1022erow5_col2\" class=\"data row5 col2\" >0.786000</td>\n",
       "                        <td id=\"T_fb56d630_cf50_11ea_9d55_803253a1022erow5_col3\" class=\"data row5 col3\" >0.491500</td>\n",
       "                        <td id=\"T_fb56d630_cf50_11ea_9d55_803253a1022erow5_col4\" class=\"data row5 col4\" >0.712000</td>\n",
       "                        <td id=\"T_fb56d630_cf50_11ea_9d55_803253a1022erow5_col5\" class=\"data row5 col5\" >0.577300</td>\n",
       "                        <td id=\"T_fb56d630_cf50_11ea_9d55_803253a1022erow5_col6\" class=\"data row5 col6\" >0.406200</td>\n",
       "            </tr>\n",
       "            <tr>\n",
       "                        <th id=\"T_fb56d630_cf50_11ea_9d55_803253a1022elevel0_row6\" class=\"row_heading level0 row6\" >6</th>\n",
       "                        <td id=\"T_fb56d630_cf50_11ea_9d55_803253a1022erow6_col0\" class=\"data row6 col0\" >Gradient Boosting Classifier</td>\n",
       "                        <td id=\"T_fb56d630_cf50_11ea_9d55_803253a1022erow6_col1\" class=\"data row6 col1\" >0.743100</td>\n",
       "                        <td id=\"T_fb56d630_cf50_11ea_9d55_803253a1022erow6_col2\" class=\"data row6 col2\" >0.812500</td>\n",
       "                        <td id=\"T_fb56d630_cf50_11ea_9d55_803253a1022erow6_col3\" class=\"data row6 col3\" >0.561100</td>\n",
       "                        <td id=\"T_fb56d630_cf50_11ea_9d55_803253a1022erow6_col4\" class=\"data row6 col4\" >0.663800</td>\n",
       "                        <td id=\"T_fb56d630_cf50_11ea_9d55_803253a1022erow6_col5\" class=\"data row6 col5\" >0.600500</td>\n",
       "                        <td id=\"T_fb56d630_cf50_11ea_9d55_803253a1022erow6_col6\" class=\"data row6 col6\" >0.414400</td>\n",
       "            </tr>\n",
       "            <tr>\n",
       "                        <th id=\"T_fb56d630_cf50_11ea_9d55_803253a1022elevel0_row7\" class=\"row_heading level0 row7\" >7</th>\n",
       "                        <td id=\"T_fb56d630_cf50_11ea_9d55_803253a1022erow7_col0\" class=\"data row7 col0\" >CatBoost Classifier</td>\n",
       "                        <td id=\"T_fb56d630_cf50_11ea_9d55_803253a1022erow7_col1\" class=\"data row7 col1\" >0.741300</td>\n",
       "                        <td id=\"T_fb56d630_cf50_11ea_9d55_803253a1022erow7_col2\" class=\"data row7 col2\" >0.810800</td>\n",
       "                        <td id=\"T_fb56d630_cf50_11ea_9d55_803253a1022erow7_col3\" class=\"data row7 col3\" >0.577200</td>\n",
       "                        <td id=\"T_fb56d630_cf50_11ea_9d55_803253a1022erow7_col4\" class=\"data row7 col4\" >0.649100</td>\n",
       "                        <td id=\"T_fb56d630_cf50_11ea_9d55_803253a1022erow7_col5\" class=\"data row7 col5\" >0.605500</td>\n",
       "                        <td id=\"T_fb56d630_cf50_11ea_9d55_803253a1022erow7_col6\" class=\"data row7 col6\" >0.415100</td>\n",
       "            </tr>\n",
       "            <tr>\n",
       "                        <th id=\"T_fb56d630_cf50_11ea_9d55_803253a1022elevel0_row8\" class=\"row_heading level0 row8\" >8</th>\n",
       "                        <td id=\"T_fb56d630_cf50_11ea_9d55_803253a1022erow8_col0\" class=\"data row8 col0\" >Extra Trees Classifier</td>\n",
       "                        <td id=\"T_fb56d630_cf50_11ea_9d55_803253a1022erow8_col1\" class=\"data row8 col1\" >0.728300</td>\n",
       "                        <td id=\"T_fb56d630_cf50_11ea_9d55_803253a1022erow8_col2\" class=\"data row8 col2\" >0.778900</td>\n",
       "                        <td id=\"T_fb56d630_cf50_11ea_9d55_803253a1022erow8_col3\" class=\"data row8 col3\" >0.471100</td>\n",
       "                        <td id=\"T_fb56d630_cf50_11ea_9d55_803253a1022erow8_col4\" class=\"data row8 col4\" >0.658100</td>\n",
       "                        <td id=\"T_fb56d630_cf50_11ea_9d55_803253a1022erow8_col5\" class=\"data row8 col5\" >0.542100</td>\n",
       "                        <td id=\"T_fb56d630_cf50_11ea_9d55_803253a1022erow8_col6\" class=\"data row8 col6\" >0.359000</td>\n",
       "            </tr>\n",
       "            <tr>\n",
       "                        <th id=\"T_fb56d630_cf50_11ea_9d55_803253a1022elevel0_row9\" class=\"row_heading level0 row9\" >9</th>\n",
       "                        <td id=\"T_fb56d630_cf50_11ea_9d55_803253a1022erow9_col0\" class=\"data row9 col0\" >Light Gradient Boosting Machine</td>\n",
       "                        <td id=\"T_fb56d630_cf50_11ea_9d55_803253a1022erow9_col1\" class=\"data row9 col1\" >0.720800</td>\n",
       "                        <td id=\"T_fb56d630_cf50_11ea_9d55_803253a1022erow9_col2\" class=\"data row9 col2\" >0.787300</td>\n",
       "                        <td id=\"T_fb56d630_cf50_11ea_9d55_803253a1022erow9_col3\" class=\"data row9 col3\" >0.561400</td>\n",
       "                        <td id=\"T_fb56d630_cf50_11ea_9d55_803253a1022erow9_col4\" class=\"data row9 col4\" >0.610700</td>\n",
       "                        <td id=\"T_fb56d630_cf50_11ea_9d55_803253a1022erow9_col5\" class=\"data row9 col5\" >0.580500</td>\n",
       "                        <td id=\"T_fb56d630_cf50_11ea_9d55_803253a1022erow9_col6\" class=\"data row9 col6\" >0.373000</td>\n",
       "            </tr>\n",
       "            <tr>\n",
       "                        <th id=\"T_fb56d630_cf50_11ea_9d55_803253a1022elevel0_row10\" class=\"row_heading level0 row10\" >10</th>\n",
       "                        <td id=\"T_fb56d630_cf50_11ea_9d55_803253a1022erow10_col0\" class=\"data row10 col0\" >Decision Tree Classifier</td>\n",
       "                        <td id=\"T_fb56d630_cf50_11ea_9d55_803253a1022erow10_col1\" class=\"data row10 col1\" >0.713400</td>\n",
       "                        <td id=\"T_fb56d630_cf50_11ea_9d55_803253a1022erow10_col2\" class=\"data row10 col2\" >0.683400</td>\n",
       "                        <td id=\"T_fb56d630_cf50_11ea_9d55_803253a1022erow10_col3\" class=\"data row10 col3\" >0.583900</td>\n",
       "                        <td id=\"T_fb56d630_cf50_11ea_9d55_803253a1022erow10_col4\" class=\"data row10 col4\" >0.590600</td>\n",
       "                        <td id=\"T_fb56d630_cf50_11ea_9d55_803253a1022erow10_col5\" class=\"data row10 col5\" >0.584700</td>\n",
       "                        <td id=\"T_fb56d630_cf50_11ea_9d55_803253a1022erow10_col6\" class=\"data row10 col6\" >0.366700</td>\n",
       "            </tr>\n",
       "            <tr>\n",
       "                        <th id=\"T_fb56d630_cf50_11ea_9d55_803253a1022elevel0_row11\" class=\"row_heading level0 row11\" >11</th>\n",
       "                        <td id=\"T_fb56d630_cf50_11ea_9d55_803253a1022erow11_col0\" class=\"data row11 col0\" >K Neighbors Classifier</td>\n",
       "                        <td id=\"T_fb56d630_cf50_11ea_9d55_803253a1022erow11_col1\" class=\"data row11 col1\" >0.711500</td>\n",
       "                        <td id=\"T_fb56d630_cf50_11ea_9d55_803253a1022erow11_col2\" class=\"data row11 col2\" >0.733800</td>\n",
       "                        <td id=\"T_fb56d630_cf50_11ea_9d55_803253a1022erow11_col3\" class=\"data row11 col3\" >0.540100</td>\n",
       "                        <td id=\"T_fb56d630_cf50_11ea_9d55_803253a1022erow11_col4\" class=\"data row11 col4\" >0.595100</td>\n",
       "                        <td id=\"T_fb56d630_cf50_11ea_9d55_803253a1022erow11_col5\" class=\"data row11 col5\" >0.564000</td>\n",
       "                        <td id=\"T_fb56d630_cf50_11ea_9d55_803253a1022erow11_col6\" class=\"data row11 col6\" >0.349700</td>\n",
       "            </tr>\n",
       "            <tr>\n",
       "                        <th id=\"T_fb56d630_cf50_11ea_9d55_803253a1022elevel0_row12\" class=\"row_heading level0 row12\" >12</th>\n",
       "                        <td id=\"T_fb56d630_cf50_11ea_9d55_803253a1022erow12_col0\" class=\"data row12 col0\" >Naive Bayes</td>\n",
       "                        <td id=\"T_fb56d630_cf50_11ea_9d55_803253a1022erow12_col1\" class=\"data row12 col1\" >0.689200</td>\n",
       "                        <td id=\"T_fb56d630_cf50_11ea_9d55_803253a1022erow12_col2\" class=\"data row12 col2\" >0.747800</td>\n",
       "                        <td id=\"T_fb56d630_cf50_11ea_9d55_803253a1022erow12_col3\" class=\"data row12 col3\" >0.305300</td>\n",
       "                        <td id=\"T_fb56d630_cf50_11ea_9d55_803253a1022erow12_col4\" class=\"data row12 col4\" >0.626000</td>\n",
       "                        <td id=\"T_fb56d630_cf50_11ea_9d55_803253a1022erow12_col5\" class=\"data row12 col5\" >0.402300</td>\n",
       "                        <td id=\"T_fb56d630_cf50_11ea_9d55_803253a1022erow12_col6\" class=\"data row12 col6\" >0.226300</td>\n",
       "            </tr>\n",
       "            <tr>\n",
       "                        <th id=\"T_fb56d630_cf50_11ea_9d55_803253a1022elevel0_row13\" class=\"row_heading level0 row13\" >13</th>\n",
       "                        <td id=\"T_fb56d630_cf50_11ea_9d55_803253a1022erow13_col0\" class=\"data row13 col0\" >Quadratic Discriminant Analysis</td>\n",
       "                        <td id=\"T_fb56d630_cf50_11ea_9d55_803253a1022erow13_col1\" class=\"data row13 col1\" >0.638500</td>\n",
       "                        <td id=\"T_fb56d630_cf50_11ea_9d55_803253a1022erow13_col2\" class=\"data row13 col2\" >0.611700</td>\n",
       "                        <td id=\"T_fb56d630_cf50_11ea_9d55_803253a1022erow13_col3\" class=\"data row13 col3\" >0.321300</td>\n",
       "                        <td id=\"T_fb56d630_cf50_11ea_9d55_803253a1022erow13_col4\" class=\"data row13 col4\" >0.488900</td>\n",
       "                        <td id=\"T_fb56d630_cf50_11ea_9d55_803253a1022erow13_col5\" class=\"data row13 col5\" >0.326300</td>\n",
       "                        <td id=\"T_fb56d630_cf50_11ea_9d55_803253a1022erow13_col6\" class=\"data row13 col6\" >0.132400</td>\n",
       "            </tr>\n",
       "            <tr>\n",
       "                        <th id=\"T_fb56d630_cf50_11ea_9d55_803253a1022elevel0_row14\" class=\"row_heading level0 row14\" >14</th>\n",
       "                        <td id=\"T_fb56d630_cf50_11ea_9d55_803253a1022erow14_col0\" class=\"data row14 col0\" >SVM - Linear Kernel</td>\n",
       "                        <td id=\"T_fb56d630_cf50_11ea_9d55_803253a1022erow14_col1\" class=\"data row14 col1\" >0.585300</td>\n",
       "                        <td id=\"T_fb56d630_cf50_11ea_9d55_803253a1022erow14_col2\" class=\"data row14 col2\" >0.000000</td>\n",
       "                        <td id=\"T_fb56d630_cf50_11ea_9d55_803253a1022erow14_col3\" class=\"data row14 col3\" >0.465200</td>\n",
       "                        <td id=\"T_fb56d630_cf50_11ea_9d55_803253a1022erow14_col4\" class=\"data row14 col4\" >0.392700</td>\n",
       "                        <td id=\"T_fb56d630_cf50_11ea_9d55_803253a1022erow14_col5\" class=\"data row14 col5\" >0.410800</td>\n",
       "                        <td id=\"T_fb56d630_cf50_11ea_9d55_803253a1022erow14_col6\" class=\"data row14 col6\" >0.112300</td>\n",
       "            </tr>\n",
       "    </tbody></table>"
      ],
      "text/plain": [
       "<pandas.io.formats.style.Styler at 0x291c8da3b88>"
      ]
     },
     "execution_count": 7,
     "metadata": {},
     "output_type": "execute_result"
    }
   ],
   "source": [
    "#### Comparing models\n",
    "compare_models()"
   ]
  },
  {
   "cell_type": "markdown",
   "metadata": {},
   "source": [
    "##### Regression Problem"
   ]
  },
  {
   "cell_type": "code",
   "execution_count": 11,
   "metadata": {},
   "outputs": [
    {
     "data": {
      "text/html": [
       "<div>\n",
       "<style scoped>\n",
       "    .dataframe tbody tr th:only-of-type {\n",
       "        vertical-align: middle;\n",
       "    }\n",
       "\n",
       "    .dataframe tbody tr th {\n",
       "        vertical-align: top;\n",
       "    }\n",
       "\n",
       "    .dataframe thead th {\n",
       "        text-align: right;\n",
       "    }\n",
       "</style>\n",
       "<table border=\"1\" class=\"dataframe\">\n",
       "  <thead>\n",
       "    <tr style=\"text-align: right;\">\n",
       "      <th></th>\n",
       "      <th>crim</th>\n",
       "      <th>zn</th>\n",
       "      <th>indus</th>\n",
       "      <th>chas</th>\n",
       "      <th>nox</th>\n",
       "      <th>rm</th>\n",
       "      <th>age</th>\n",
       "      <th>dis</th>\n",
       "      <th>rad</th>\n",
       "      <th>tax</th>\n",
       "      <th>ptratio</th>\n",
       "      <th>black</th>\n",
       "      <th>lstat</th>\n",
       "      <th>medv</th>\n",
       "    </tr>\n",
       "  </thead>\n",
       "  <tbody>\n",
       "    <tr>\n",
       "      <th>0</th>\n",
       "      <td>0.00632</td>\n",
       "      <td>18.0</td>\n",
       "      <td>2.31</td>\n",
       "      <td>0</td>\n",
       "      <td>0.538</td>\n",
       "      <td>6.575</td>\n",
       "      <td>65.2</td>\n",
       "      <td>4.0900</td>\n",
       "      <td>1</td>\n",
       "      <td>296</td>\n",
       "      <td>15.3</td>\n",
       "      <td>396.90</td>\n",
       "      <td>4.98</td>\n",
       "      <td>24.0</td>\n",
       "    </tr>\n",
       "    <tr>\n",
       "      <th>1</th>\n",
       "      <td>0.02731</td>\n",
       "      <td>0.0</td>\n",
       "      <td>7.07</td>\n",
       "      <td>0</td>\n",
       "      <td>0.469</td>\n",
       "      <td>6.421</td>\n",
       "      <td>78.9</td>\n",
       "      <td>4.9671</td>\n",
       "      <td>2</td>\n",
       "      <td>242</td>\n",
       "      <td>17.8</td>\n",
       "      <td>396.90</td>\n",
       "      <td>9.14</td>\n",
       "      <td>21.6</td>\n",
       "    </tr>\n",
       "    <tr>\n",
       "      <th>2</th>\n",
       "      <td>0.02729</td>\n",
       "      <td>0.0</td>\n",
       "      <td>7.07</td>\n",
       "      <td>0</td>\n",
       "      <td>0.469</td>\n",
       "      <td>7.185</td>\n",
       "      <td>61.1</td>\n",
       "      <td>4.9671</td>\n",
       "      <td>2</td>\n",
       "      <td>242</td>\n",
       "      <td>17.8</td>\n",
       "      <td>392.83</td>\n",
       "      <td>4.03</td>\n",
       "      <td>34.7</td>\n",
       "    </tr>\n",
       "    <tr>\n",
       "      <th>3</th>\n",
       "      <td>0.03237</td>\n",
       "      <td>0.0</td>\n",
       "      <td>2.18</td>\n",
       "      <td>0</td>\n",
       "      <td>0.458</td>\n",
       "      <td>6.998</td>\n",
       "      <td>45.8</td>\n",
       "      <td>6.0622</td>\n",
       "      <td>3</td>\n",
       "      <td>222</td>\n",
       "      <td>18.7</td>\n",
       "      <td>394.63</td>\n",
       "      <td>2.94</td>\n",
       "      <td>33.4</td>\n",
       "    </tr>\n",
       "    <tr>\n",
       "      <th>4</th>\n",
       "      <td>0.06905</td>\n",
       "      <td>0.0</td>\n",
       "      <td>2.18</td>\n",
       "      <td>0</td>\n",
       "      <td>0.458</td>\n",
       "      <td>7.147</td>\n",
       "      <td>54.2</td>\n",
       "      <td>6.0622</td>\n",
       "      <td>3</td>\n",
       "      <td>222</td>\n",
       "      <td>18.7</td>\n",
       "      <td>396.90</td>\n",
       "      <td>5.33</td>\n",
       "      <td>36.2</td>\n",
       "    </tr>\n",
       "  </tbody>\n",
       "</table>\n",
       "</div>"
      ],
      "text/plain": [
       "      crim    zn  indus  chas    nox     rm   age     dis  rad  tax  ptratio  \\\n",
       "0  0.00632  18.0   2.31     0  0.538  6.575  65.2  4.0900    1  296     15.3   \n",
       "1  0.02731   0.0   7.07     0  0.469  6.421  78.9  4.9671    2  242     17.8   \n",
       "2  0.02729   0.0   7.07     0  0.469  7.185  61.1  4.9671    2  242     17.8   \n",
       "3  0.03237   0.0   2.18     0  0.458  6.998  45.8  6.0622    3  222     18.7   \n",
       "4  0.06905   0.0   2.18     0  0.458  7.147  54.2  6.0622    3  222     18.7   \n",
       "\n",
       "    black  lstat  medv  \n",
       "0  396.90   4.98  24.0  \n",
       "1  396.90   9.14  21.6  \n",
       "2  392.83   4.03  34.7  \n",
       "3  394.63   2.94  33.4  \n",
       "4  396.90   5.33  36.2  "
      ]
     },
     "metadata": {},
     "output_type": "display_data"
    }
   ],
   "source": [
    "boston_df=get_data('boston')"
   ]
  },
  {
   "cell_type": "code",
   "execution_count": 12,
   "metadata": {},
   "outputs": [],
   "source": [
    "from pycaret.regression import *"
   ]
  },
  {
   "cell_type": "code",
   "execution_count": 13,
   "metadata": {},
   "outputs": [
    {
     "name": "stdout",
     "output_type": "stream",
     "text": [
      " \n",
      "Setup Succesfully Completed!\n"
     ]
    },
    {
     "data": {
      "text/html": [
       "<style  type=\"text/css\" >\n",
       "</style><table id=\"T_e635e602_cf51_11ea_abd4_803253a1022e\" ><thead>    <tr>        <th class=\"blank level0\" ></th>        <th class=\"col_heading level0 col0\" >Description</th>        <th class=\"col_heading level0 col1\" >Value</th>    </tr></thead><tbody>\n",
       "                <tr>\n",
       "                        <th id=\"T_e635e602_cf51_11ea_abd4_803253a1022elevel0_row0\" class=\"row_heading level0 row0\" >0</th>\n",
       "                        <td id=\"T_e635e602_cf51_11ea_abd4_803253a1022erow0_col0\" class=\"data row0 col0\" >session_id</td>\n",
       "                        <td id=\"T_e635e602_cf51_11ea_abd4_803253a1022erow0_col1\" class=\"data row0 col1\" >8375</td>\n",
       "            </tr>\n",
       "            <tr>\n",
       "                        <th id=\"T_e635e602_cf51_11ea_abd4_803253a1022elevel0_row1\" class=\"row_heading level0 row1\" >1</th>\n",
       "                        <td id=\"T_e635e602_cf51_11ea_abd4_803253a1022erow1_col0\" class=\"data row1 col0\" >Transform Target </td>\n",
       "                        <td id=\"T_e635e602_cf51_11ea_abd4_803253a1022erow1_col1\" class=\"data row1 col1\" >False</td>\n",
       "            </tr>\n",
       "            <tr>\n",
       "                        <th id=\"T_e635e602_cf51_11ea_abd4_803253a1022elevel0_row2\" class=\"row_heading level0 row2\" >2</th>\n",
       "                        <td id=\"T_e635e602_cf51_11ea_abd4_803253a1022erow2_col0\" class=\"data row2 col0\" >Transform Target Method</td>\n",
       "                        <td id=\"T_e635e602_cf51_11ea_abd4_803253a1022erow2_col1\" class=\"data row2 col1\" >None</td>\n",
       "            </tr>\n",
       "            <tr>\n",
       "                        <th id=\"T_e635e602_cf51_11ea_abd4_803253a1022elevel0_row3\" class=\"row_heading level0 row3\" >3</th>\n",
       "                        <td id=\"T_e635e602_cf51_11ea_abd4_803253a1022erow3_col0\" class=\"data row3 col0\" >Original Data</td>\n",
       "                        <td id=\"T_e635e602_cf51_11ea_abd4_803253a1022erow3_col1\" class=\"data row3 col1\" >(506, 14)</td>\n",
       "            </tr>\n",
       "            <tr>\n",
       "                        <th id=\"T_e635e602_cf51_11ea_abd4_803253a1022elevel0_row4\" class=\"row_heading level0 row4\" >4</th>\n",
       "                        <td id=\"T_e635e602_cf51_11ea_abd4_803253a1022erow4_col0\" class=\"data row4 col0\" >Missing Values </td>\n",
       "                        <td id=\"T_e635e602_cf51_11ea_abd4_803253a1022erow4_col1\" class=\"data row4 col1\" >False</td>\n",
       "            </tr>\n",
       "            <tr>\n",
       "                        <th id=\"T_e635e602_cf51_11ea_abd4_803253a1022elevel0_row5\" class=\"row_heading level0 row5\" >5</th>\n",
       "                        <td id=\"T_e635e602_cf51_11ea_abd4_803253a1022erow5_col0\" class=\"data row5 col0\" >Numeric Features </td>\n",
       "                        <td id=\"T_e635e602_cf51_11ea_abd4_803253a1022erow5_col1\" class=\"data row5 col1\" >11</td>\n",
       "            </tr>\n",
       "            <tr>\n",
       "                        <th id=\"T_e635e602_cf51_11ea_abd4_803253a1022elevel0_row6\" class=\"row_heading level0 row6\" >6</th>\n",
       "                        <td id=\"T_e635e602_cf51_11ea_abd4_803253a1022erow6_col0\" class=\"data row6 col0\" >Categorical Features </td>\n",
       "                        <td id=\"T_e635e602_cf51_11ea_abd4_803253a1022erow6_col1\" class=\"data row6 col1\" >2</td>\n",
       "            </tr>\n",
       "            <tr>\n",
       "                        <th id=\"T_e635e602_cf51_11ea_abd4_803253a1022elevel0_row7\" class=\"row_heading level0 row7\" >7</th>\n",
       "                        <td id=\"T_e635e602_cf51_11ea_abd4_803253a1022erow7_col0\" class=\"data row7 col0\" >Ordinal Features </td>\n",
       "                        <td id=\"T_e635e602_cf51_11ea_abd4_803253a1022erow7_col1\" class=\"data row7 col1\" >False</td>\n",
       "            </tr>\n",
       "            <tr>\n",
       "                        <th id=\"T_e635e602_cf51_11ea_abd4_803253a1022elevel0_row8\" class=\"row_heading level0 row8\" >8</th>\n",
       "                        <td id=\"T_e635e602_cf51_11ea_abd4_803253a1022erow8_col0\" class=\"data row8 col0\" >High Cardinality Features </td>\n",
       "                        <td id=\"T_e635e602_cf51_11ea_abd4_803253a1022erow8_col1\" class=\"data row8 col1\" >False</td>\n",
       "            </tr>\n",
       "            <tr>\n",
       "                        <th id=\"T_e635e602_cf51_11ea_abd4_803253a1022elevel0_row9\" class=\"row_heading level0 row9\" >9</th>\n",
       "                        <td id=\"T_e635e602_cf51_11ea_abd4_803253a1022erow9_col0\" class=\"data row9 col0\" >High Cardinality Method </td>\n",
       "                        <td id=\"T_e635e602_cf51_11ea_abd4_803253a1022erow9_col1\" class=\"data row9 col1\" >None</td>\n",
       "            </tr>\n",
       "            <tr>\n",
       "                        <th id=\"T_e635e602_cf51_11ea_abd4_803253a1022elevel0_row10\" class=\"row_heading level0 row10\" >10</th>\n",
       "                        <td id=\"T_e635e602_cf51_11ea_abd4_803253a1022erow10_col0\" class=\"data row10 col0\" >Sampled Data</td>\n",
       "                        <td id=\"T_e635e602_cf51_11ea_abd4_803253a1022erow10_col1\" class=\"data row10 col1\" >(506, 14)</td>\n",
       "            </tr>\n",
       "            <tr>\n",
       "                        <th id=\"T_e635e602_cf51_11ea_abd4_803253a1022elevel0_row11\" class=\"row_heading level0 row11\" >11</th>\n",
       "                        <td id=\"T_e635e602_cf51_11ea_abd4_803253a1022erow11_col0\" class=\"data row11 col0\" >Transformed Train Set</td>\n",
       "                        <td id=\"T_e635e602_cf51_11ea_abd4_803253a1022erow11_col1\" class=\"data row11 col1\" >(354, 21)</td>\n",
       "            </tr>\n",
       "            <tr>\n",
       "                        <th id=\"T_e635e602_cf51_11ea_abd4_803253a1022elevel0_row12\" class=\"row_heading level0 row12\" >12</th>\n",
       "                        <td id=\"T_e635e602_cf51_11ea_abd4_803253a1022erow12_col0\" class=\"data row12 col0\" >Transformed Test Set</td>\n",
       "                        <td id=\"T_e635e602_cf51_11ea_abd4_803253a1022erow12_col1\" class=\"data row12 col1\" >(152, 21)</td>\n",
       "            </tr>\n",
       "            <tr>\n",
       "                        <th id=\"T_e635e602_cf51_11ea_abd4_803253a1022elevel0_row13\" class=\"row_heading level0 row13\" >13</th>\n",
       "                        <td id=\"T_e635e602_cf51_11ea_abd4_803253a1022erow13_col0\" class=\"data row13 col0\" >Numeric Imputer </td>\n",
       "                        <td id=\"T_e635e602_cf51_11ea_abd4_803253a1022erow13_col1\" class=\"data row13 col1\" >mean</td>\n",
       "            </tr>\n",
       "            <tr>\n",
       "                        <th id=\"T_e635e602_cf51_11ea_abd4_803253a1022elevel0_row14\" class=\"row_heading level0 row14\" >14</th>\n",
       "                        <td id=\"T_e635e602_cf51_11ea_abd4_803253a1022erow14_col0\" class=\"data row14 col0\" >Categorical Imputer </td>\n",
       "                        <td id=\"T_e635e602_cf51_11ea_abd4_803253a1022erow14_col1\" class=\"data row14 col1\" >constant</td>\n",
       "            </tr>\n",
       "            <tr>\n",
       "                        <th id=\"T_e635e602_cf51_11ea_abd4_803253a1022elevel0_row15\" class=\"row_heading level0 row15\" >15</th>\n",
       "                        <td id=\"T_e635e602_cf51_11ea_abd4_803253a1022erow15_col0\" class=\"data row15 col0\" >Normalize </td>\n",
       "                        <td id=\"T_e635e602_cf51_11ea_abd4_803253a1022erow15_col1\" class=\"data row15 col1\" >False</td>\n",
       "            </tr>\n",
       "            <tr>\n",
       "                        <th id=\"T_e635e602_cf51_11ea_abd4_803253a1022elevel0_row16\" class=\"row_heading level0 row16\" >16</th>\n",
       "                        <td id=\"T_e635e602_cf51_11ea_abd4_803253a1022erow16_col0\" class=\"data row16 col0\" >Normalize Method </td>\n",
       "                        <td id=\"T_e635e602_cf51_11ea_abd4_803253a1022erow16_col1\" class=\"data row16 col1\" >None</td>\n",
       "            </tr>\n",
       "            <tr>\n",
       "                        <th id=\"T_e635e602_cf51_11ea_abd4_803253a1022elevel0_row17\" class=\"row_heading level0 row17\" >17</th>\n",
       "                        <td id=\"T_e635e602_cf51_11ea_abd4_803253a1022erow17_col0\" class=\"data row17 col0\" >Transformation </td>\n",
       "                        <td id=\"T_e635e602_cf51_11ea_abd4_803253a1022erow17_col1\" class=\"data row17 col1\" >False</td>\n",
       "            </tr>\n",
       "            <tr>\n",
       "                        <th id=\"T_e635e602_cf51_11ea_abd4_803253a1022elevel0_row18\" class=\"row_heading level0 row18\" >18</th>\n",
       "                        <td id=\"T_e635e602_cf51_11ea_abd4_803253a1022erow18_col0\" class=\"data row18 col0\" >Transformation Method </td>\n",
       "                        <td id=\"T_e635e602_cf51_11ea_abd4_803253a1022erow18_col1\" class=\"data row18 col1\" >None</td>\n",
       "            </tr>\n",
       "            <tr>\n",
       "                        <th id=\"T_e635e602_cf51_11ea_abd4_803253a1022elevel0_row19\" class=\"row_heading level0 row19\" >19</th>\n",
       "                        <td id=\"T_e635e602_cf51_11ea_abd4_803253a1022erow19_col0\" class=\"data row19 col0\" >PCA </td>\n",
       "                        <td id=\"T_e635e602_cf51_11ea_abd4_803253a1022erow19_col1\" class=\"data row19 col1\" >False</td>\n",
       "            </tr>\n",
       "            <tr>\n",
       "                        <th id=\"T_e635e602_cf51_11ea_abd4_803253a1022elevel0_row20\" class=\"row_heading level0 row20\" >20</th>\n",
       "                        <td id=\"T_e635e602_cf51_11ea_abd4_803253a1022erow20_col0\" class=\"data row20 col0\" >PCA Method </td>\n",
       "                        <td id=\"T_e635e602_cf51_11ea_abd4_803253a1022erow20_col1\" class=\"data row20 col1\" >None</td>\n",
       "            </tr>\n",
       "            <tr>\n",
       "                        <th id=\"T_e635e602_cf51_11ea_abd4_803253a1022elevel0_row21\" class=\"row_heading level0 row21\" >21</th>\n",
       "                        <td id=\"T_e635e602_cf51_11ea_abd4_803253a1022erow21_col0\" class=\"data row21 col0\" >PCA Components </td>\n",
       "                        <td id=\"T_e635e602_cf51_11ea_abd4_803253a1022erow21_col1\" class=\"data row21 col1\" >None</td>\n",
       "            </tr>\n",
       "            <tr>\n",
       "                        <th id=\"T_e635e602_cf51_11ea_abd4_803253a1022elevel0_row22\" class=\"row_heading level0 row22\" >22</th>\n",
       "                        <td id=\"T_e635e602_cf51_11ea_abd4_803253a1022erow22_col0\" class=\"data row22 col0\" >Ignore Low Variance </td>\n",
       "                        <td id=\"T_e635e602_cf51_11ea_abd4_803253a1022erow22_col1\" class=\"data row22 col1\" >False</td>\n",
       "            </tr>\n",
       "            <tr>\n",
       "                        <th id=\"T_e635e602_cf51_11ea_abd4_803253a1022elevel0_row23\" class=\"row_heading level0 row23\" >23</th>\n",
       "                        <td id=\"T_e635e602_cf51_11ea_abd4_803253a1022erow23_col0\" class=\"data row23 col0\" >Combine Rare Levels </td>\n",
       "                        <td id=\"T_e635e602_cf51_11ea_abd4_803253a1022erow23_col1\" class=\"data row23 col1\" >False</td>\n",
       "            </tr>\n",
       "            <tr>\n",
       "                        <th id=\"T_e635e602_cf51_11ea_abd4_803253a1022elevel0_row24\" class=\"row_heading level0 row24\" >24</th>\n",
       "                        <td id=\"T_e635e602_cf51_11ea_abd4_803253a1022erow24_col0\" class=\"data row24 col0\" >Rare Level Threshold </td>\n",
       "                        <td id=\"T_e635e602_cf51_11ea_abd4_803253a1022erow24_col1\" class=\"data row24 col1\" >None</td>\n",
       "            </tr>\n",
       "            <tr>\n",
       "                        <th id=\"T_e635e602_cf51_11ea_abd4_803253a1022elevel0_row25\" class=\"row_heading level0 row25\" >25</th>\n",
       "                        <td id=\"T_e635e602_cf51_11ea_abd4_803253a1022erow25_col0\" class=\"data row25 col0\" >Numeric Binning </td>\n",
       "                        <td id=\"T_e635e602_cf51_11ea_abd4_803253a1022erow25_col1\" class=\"data row25 col1\" >False</td>\n",
       "            </tr>\n",
       "            <tr>\n",
       "                        <th id=\"T_e635e602_cf51_11ea_abd4_803253a1022elevel0_row26\" class=\"row_heading level0 row26\" >26</th>\n",
       "                        <td id=\"T_e635e602_cf51_11ea_abd4_803253a1022erow26_col0\" class=\"data row26 col0\" >Remove Outliers </td>\n",
       "                        <td id=\"T_e635e602_cf51_11ea_abd4_803253a1022erow26_col1\" class=\"data row26 col1\" >False</td>\n",
       "            </tr>\n",
       "            <tr>\n",
       "                        <th id=\"T_e635e602_cf51_11ea_abd4_803253a1022elevel0_row27\" class=\"row_heading level0 row27\" >27</th>\n",
       "                        <td id=\"T_e635e602_cf51_11ea_abd4_803253a1022erow27_col0\" class=\"data row27 col0\" >Outliers Threshold </td>\n",
       "                        <td id=\"T_e635e602_cf51_11ea_abd4_803253a1022erow27_col1\" class=\"data row27 col1\" >None</td>\n",
       "            </tr>\n",
       "            <tr>\n",
       "                        <th id=\"T_e635e602_cf51_11ea_abd4_803253a1022elevel0_row28\" class=\"row_heading level0 row28\" >28</th>\n",
       "                        <td id=\"T_e635e602_cf51_11ea_abd4_803253a1022erow28_col0\" class=\"data row28 col0\" >Remove Multicollinearity </td>\n",
       "                        <td id=\"T_e635e602_cf51_11ea_abd4_803253a1022erow28_col1\" class=\"data row28 col1\" >False</td>\n",
       "            </tr>\n",
       "            <tr>\n",
       "                        <th id=\"T_e635e602_cf51_11ea_abd4_803253a1022elevel0_row29\" class=\"row_heading level0 row29\" >29</th>\n",
       "                        <td id=\"T_e635e602_cf51_11ea_abd4_803253a1022erow29_col0\" class=\"data row29 col0\" >Multicollinearity Threshold </td>\n",
       "                        <td id=\"T_e635e602_cf51_11ea_abd4_803253a1022erow29_col1\" class=\"data row29 col1\" >None</td>\n",
       "            </tr>\n",
       "            <tr>\n",
       "                        <th id=\"T_e635e602_cf51_11ea_abd4_803253a1022elevel0_row30\" class=\"row_heading level0 row30\" >30</th>\n",
       "                        <td id=\"T_e635e602_cf51_11ea_abd4_803253a1022erow30_col0\" class=\"data row30 col0\" >Clustering </td>\n",
       "                        <td id=\"T_e635e602_cf51_11ea_abd4_803253a1022erow30_col1\" class=\"data row30 col1\" >False</td>\n",
       "            </tr>\n",
       "            <tr>\n",
       "                        <th id=\"T_e635e602_cf51_11ea_abd4_803253a1022elevel0_row31\" class=\"row_heading level0 row31\" >31</th>\n",
       "                        <td id=\"T_e635e602_cf51_11ea_abd4_803253a1022erow31_col0\" class=\"data row31 col0\" >Clustering Iteration </td>\n",
       "                        <td id=\"T_e635e602_cf51_11ea_abd4_803253a1022erow31_col1\" class=\"data row31 col1\" >None</td>\n",
       "            </tr>\n",
       "            <tr>\n",
       "                        <th id=\"T_e635e602_cf51_11ea_abd4_803253a1022elevel0_row32\" class=\"row_heading level0 row32\" >32</th>\n",
       "                        <td id=\"T_e635e602_cf51_11ea_abd4_803253a1022erow32_col0\" class=\"data row32 col0\" >Polynomial Features </td>\n",
       "                        <td id=\"T_e635e602_cf51_11ea_abd4_803253a1022erow32_col1\" class=\"data row32 col1\" >False</td>\n",
       "            </tr>\n",
       "            <tr>\n",
       "                        <th id=\"T_e635e602_cf51_11ea_abd4_803253a1022elevel0_row33\" class=\"row_heading level0 row33\" >33</th>\n",
       "                        <td id=\"T_e635e602_cf51_11ea_abd4_803253a1022erow33_col0\" class=\"data row33 col0\" >Polynomial Degree </td>\n",
       "                        <td id=\"T_e635e602_cf51_11ea_abd4_803253a1022erow33_col1\" class=\"data row33 col1\" >None</td>\n",
       "            </tr>\n",
       "            <tr>\n",
       "                        <th id=\"T_e635e602_cf51_11ea_abd4_803253a1022elevel0_row34\" class=\"row_heading level0 row34\" >34</th>\n",
       "                        <td id=\"T_e635e602_cf51_11ea_abd4_803253a1022erow34_col0\" class=\"data row34 col0\" >Trignometry Features </td>\n",
       "                        <td id=\"T_e635e602_cf51_11ea_abd4_803253a1022erow34_col1\" class=\"data row34 col1\" >False</td>\n",
       "            </tr>\n",
       "            <tr>\n",
       "                        <th id=\"T_e635e602_cf51_11ea_abd4_803253a1022elevel0_row35\" class=\"row_heading level0 row35\" >35</th>\n",
       "                        <td id=\"T_e635e602_cf51_11ea_abd4_803253a1022erow35_col0\" class=\"data row35 col0\" >Polynomial Threshold </td>\n",
       "                        <td id=\"T_e635e602_cf51_11ea_abd4_803253a1022erow35_col1\" class=\"data row35 col1\" >None</td>\n",
       "            </tr>\n",
       "            <tr>\n",
       "                        <th id=\"T_e635e602_cf51_11ea_abd4_803253a1022elevel0_row36\" class=\"row_heading level0 row36\" >36</th>\n",
       "                        <td id=\"T_e635e602_cf51_11ea_abd4_803253a1022erow36_col0\" class=\"data row36 col0\" >Group Features </td>\n",
       "                        <td id=\"T_e635e602_cf51_11ea_abd4_803253a1022erow36_col1\" class=\"data row36 col1\" >False</td>\n",
       "            </tr>\n",
       "            <tr>\n",
       "                        <th id=\"T_e635e602_cf51_11ea_abd4_803253a1022elevel0_row37\" class=\"row_heading level0 row37\" >37</th>\n",
       "                        <td id=\"T_e635e602_cf51_11ea_abd4_803253a1022erow37_col0\" class=\"data row37 col0\" >Feature Selection </td>\n",
       "                        <td id=\"T_e635e602_cf51_11ea_abd4_803253a1022erow37_col1\" class=\"data row37 col1\" >False</td>\n",
       "            </tr>\n",
       "            <tr>\n",
       "                        <th id=\"T_e635e602_cf51_11ea_abd4_803253a1022elevel0_row38\" class=\"row_heading level0 row38\" >38</th>\n",
       "                        <td id=\"T_e635e602_cf51_11ea_abd4_803253a1022erow38_col0\" class=\"data row38 col0\" >Features Selection Threshold </td>\n",
       "                        <td id=\"T_e635e602_cf51_11ea_abd4_803253a1022erow38_col1\" class=\"data row38 col1\" >None</td>\n",
       "            </tr>\n",
       "            <tr>\n",
       "                        <th id=\"T_e635e602_cf51_11ea_abd4_803253a1022elevel0_row39\" class=\"row_heading level0 row39\" >39</th>\n",
       "                        <td id=\"T_e635e602_cf51_11ea_abd4_803253a1022erow39_col0\" class=\"data row39 col0\" >Feature Interaction </td>\n",
       "                        <td id=\"T_e635e602_cf51_11ea_abd4_803253a1022erow39_col1\" class=\"data row39 col1\" >False</td>\n",
       "            </tr>\n",
       "            <tr>\n",
       "                        <th id=\"T_e635e602_cf51_11ea_abd4_803253a1022elevel0_row40\" class=\"row_heading level0 row40\" >40</th>\n",
       "                        <td id=\"T_e635e602_cf51_11ea_abd4_803253a1022erow40_col0\" class=\"data row40 col0\" >Feature Ratio </td>\n",
       "                        <td id=\"T_e635e602_cf51_11ea_abd4_803253a1022erow40_col1\" class=\"data row40 col1\" >False</td>\n",
       "            </tr>\n",
       "            <tr>\n",
       "                        <th id=\"T_e635e602_cf51_11ea_abd4_803253a1022elevel0_row41\" class=\"row_heading level0 row41\" >41</th>\n",
       "                        <td id=\"T_e635e602_cf51_11ea_abd4_803253a1022erow41_col0\" class=\"data row41 col0\" >Interaction Threshold </td>\n",
       "                        <td id=\"T_e635e602_cf51_11ea_abd4_803253a1022erow41_col1\" class=\"data row41 col1\" >None</td>\n",
       "            </tr>\n",
       "    </tbody></table>"
      ],
      "text/plain": [
       "<pandas.io.formats.style.Styler at 0x291a926ae48>"
      ]
     },
     "metadata": {},
     "output_type": "display_data"
    }
   ],
   "source": [
    "reg=setup(data=boston_df,target='medv')"
   ]
  },
  {
   "cell_type": "code",
   "execution_count": 14,
   "metadata": {},
   "outputs": [
    {
     "data": {
      "text/html": [
       "<style  type=\"text/css\" >\n",
       "    #T_3189f300_cf52_11ea_8d36_803253a1022e th {\n",
       "          text-align: left;\n",
       "    }    #T_3189f300_cf52_11ea_8d36_803253a1022erow0_col0 {\n",
       "            text-align:  left;\n",
       "        }    #T_3189f300_cf52_11ea_8d36_803253a1022erow0_col1 {\n",
       "            background-color:  yellow;\n",
       "            text-align:  left;\n",
       "        }    #T_3189f300_cf52_11ea_8d36_803253a1022erow0_col2 {\n",
       "            background-color:  yellow;\n",
       "            text-align:  left;\n",
       "        }    #T_3189f300_cf52_11ea_8d36_803253a1022erow0_col3 {\n",
       "            background-color:  yellow;\n",
       "            text-align:  left;\n",
       "        }    #T_3189f300_cf52_11ea_8d36_803253a1022erow0_col4 {\n",
       "            text-align:  left;\n",
       "        }    #T_3189f300_cf52_11ea_8d36_803253a1022erow0_col5 {\n",
       "            background-color:  yellow;\n",
       "            text-align:  left;\n",
       "        }    #T_3189f300_cf52_11ea_8d36_803253a1022erow0_col6 {\n",
       "            background-color:  yellow;\n",
       "            text-align:  left;\n",
       "        }    #T_3189f300_cf52_11ea_8d36_803253a1022erow1_col0 {\n",
       "            text-align:  left;\n",
       "        }    #T_3189f300_cf52_11ea_8d36_803253a1022erow1_col1 {\n",
       "            : ;\n",
       "            text-align:  left;\n",
       "        }    #T_3189f300_cf52_11ea_8d36_803253a1022erow1_col2 {\n",
       "            : ;\n",
       "            text-align:  left;\n",
       "        }    #T_3189f300_cf52_11ea_8d36_803253a1022erow1_col3 {\n",
       "            : ;\n",
       "            text-align:  left;\n",
       "        }    #T_3189f300_cf52_11ea_8d36_803253a1022erow1_col4 {\n",
       "            text-align:  left;\n",
       "        }    #T_3189f300_cf52_11ea_8d36_803253a1022erow1_col5 {\n",
       "            : ;\n",
       "            text-align:  left;\n",
       "        }    #T_3189f300_cf52_11ea_8d36_803253a1022erow1_col6 {\n",
       "            : ;\n",
       "            text-align:  left;\n",
       "        }    #T_3189f300_cf52_11ea_8d36_803253a1022erow2_col0 {\n",
       "            text-align:  left;\n",
       "        }    #T_3189f300_cf52_11ea_8d36_803253a1022erow2_col1 {\n",
       "            : ;\n",
       "            text-align:  left;\n",
       "        }    #T_3189f300_cf52_11ea_8d36_803253a1022erow2_col2 {\n",
       "            : ;\n",
       "            text-align:  left;\n",
       "        }    #T_3189f300_cf52_11ea_8d36_803253a1022erow2_col3 {\n",
       "            : ;\n",
       "            text-align:  left;\n",
       "        }    #T_3189f300_cf52_11ea_8d36_803253a1022erow2_col4 {\n",
       "            text-align:  left;\n",
       "        }    #T_3189f300_cf52_11ea_8d36_803253a1022erow2_col5 {\n",
       "            : ;\n",
       "            text-align:  left;\n",
       "        }    #T_3189f300_cf52_11ea_8d36_803253a1022erow2_col6 {\n",
       "            : ;\n",
       "            text-align:  left;\n",
       "        }    #T_3189f300_cf52_11ea_8d36_803253a1022erow3_col0 {\n",
       "            text-align:  left;\n",
       "        }    #T_3189f300_cf52_11ea_8d36_803253a1022erow3_col1 {\n",
       "            : ;\n",
       "            text-align:  left;\n",
       "        }    #T_3189f300_cf52_11ea_8d36_803253a1022erow3_col2 {\n",
       "            : ;\n",
       "            text-align:  left;\n",
       "        }    #T_3189f300_cf52_11ea_8d36_803253a1022erow3_col3 {\n",
       "            : ;\n",
       "            text-align:  left;\n",
       "        }    #T_3189f300_cf52_11ea_8d36_803253a1022erow3_col4 {\n",
       "            text-align:  left;\n",
       "        }    #T_3189f300_cf52_11ea_8d36_803253a1022erow3_col5 {\n",
       "            : ;\n",
       "            text-align:  left;\n",
       "        }    #T_3189f300_cf52_11ea_8d36_803253a1022erow3_col6 {\n",
       "            : ;\n",
       "            text-align:  left;\n",
       "        }    #T_3189f300_cf52_11ea_8d36_803253a1022erow4_col0 {\n",
       "            text-align:  left;\n",
       "        }    #T_3189f300_cf52_11ea_8d36_803253a1022erow4_col1 {\n",
       "            : ;\n",
       "            text-align:  left;\n",
       "        }    #T_3189f300_cf52_11ea_8d36_803253a1022erow4_col2 {\n",
       "            : ;\n",
       "            text-align:  left;\n",
       "        }    #T_3189f300_cf52_11ea_8d36_803253a1022erow4_col3 {\n",
       "            : ;\n",
       "            text-align:  left;\n",
       "        }    #T_3189f300_cf52_11ea_8d36_803253a1022erow4_col4 {\n",
       "            text-align:  left;\n",
       "        }    #T_3189f300_cf52_11ea_8d36_803253a1022erow4_col5 {\n",
       "            : ;\n",
       "            text-align:  left;\n",
       "        }    #T_3189f300_cf52_11ea_8d36_803253a1022erow4_col6 {\n",
       "            : ;\n",
       "            text-align:  left;\n",
       "        }    #T_3189f300_cf52_11ea_8d36_803253a1022erow5_col0 {\n",
       "            text-align:  left;\n",
       "        }    #T_3189f300_cf52_11ea_8d36_803253a1022erow5_col1 {\n",
       "            : ;\n",
       "            text-align:  left;\n",
       "        }    #T_3189f300_cf52_11ea_8d36_803253a1022erow5_col2 {\n",
       "            : ;\n",
       "            text-align:  left;\n",
       "        }    #T_3189f300_cf52_11ea_8d36_803253a1022erow5_col3 {\n",
       "            : ;\n",
       "            text-align:  left;\n",
       "        }    #T_3189f300_cf52_11ea_8d36_803253a1022erow5_col4 {\n",
       "            text-align:  left;\n",
       "        }    #T_3189f300_cf52_11ea_8d36_803253a1022erow5_col5 {\n",
       "            : ;\n",
       "            text-align:  left;\n",
       "        }    #T_3189f300_cf52_11ea_8d36_803253a1022erow5_col6 {\n",
       "            : ;\n",
       "            text-align:  left;\n",
       "        }    #T_3189f300_cf52_11ea_8d36_803253a1022erow6_col0 {\n",
       "            text-align:  left;\n",
       "        }    #T_3189f300_cf52_11ea_8d36_803253a1022erow6_col1 {\n",
       "            : ;\n",
       "            text-align:  left;\n",
       "        }    #T_3189f300_cf52_11ea_8d36_803253a1022erow6_col2 {\n",
       "            : ;\n",
       "            text-align:  left;\n",
       "        }    #T_3189f300_cf52_11ea_8d36_803253a1022erow6_col3 {\n",
       "            : ;\n",
       "            text-align:  left;\n",
       "        }    #T_3189f300_cf52_11ea_8d36_803253a1022erow6_col4 {\n",
       "            text-align:  left;\n",
       "        }    #T_3189f300_cf52_11ea_8d36_803253a1022erow6_col5 {\n",
       "            : ;\n",
       "            text-align:  left;\n",
       "        }    #T_3189f300_cf52_11ea_8d36_803253a1022erow6_col6 {\n",
       "            : ;\n",
       "            text-align:  left;\n",
       "        }    #T_3189f300_cf52_11ea_8d36_803253a1022erow7_col0 {\n",
       "            text-align:  left;\n",
       "        }    #T_3189f300_cf52_11ea_8d36_803253a1022erow7_col1 {\n",
       "            : ;\n",
       "            text-align:  left;\n",
       "        }    #T_3189f300_cf52_11ea_8d36_803253a1022erow7_col2 {\n",
       "            : ;\n",
       "            text-align:  left;\n",
       "        }    #T_3189f300_cf52_11ea_8d36_803253a1022erow7_col3 {\n",
       "            : ;\n",
       "            text-align:  left;\n",
       "        }    #T_3189f300_cf52_11ea_8d36_803253a1022erow7_col4 {\n",
       "            text-align:  left;\n",
       "        }    #T_3189f300_cf52_11ea_8d36_803253a1022erow7_col5 {\n",
       "            : ;\n",
       "            text-align:  left;\n",
       "        }    #T_3189f300_cf52_11ea_8d36_803253a1022erow7_col6 {\n",
       "            : ;\n",
       "            text-align:  left;\n",
       "        }    #T_3189f300_cf52_11ea_8d36_803253a1022erow8_col0 {\n",
       "            text-align:  left;\n",
       "        }    #T_3189f300_cf52_11ea_8d36_803253a1022erow8_col1 {\n",
       "            : ;\n",
       "            text-align:  left;\n",
       "        }    #T_3189f300_cf52_11ea_8d36_803253a1022erow8_col2 {\n",
       "            : ;\n",
       "            text-align:  left;\n",
       "        }    #T_3189f300_cf52_11ea_8d36_803253a1022erow8_col3 {\n",
       "            : ;\n",
       "            text-align:  left;\n",
       "        }    #T_3189f300_cf52_11ea_8d36_803253a1022erow8_col4 {\n",
       "            text-align:  left;\n",
       "        }    #T_3189f300_cf52_11ea_8d36_803253a1022erow8_col5 {\n",
       "            : ;\n",
       "            text-align:  left;\n",
       "        }    #T_3189f300_cf52_11ea_8d36_803253a1022erow8_col6 {\n",
       "            : ;\n",
       "            text-align:  left;\n",
       "        }    #T_3189f300_cf52_11ea_8d36_803253a1022erow9_col0 {\n",
       "            text-align:  left;\n",
       "        }    #T_3189f300_cf52_11ea_8d36_803253a1022erow9_col1 {\n",
       "            : ;\n",
       "            text-align:  left;\n",
       "        }    #T_3189f300_cf52_11ea_8d36_803253a1022erow9_col2 {\n",
       "            : ;\n",
       "            text-align:  left;\n",
       "        }    #T_3189f300_cf52_11ea_8d36_803253a1022erow9_col3 {\n",
       "            : ;\n",
       "            text-align:  left;\n",
       "        }    #T_3189f300_cf52_11ea_8d36_803253a1022erow9_col4 {\n",
       "            text-align:  left;\n",
       "        }    #T_3189f300_cf52_11ea_8d36_803253a1022erow9_col5 {\n",
       "            : ;\n",
       "            text-align:  left;\n",
       "        }    #T_3189f300_cf52_11ea_8d36_803253a1022erow9_col6 {\n",
       "            : ;\n",
       "            text-align:  left;\n",
       "        }    #T_3189f300_cf52_11ea_8d36_803253a1022erow10_col0 {\n",
       "            text-align:  left;\n",
       "        }    #T_3189f300_cf52_11ea_8d36_803253a1022erow10_col1 {\n",
       "            : ;\n",
       "            text-align:  left;\n",
       "        }    #T_3189f300_cf52_11ea_8d36_803253a1022erow10_col2 {\n",
       "            : ;\n",
       "            text-align:  left;\n",
       "        }    #T_3189f300_cf52_11ea_8d36_803253a1022erow10_col3 {\n",
       "            : ;\n",
       "            text-align:  left;\n",
       "        }    #T_3189f300_cf52_11ea_8d36_803253a1022erow10_col4 {\n",
       "            text-align:  left;\n",
       "        }    #T_3189f300_cf52_11ea_8d36_803253a1022erow10_col5 {\n",
       "            : ;\n",
       "            text-align:  left;\n",
       "        }    #T_3189f300_cf52_11ea_8d36_803253a1022erow10_col6 {\n",
       "            : ;\n",
       "            text-align:  left;\n",
       "        }    #T_3189f300_cf52_11ea_8d36_803253a1022erow11_col0 {\n",
       "            text-align:  left;\n",
       "        }    #T_3189f300_cf52_11ea_8d36_803253a1022erow11_col1 {\n",
       "            : ;\n",
       "            text-align:  left;\n",
       "        }    #T_3189f300_cf52_11ea_8d36_803253a1022erow11_col2 {\n",
       "            : ;\n",
       "            text-align:  left;\n",
       "        }    #T_3189f300_cf52_11ea_8d36_803253a1022erow11_col3 {\n",
       "            : ;\n",
       "            text-align:  left;\n",
       "        }    #T_3189f300_cf52_11ea_8d36_803253a1022erow11_col4 {\n",
       "            text-align:  left;\n",
       "        }    #T_3189f300_cf52_11ea_8d36_803253a1022erow11_col5 {\n",
       "            : ;\n",
       "            text-align:  left;\n",
       "        }    #T_3189f300_cf52_11ea_8d36_803253a1022erow11_col6 {\n",
       "            : ;\n",
       "            text-align:  left;\n",
       "        }    #T_3189f300_cf52_11ea_8d36_803253a1022erow12_col0 {\n",
       "            text-align:  left;\n",
       "        }    #T_3189f300_cf52_11ea_8d36_803253a1022erow12_col1 {\n",
       "            : ;\n",
       "            text-align:  left;\n",
       "        }    #T_3189f300_cf52_11ea_8d36_803253a1022erow12_col2 {\n",
       "            : ;\n",
       "            text-align:  left;\n",
       "        }    #T_3189f300_cf52_11ea_8d36_803253a1022erow12_col3 {\n",
       "            : ;\n",
       "            text-align:  left;\n",
       "        }    #T_3189f300_cf52_11ea_8d36_803253a1022erow12_col4 {\n",
       "            text-align:  left;\n",
       "        }    #T_3189f300_cf52_11ea_8d36_803253a1022erow12_col5 {\n",
       "            : ;\n",
       "            text-align:  left;\n",
       "        }    #T_3189f300_cf52_11ea_8d36_803253a1022erow12_col6 {\n",
       "            : ;\n",
       "            text-align:  left;\n",
       "        }    #T_3189f300_cf52_11ea_8d36_803253a1022erow13_col0 {\n",
       "            text-align:  left;\n",
       "        }    #T_3189f300_cf52_11ea_8d36_803253a1022erow13_col1 {\n",
       "            : ;\n",
       "            text-align:  left;\n",
       "        }    #T_3189f300_cf52_11ea_8d36_803253a1022erow13_col2 {\n",
       "            : ;\n",
       "            text-align:  left;\n",
       "        }    #T_3189f300_cf52_11ea_8d36_803253a1022erow13_col3 {\n",
       "            : ;\n",
       "            text-align:  left;\n",
       "        }    #T_3189f300_cf52_11ea_8d36_803253a1022erow13_col4 {\n",
       "            text-align:  left;\n",
       "        }    #T_3189f300_cf52_11ea_8d36_803253a1022erow13_col5 {\n",
       "            : ;\n",
       "            text-align:  left;\n",
       "        }    #T_3189f300_cf52_11ea_8d36_803253a1022erow13_col6 {\n",
       "            : ;\n",
       "            text-align:  left;\n",
       "        }    #T_3189f300_cf52_11ea_8d36_803253a1022erow14_col0 {\n",
       "            text-align:  left;\n",
       "        }    #T_3189f300_cf52_11ea_8d36_803253a1022erow14_col1 {\n",
       "            : ;\n",
       "            text-align:  left;\n",
       "        }    #T_3189f300_cf52_11ea_8d36_803253a1022erow14_col2 {\n",
       "            : ;\n",
       "            text-align:  left;\n",
       "        }    #T_3189f300_cf52_11ea_8d36_803253a1022erow14_col3 {\n",
       "            : ;\n",
       "            text-align:  left;\n",
       "        }    #T_3189f300_cf52_11ea_8d36_803253a1022erow14_col4 {\n",
       "            text-align:  left;\n",
       "        }    #T_3189f300_cf52_11ea_8d36_803253a1022erow14_col5 {\n",
       "            : ;\n",
       "            text-align:  left;\n",
       "        }    #T_3189f300_cf52_11ea_8d36_803253a1022erow14_col6 {\n",
       "            : ;\n",
       "            text-align:  left;\n",
       "        }    #T_3189f300_cf52_11ea_8d36_803253a1022erow15_col0 {\n",
       "            text-align:  left;\n",
       "        }    #T_3189f300_cf52_11ea_8d36_803253a1022erow15_col1 {\n",
       "            : ;\n",
       "            text-align:  left;\n",
       "        }    #T_3189f300_cf52_11ea_8d36_803253a1022erow15_col2 {\n",
       "            : ;\n",
       "            text-align:  left;\n",
       "        }    #T_3189f300_cf52_11ea_8d36_803253a1022erow15_col3 {\n",
       "            : ;\n",
       "            text-align:  left;\n",
       "        }    #T_3189f300_cf52_11ea_8d36_803253a1022erow15_col4 {\n",
       "            text-align:  left;\n",
       "        }    #T_3189f300_cf52_11ea_8d36_803253a1022erow15_col5 {\n",
       "            : ;\n",
       "            text-align:  left;\n",
       "        }    #T_3189f300_cf52_11ea_8d36_803253a1022erow15_col6 {\n",
       "            : ;\n",
       "            text-align:  left;\n",
       "        }    #T_3189f300_cf52_11ea_8d36_803253a1022erow16_col0 {\n",
       "            text-align:  left;\n",
       "        }    #T_3189f300_cf52_11ea_8d36_803253a1022erow16_col1 {\n",
       "            : ;\n",
       "            text-align:  left;\n",
       "        }    #T_3189f300_cf52_11ea_8d36_803253a1022erow16_col2 {\n",
       "            : ;\n",
       "            text-align:  left;\n",
       "        }    #T_3189f300_cf52_11ea_8d36_803253a1022erow16_col3 {\n",
       "            : ;\n",
       "            text-align:  left;\n",
       "        }    #T_3189f300_cf52_11ea_8d36_803253a1022erow16_col4 {\n",
       "            text-align:  left;\n",
       "        }    #T_3189f300_cf52_11ea_8d36_803253a1022erow16_col5 {\n",
       "            : ;\n",
       "            text-align:  left;\n",
       "        }    #T_3189f300_cf52_11ea_8d36_803253a1022erow16_col6 {\n",
       "            : ;\n",
       "            text-align:  left;\n",
       "        }    #T_3189f300_cf52_11ea_8d36_803253a1022erow17_col0 {\n",
       "            text-align:  left;\n",
       "        }    #T_3189f300_cf52_11ea_8d36_803253a1022erow17_col1 {\n",
       "            : ;\n",
       "            text-align:  left;\n",
       "        }    #T_3189f300_cf52_11ea_8d36_803253a1022erow17_col2 {\n",
       "            : ;\n",
       "            text-align:  left;\n",
       "        }    #T_3189f300_cf52_11ea_8d36_803253a1022erow17_col3 {\n",
       "            : ;\n",
       "            text-align:  left;\n",
       "        }    #T_3189f300_cf52_11ea_8d36_803253a1022erow17_col4 {\n",
       "            text-align:  left;\n",
       "        }    #T_3189f300_cf52_11ea_8d36_803253a1022erow17_col5 {\n",
       "            : ;\n",
       "            text-align:  left;\n",
       "        }    #T_3189f300_cf52_11ea_8d36_803253a1022erow17_col6 {\n",
       "            : ;\n",
       "            text-align:  left;\n",
       "        }    #T_3189f300_cf52_11ea_8d36_803253a1022erow18_col0 {\n",
       "            text-align:  left;\n",
       "        }    #T_3189f300_cf52_11ea_8d36_803253a1022erow18_col1 {\n",
       "            : ;\n",
       "            text-align:  left;\n",
       "        }    #T_3189f300_cf52_11ea_8d36_803253a1022erow18_col2 {\n",
       "            : ;\n",
       "            text-align:  left;\n",
       "        }    #T_3189f300_cf52_11ea_8d36_803253a1022erow18_col3 {\n",
       "            : ;\n",
       "            text-align:  left;\n",
       "        }    #T_3189f300_cf52_11ea_8d36_803253a1022erow18_col4 {\n",
       "            text-align:  left;\n",
       "        }    #T_3189f300_cf52_11ea_8d36_803253a1022erow18_col5 {\n",
       "            : ;\n",
       "            text-align:  left;\n",
       "        }    #T_3189f300_cf52_11ea_8d36_803253a1022erow18_col6 {\n",
       "            : ;\n",
       "            text-align:  left;\n",
       "        }    #T_3189f300_cf52_11ea_8d36_803253a1022erow19_col0 {\n",
       "            text-align:  left;\n",
       "        }    #T_3189f300_cf52_11ea_8d36_803253a1022erow19_col1 {\n",
       "            : ;\n",
       "            text-align:  left;\n",
       "        }    #T_3189f300_cf52_11ea_8d36_803253a1022erow19_col2 {\n",
       "            : ;\n",
       "            text-align:  left;\n",
       "        }    #T_3189f300_cf52_11ea_8d36_803253a1022erow19_col3 {\n",
       "            : ;\n",
       "            text-align:  left;\n",
       "        }    #T_3189f300_cf52_11ea_8d36_803253a1022erow19_col4 {\n",
       "            text-align:  left;\n",
       "        }    #T_3189f300_cf52_11ea_8d36_803253a1022erow19_col5 {\n",
       "            : ;\n",
       "            text-align:  left;\n",
       "        }    #T_3189f300_cf52_11ea_8d36_803253a1022erow19_col6 {\n",
       "            : ;\n",
       "            text-align:  left;\n",
       "        }    #T_3189f300_cf52_11ea_8d36_803253a1022erow20_col0 {\n",
       "            text-align:  left;\n",
       "        }    #T_3189f300_cf52_11ea_8d36_803253a1022erow20_col1 {\n",
       "            : ;\n",
       "            text-align:  left;\n",
       "        }    #T_3189f300_cf52_11ea_8d36_803253a1022erow20_col2 {\n",
       "            : ;\n",
       "            text-align:  left;\n",
       "        }    #T_3189f300_cf52_11ea_8d36_803253a1022erow20_col3 {\n",
       "            : ;\n",
       "            text-align:  left;\n",
       "        }    #T_3189f300_cf52_11ea_8d36_803253a1022erow20_col4 {\n",
       "            text-align:  left;\n",
       "        }    #T_3189f300_cf52_11ea_8d36_803253a1022erow20_col5 {\n",
       "            : ;\n",
       "            text-align:  left;\n",
       "        }    #T_3189f300_cf52_11ea_8d36_803253a1022erow20_col6 {\n",
       "            : ;\n",
       "            text-align:  left;\n",
       "        }    #T_3189f300_cf52_11ea_8d36_803253a1022erow21_col0 {\n",
       "            text-align:  left;\n",
       "        }    #T_3189f300_cf52_11ea_8d36_803253a1022erow21_col1 {\n",
       "            : ;\n",
       "            text-align:  left;\n",
       "        }    #T_3189f300_cf52_11ea_8d36_803253a1022erow21_col2 {\n",
       "            : ;\n",
       "            text-align:  left;\n",
       "        }    #T_3189f300_cf52_11ea_8d36_803253a1022erow21_col3 {\n",
       "            : ;\n",
       "            text-align:  left;\n",
       "        }    #T_3189f300_cf52_11ea_8d36_803253a1022erow21_col4 {\n",
       "            text-align:  left;\n",
       "        }    #T_3189f300_cf52_11ea_8d36_803253a1022erow21_col5 {\n",
       "            : ;\n",
       "            text-align:  left;\n",
       "        }    #T_3189f300_cf52_11ea_8d36_803253a1022erow21_col6 {\n",
       "            : ;\n",
       "            text-align:  left;\n",
       "        }</style><table id=\"T_3189f300_cf52_11ea_8d36_803253a1022e\" ><thead>    <tr>        <th class=\"blank level0\" ></th>        <th class=\"col_heading level0 col0\" >Model</th>        <th class=\"col_heading level0 col1\" >MAE</th>        <th class=\"col_heading level0 col2\" >MSE</th>        <th class=\"col_heading level0 col3\" >RMSE</th>        <th class=\"col_heading level0 col4\" >R2</th>        <th class=\"col_heading level0 col5\" >RMSLE</th>        <th class=\"col_heading level0 col6\" >MAPE</th>    </tr></thead><tbody>\n",
       "                <tr>\n",
       "                        <th id=\"T_3189f300_cf52_11ea_8d36_803253a1022elevel0_row0\" class=\"row_heading level0 row0\" >0</th>\n",
       "                        <td id=\"T_3189f300_cf52_11ea_8d36_803253a1022erow0_col0\" class=\"data row0 col0\" >CatBoost Regressor</td>\n",
       "                        <td id=\"T_3189f300_cf52_11ea_8d36_803253a1022erow0_col1\" class=\"data row0 col1\" >2.263700</td>\n",
       "                        <td id=\"T_3189f300_cf52_11ea_8d36_803253a1022erow0_col2\" class=\"data row0 col2\" >12.537900</td>\n",
       "                        <td id=\"T_3189f300_cf52_11ea_8d36_803253a1022erow0_col3\" class=\"data row0 col3\" >3.334900</td>\n",
       "                        <td id=\"T_3189f300_cf52_11ea_8d36_803253a1022erow0_col4\" class=\"data row0 col4\" >0.857100</td>\n",
       "                        <td id=\"T_3189f300_cf52_11ea_8d36_803253a1022erow0_col5\" class=\"data row0 col5\" >0.143400</td>\n",
       "                        <td id=\"T_3189f300_cf52_11ea_8d36_803253a1022erow0_col6\" class=\"data row0 col6\" >0.107000</td>\n",
       "            </tr>\n",
       "            <tr>\n",
       "                        <th id=\"T_3189f300_cf52_11ea_8d36_803253a1022elevel0_row1\" class=\"row_heading level0 row1\" >1</th>\n",
       "                        <td id=\"T_3189f300_cf52_11ea_8d36_803253a1022erow1_col0\" class=\"data row1 col0\" >Extreme Gradient Boosting</td>\n",
       "                        <td id=\"T_3189f300_cf52_11ea_8d36_803253a1022erow1_col1\" class=\"data row1 col1\" >2.345600</td>\n",
       "                        <td id=\"T_3189f300_cf52_11ea_8d36_803253a1022erow1_col2\" class=\"data row1 col2\" >12.675700</td>\n",
       "                        <td id=\"T_3189f300_cf52_11ea_8d36_803253a1022erow1_col3\" class=\"data row1 col3\" >3.369600</td>\n",
       "                        <td id=\"T_3189f300_cf52_11ea_8d36_803253a1022erow1_col4\" class=\"data row1 col4\" >0.852400</td>\n",
       "                        <td id=\"T_3189f300_cf52_11ea_8d36_803253a1022erow1_col5\" class=\"data row1 col5\" >0.148000</td>\n",
       "                        <td id=\"T_3189f300_cf52_11ea_8d36_803253a1022erow1_col6\" class=\"data row1 col6\" >0.113000</td>\n",
       "            </tr>\n",
       "            <tr>\n",
       "                        <th id=\"T_3189f300_cf52_11ea_8d36_803253a1022elevel0_row2\" class=\"row_heading level0 row2\" >2</th>\n",
       "                        <td id=\"T_3189f300_cf52_11ea_8d36_803253a1022erow2_col0\" class=\"data row2 col0\" >Gradient Boosting Regressor</td>\n",
       "                        <td id=\"T_3189f300_cf52_11ea_8d36_803253a1022erow2_col1\" class=\"data row2 col1\" >2.343800</td>\n",
       "                        <td id=\"T_3189f300_cf52_11ea_8d36_803253a1022erow2_col2\" class=\"data row2 col2\" >12.850900</td>\n",
       "                        <td id=\"T_3189f300_cf52_11ea_8d36_803253a1022erow2_col3\" class=\"data row2 col3\" >3.357200</td>\n",
       "                        <td id=\"T_3189f300_cf52_11ea_8d36_803253a1022erow2_col4\" class=\"data row2 col4\" >0.851900</td>\n",
       "                        <td id=\"T_3189f300_cf52_11ea_8d36_803253a1022erow2_col5\" class=\"data row2 col5\" >0.147400</td>\n",
       "                        <td id=\"T_3189f300_cf52_11ea_8d36_803253a1022erow2_col6\" class=\"data row2 col6\" >0.112700</td>\n",
       "            </tr>\n",
       "            <tr>\n",
       "                        <th id=\"T_3189f300_cf52_11ea_8d36_803253a1022elevel0_row3\" class=\"row_heading level0 row3\" >3</th>\n",
       "                        <td id=\"T_3189f300_cf52_11ea_8d36_803253a1022erow3_col0\" class=\"data row3 col0\" >Extra Trees Regressor</td>\n",
       "                        <td id=\"T_3189f300_cf52_11ea_8d36_803253a1022erow3_col1\" class=\"data row3 col1\" >2.336700</td>\n",
       "                        <td id=\"T_3189f300_cf52_11ea_8d36_803253a1022erow3_col2\" class=\"data row3 col2\" >14.003800</td>\n",
       "                        <td id=\"T_3189f300_cf52_11ea_8d36_803253a1022erow3_col3\" class=\"data row3 col3\" >3.498600</td>\n",
       "                        <td id=\"T_3189f300_cf52_11ea_8d36_803253a1022erow3_col4\" class=\"data row3 col4\" >0.842500</td>\n",
       "                        <td id=\"T_3189f300_cf52_11ea_8d36_803253a1022erow3_col5\" class=\"data row3 col5\" >0.145100</td>\n",
       "                        <td id=\"T_3189f300_cf52_11ea_8d36_803253a1022erow3_col6\" class=\"data row3 col6\" >0.109300</td>\n",
       "            </tr>\n",
       "            <tr>\n",
       "                        <th id=\"T_3189f300_cf52_11ea_8d36_803253a1022elevel0_row4\" class=\"row_heading level0 row4\" >4</th>\n",
       "                        <td id=\"T_3189f300_cf52_11ea_8d36_803253a1022erow4_col0\" class=\"data row4 col0\" >Random Forest</td>\n",
       "                        <td id=\"T_3189f300_cf52_11ea_8d36_803253a1022erow4_col1\" class=\"data row4 col1\" >2.444100</td>\n",
       "                        <td id=\"T_3189f300_cf52_11ea_8d36_803253a1022erow4_col2\" class=\"data row4 col2\" >15.025500</td>\n",
       "                        <td id=\"T_3189f300_cf52_11ea_8d36_803253a1022erow4_col3\" class=\"data row4 col3\" >3.608100</td>\n",
       "                        <td id=\"T_3189f300_cf52_11ea_8d36_803253a1022erow4_col4\" class=\"data row4 col4\" >0.831200</td>\n",
       "                        <td id=\"T_3189f300_cf52_11ea_8d36_803253a1022erow4_col5\" class=\"data row4 col5\" >0.152600</td>\n",
       "                        <td id=\"T_3189f300_cf52_11ea_8d36_803253a1022erow4_col6\" class=\"data row4 col6\" >0.117400</td>\n",
       "            </tr>\n",
       "            <tr>\n",
       "                        <th id=\"T_3189f300_cf52_11ea_8d36_803253a1022elevel0_row5\" class=\"row_heading level0 row5\" >5</th>\n",
       "                        <td id=\"T_3189f300_cf52_11ea_8d36_803253a1022erow5_col0\" class=\"data row5 col0\" >Light Gradient Boosting Machine</td>\n",
       "                        <td id=\"T_3189f300_cf52_11ea_8d36_803253a1022erow5_col1\" class=\"data row5 col1\" >2.539800</td>\n",
       "                        <td id=\"T_3189f300_cf52_11ea_8d36_803253a1022erow5_col2\" class=\"data row5 col2\" >15.655000</td>\n",
       "                        <td id=\"T_3189f300_cf52_11ea_8d36_803253a1022erow5_col3\" class=\"data row5 col3\" >3.782200</td>\n",
       "                        <td id=\"T_3189f300_cf52_11ea_8d36_803253a1022erow5_col4\" class=\"data row5 col4\" >0.820400</td>\n",
       "                        <td id=\"T_3189f300_cf52_11ea_8d36_803253a1022erow5_col5\" class=\"data row5 col5\" >0.156100</td>\n",
       "                        <td id=\"T_3189f300_cf52_11ea_8d36_803253a1022erow5_col6\" class=\"data row5 col6\" >0.119300</td>\n",
       "            </tr>\n",
       "            <tr>\n",
       "                        <th id=\"T_3189f300_cf52_11ea_8d36_803253a1022elevel0_row6\" class=\"row_heading level0 row6\" >6</th>\n",
       "                        <td id=\"T_3189f300_cf52_11ea_8d36_803253a1022erow6_col0\" class=\"data row6 col0\" >AdaBoost Regressor</td>\n",
       "                        <td id=\"T_3189f300_cf52_11ea_8d36_803253a1022erow6_col1\" class=\"data row6 col1\" >3.050100</td>\n",
       "                        <td id=\"T_3189f300_cf52_11ea_8d36_803253a1022erow6_col2\" class=\"data row6 col2\" >18.502600</td>\n",
       "                        <td id=\"T_3189f300_cf52_11ea_8d36_803253a1022erow6_col3\" class=\"data row6 col3\" >4.115100</td>\n",
       "                        <td id=\"T_3189f300_cf52_11ea_8d36_803253a1022erow6_col4\" class=\"data row6 col4\" >0.785800</td>\n",
       "                        <td id=\"T_3189f300_cf52_11ea_8d36_803253a1022erow6_col5\" class=\"data row6 col5\" >0.185600</td>\n",
       "                        <td id=\"T_3189f300_cf52_11ea_8d36_803253a1022erow6_col6\" class=\"data row6 col6\" >0.157100</td>\n",
       "            </tr>\n",
       "            <tr>\n",
       "                        <th id=\"T_3189f300_cf52_11ea_8d36_803253a1022elevel0_row7\" class=\"row_heading level0 row7\" >7</th>\n",
       "                        <td id=\"T_3189f300_cf52_11ea_8d36_803253a1022erow7_col0\" class=\"data row7 col0\" >Decision Tree</td>\n",
       "                        <td id=\"T_3189f300_cf52_11ea_8d36_803253a1022erow7_col1\" class=\"data row7 col1\" >3.223500</td>\n",
       "                        <td id=\"T_3189f300_cf52_11ea_8d36_803253a1022erow7_col2\" class=\"data row7 col2\" >23.515900</td>\n",
       "                        <td id=\"T_3189f300_cf52_11ea_8d36_803253a1022erow7_col3\" class=\"data row7 col3\" >4.629300</td>\n",
       "                        <td id=\"T_3189f300_cf52_11ea_8d36_803253a1022erow7_col4\" class=\"data row7 col4\" >0.706100</td>\n",
       "                        <td id=\"T_3189f300_cf52_11ea_8d36_803253a1022erow7_col5\" class=\"data row7 col5\" >0.199100</td>\n",
       "                        <td id=\"T_3189f300_cf52_11ea_8d36_803253a1022erow7_col6\" class=\"data row7 col6\" >0.154600</td>\n",
       "            </tr>\n",
       "            <tr>\n",
       "                        <th id=\"T_3189f300_cf52_11ea_8d36_803253a1022elevel0_row8\" class=\"row_heading level0 row8\" >8</th>\n",
       "                        <td id=\"T_3189f300_cf52_11ea_8d36_803253a1022erow8_col0\" class=\"data row8 col0\" >Ridge Regression</td>\n",
       "                        <td id=\"T_3189f300_cf52_11ea_8d36_803253a1022erow8_col1\" class=\"data row8 col1\" >3.521400</td>\n",
       "                        <td id=\"T_3189f300_cf52_11ea_8d36_803253a1022erow8_col2\" class=\"data row8 col2\" >27.767400</td>\n",
       "                        <td id=\"T_3189f300_cf52_11ea_8d36_803253a1022erow8_col3\" class=\"data row8 col3\" >5.043500</td>\n",
       "                        <td id=\"T_3189f300_cf52_11ea_8d36_803253a1022erow8_col4\" class=\"data row8 col4\" >0.687000</td>\n",
       "                        <td id=\"T_3189f300_cf52_11ea_8d36_803253a1022erow8_col5\" class=\"data row8 col5\" >0.259400</td>\n",
       "                        <td id=\"T_3189f300_cf52_11ea_8d36_803253a1022erow8_col6\" class=\"data row8 col6\" >0.171600</td>\n",
       "            </tr>\n",
       "            <tr>\n",
       "                        <th id=\"T_3189f300_cf52_11ea_8d36_803253a1022elevel0_row9\" class=\"row_heading level0 row9\" >9</th>\n",
       "                        <td id=\"T_3189f300_cf52_11ea_8d36_803253a1022erow9_col0\" class=\"data row9 col0\" >Least Angle Regression</td>\n",
       "                        <td id=\"T_3189f300_cf52_11ea_8d36_803253a1022erow9_col1\" class=\"data row9 col1\" >3.548400</td>\n",
       "                        <td id=\"T_3189f300_cf52_11ea_8d36_803253a1022erow9_col2\" class=\"data row9 col2\" >27.706500</td>\n",
       "                        <td id=\"T_3189f300_cf52_11ea_8d36_803253a1022erow9_col3\" class=\"data row9 col3\" >5.051900</td>\n",
       "                        <td id=\"T_3189f300_cf52_11ea_8d36_803253a1022erow9_col4\" class=\"data row9 col4\" >0.686300</td>\n",
       "                        <td id=\"T_3189f300_cf52_11ea_8d36_803253a1022erow9_col5\" class=\"data row9 col5\" >0.260800</td>\n",
       "                        <td id=\"T_3189f300_cf52_11ea_8d36_803253a1022erow9_col6\" class=\"data row9 col6\" >0.172600</td>\n",
       "            </tr>\n",
       "            <tr>\n",
       "                        <th id=\"T_3189f300_cf52_11ea_8d36_803253a1022elevel0_row10\" class=\"row_heading level0 row10\" >10</th>\n",
       "                        <td id=\"T_3189f300_cf52_11ea_8d36_803253a1022erow10_col0\" class=\"data row10 col0\" >Bayesian Ridge</td>\n",
       "                        <td id=\"T_3189f300_cf52_11ea_8d36_803253a1022erow10_col1\" class=\"data row10 col1\" >3.499000</td>\n",
       "                        <td id=\"T_3189f300_cf52_11ea_8d36_803253a1022erow10_col2\" class=\"data row10 col2\" >27.972300</td>\n",
       "                        <td id=\"T_3189f300_cf52_11ea_8d36_803253a1022erow10_col3\" class=\"data row10 col3\" >5.053300</td>\n",
       "                        <td id=\"T_3189f300_cf52_11ea_8d36_803253a1022erow10_col4\" class=\"data row10 col4\" >0.686100</td>\n",
       "                        <td id=\"T_3189f300_cf52_11ea_8d36_803253a1022erow10_col5\" class=\"data row10 col5\" >0.250800</td>\n",
       "                        <td id=\"T_3189f300_cf52_11ea_8d36_803253a1022erow10_col6\" class=\"data row10 col6\" >0.169600</td>\n",
       "            </tr>\n",
       "            <tr>\n",
       "                        <th id=\"T_3189f300_cf52_11ea_8d36_803253a1022elevel0_row11\" class=\"row_heading level0 row11\" >11</th>\n",
       "                        <td id=\"T_3189f300_cf52_11ea_8d36_803253a1022erow11_col0\" class=\"data row11 col0\" >Linear Regression</td>\n",
       "                        <td id=\"T_3189f300_cf52_11ea_8d36_803253a1022erow11_col1\" class=\"data row11 col1\" >3.557300</td>\n",
       "                        <td id=\"T_3189f300_cf52_11ea_8d36_803253a1022erow11_col2\" class=\"data row11 col2\" >27.762900</td>\n",
       "                        <td id=\"T_3189f300_cf52_11ea_8d36_803253a1022erow11_col3\" class=\"data row11 col3\" >5.057500</td>\n",
       "                        <td id=\"T_3189f300_cf52_11ea_8d36_803253a1022erow11_col4\" class=\"data row11 col4\" >0.685700</td>\n",
       "                        <td id=\"T_3189f300_cf52_11ea_8d36_803253a1022erow11_col5\" class=\"data row11 col5\" >0.261300</td>\n",
       "                        <td id=\"T_3189f300_cf52_11ea_8d36_803253a1022erow11_col6\" class=\"data row11 col6\" >0.173100</td>\n",
       "            </tr>\n",
       "            <tr>\n",
       "                        <th id=\"T_3189f300_cf52_11ea_8d36_803253a1022elevel0_row12\" class=\"row_heading level0 row12\" >12</th>\n",
       "                        <td id=\"T_3189f300_cf52_11ea_8d36_803253a1022erow12_col0\" class=\"data row12 col0\" >TheilSen Regressor</td>\n",
       "                        <td id=\"T_3189f300_cf52_11ea_8d36_803253a1022erow12_col1\" class=\"data row12 col1\" >3.415400</td>\n",
       "                        <td id=\"T_3189f300_cf52_11ea_8d36_803253a1022erow12_col2\" class=\"data row12 col2\" >28.643100</td>\n",
       "                        <td id=\"T_3189f300_cf52_11ea_8d36_803253a1022erow12_col3\" class=\"data row12 col3\" >5.067400</td>\n",
       "                        <td id=\"T_3189f300_cf52_11ea_8d36_803253a1022erow12_col4\" class=\"data row12 col4\" >0.685100</td>\n",
       "                        <td id=\"T_3189f300_cf52_11ea_8d36_803253a1022erow12_col5\" class=\"data row12 col5\" >0.270200</td>\n",
       "                        <td id=\"T_3189f300_cf52_11ea_8d36_803253a1022erow12_col6\" class=\"data row12 col6\" >0.159200</td>\n",
       "            </tr>\n",
       "            <tr>\n",
       "                        <th id=\"T_3189f300_cf52_11ea_8d36_803253a1022elevel0_row13\" class=\"row_heading level0 row13\" >13</th>\n",
       "                        <td id=\"T_3189f300_cf52_11ea_8d36_803253a1022erow13_col0\" class=\"data row13 col0\" >Random Sample Consensus</td>\n",
       "                        <td id=\"T_3189f300_cf52_11ea_8d36_803253a1022erow13_col1\" class=\"data row13 col1\" >3.393000</td>\n",
       "                        <td id=\"T_3189f300_cf52_11ea_8d36_803253a1022erow13_col2\" class=\"data row13 col2\" >31.498700</td>\n",
       "                        <td id=\"T_3189f300_cf52_11ea_8d36_803253a1022erow13_col3\" class=\"data row13 col3\" >5.205500</td>\n",
       "                        <td id=\"T_3189f300_cf52_11ea_8d36_803253a1022erow13_col4\" class=\"data row13 col4\" >0.658300</td>\n",
       "                        <td id=\"T_3189f300_cf52_11ea_8d36_803253a1022erow13_col5\" class=\"data row13 col5\" >0.279000</td>\n",
       "                        <td id=\"T_3189f300_cf52_11ea_8d36_803253a1022erow13_col6\" class=\"data row13 col6\" >0.161700</td>\n",
       "            </tr>\n",
       "            <tr>\n",
       "                        <th id=\"T_3189f300_cf52_11ea_8d36_803253a1022elevel0_row14\" class=\"row_heading level0 row14\" >14</th>\n",
       "                        <td id=\"T_3189f300_cf52_11ea_8d36_803253a1022erow14_col0\" class=\"data row14 col0\" >Orthogonal Matching Pursuit</td>\n",
       "                        <td id=\"T_3189f300_cf52_11ea_8d36_803253a1022erow14_col1\" class=\"data row14 col1\" >3.957700</td>\n",
       "                        <td id=\"T_3189f300_cf52_11ea_8d36_803253a1022erow14_col2\" class=\"data row14 col2\" >32.233200</td>\n",
       "                        <td id=\"T_3189f300_cf52_11ea_8d36_803253a1022erow14_col3\" class=\"data row14 col3\" >5.501400</td>\n",
       "                        <td id=\"T_3189f300_cf52_11ea_8d36_803253a1022erow14_col4\" class=\"data row14 col4\" >0.633600</td>\n",
       "                        <td id=\"T_3189f300_cf52_11ea_8d36_803253a1022erow14_col5\" class=\"data row14 col5\" >0.301200</td>\n",
       "                        <td id=\"T_3189f300_cf52_11ea_8d36_803253a1022erow14_col6\" class=\"data row14 col6\" >0.200600</td>\n",
       "            </tr>\n",
       "            <tr>\n",
       "                        <th id=\"T_3189f300_cf52_11ea_8d36_803253a1022elevel0_row15\" class=\"row_heading level0 row15\" >15</th>\n",
       "                        <td id=\"T_3189f300_cf52_11ea_8d36_803253a1022erow15_col0\" class=\"data row15 col0\" >Lasso Regression</td>\n",
       "                        <td id=\"T_3189f300_cf52_11ea_8d36_803253a1022erow15_col1\" class=\"data row15 col1\" >3.906800</td>\n",
       "                        <td id=\"T_3189f300_cf52_11ea_8d36_803253a1022erow15_col2\" class=\"data row15 col2\" >33.022400</td>\n",
       "                        <td id=\"T_3189f300_cf52_11ea_8d36_803253a1022erow15_col3\" class=\"data row15 col3\" >5.522300</td>\n",
       "                        <td id=\"T_3189f300_cf52_11ea_8d36_803253a1022erow15_col4\" class=\"data row15 col4\" >0.631600</td>\n",
       "                        <td id=\"T_3189f300_cf52_11ea_8d36_803253a1022erow15_col5\" class=\"data row15 col5\" >0.258100</td>\n",
       "                        <td id=\"T_3189f300_cf52_11ea_8d36_803253a1022erow15_col6\" class=\"data row15 col6\" >0.182200</td>\n",
       "            </tr>\n",
       "            <tr>\n",
       "                        <th id=\"T_3189f300_cf52_11ea_8d36_803253a1022elevel0_row16\" class=\"row_heading level0 row16\" >16</th>\n",
       "                        <td id=\"T_3189f300_cf52_11ea_8d36_803253a1022erow16_col0\" class=\"data row16 col0\" >Elastic Net</td>\n",
       "                        <td id=\"T_3189f300_cf52_11ea_8d36_803253a1022erow16_col1\" class=\"data row16 col1\" >3.935200</td>\n",
       "                        <td id=\"T_3189f300_cf52_11ea_8d36_803253a1022erow16_col2\" class=\"data row16 col2\" >33.146000</td>\n",
       "                        <td id=\"T_3189f300_cf52_11ea_8d36_803253a1022erow16_col3\" class=\"data row16 col3\" >5.548400</td>\n",
       "                        <td id=\"T_3189f300_cf52_11ea_8d36_803253a1022erow16_col4\" class=\"data row16 col4\" >0.626800</td>\n",
       "                        <td id=\"T_3189f300_cf52_11ea_8d36_803253a1022erow16_col5\" class=\"data row16 col5\" >0.259200</td>\n",
       "                        <td id=\"T_3189f300_cf52_11ea_8d36_803253a1022erow16_col6\" class=\"data row16 col6\" >0.183200</td>\n",
       "            </tr>\n",
       "            <tr>\n",
       "                        <th id=\"T_3189f300_cf52_11ea_8d36_803253a1022elevel0_row17\" class=\"row_heading level0 row17\" >17</th>\n",
       "                        <td id=\"T_3189f300_cf52_11ea_8d36_803253a1022erow17_col0\" class=\"data row17 col0\" >Huber Regressor</td>\n",
       "                        <td id=\"T_3189f300_cf52_11ea_8d36_803253a1022erow17_col1\" class=\"data row17 col1\" >3.884200</td>\n",
       "                        <td id=\"T_3189f300_cf52_11ea_8d36_803253a1022erow17_col2\" class=\"data row17 col2\" >37.797300</td>\n",
       "                        <td id=\"T_3189f300_cf52_11ea_8d36_803253a1022erow17_col3\" class=\"data row17 col3\" >5.796100</td>\n",
       "                        <td id=\"T_3189f300_cf52_11ea_8d36_803253a1022erow17_col4\" class=\"data row17 col4\" >0.582400</td>\n",
       "                        <td id=\"T_3189f300_cf52_11ea_8d36_803253a1022erow17_col5\" class=\"data row17 col5\" >0.279300</td>\n",
       "                        <td id=\"T_3189f300_cf52_11ea_8d36_803253a1022erow17_col6\" class=\"data row17 col6\" >0.180000</td>\n",
       "            </tr>\n",
       "            <tr>\n",
       "                        <th id=\"T_3189f300_cf52_11ea_8d36_803253a1022elevel0_row18\" class=\"row_heading level0 row18\" >18</th>\n",
       "                        <td id=\"T_3189f300_cf52_11ea_8d36_803253a1022erow18_col0\" class=\"data row18 col0\" >K Neighbors Regressor</td>\n",
       "                        <td id=\"T_3189f300_cf52_11ea_8d36_803253a1022erow18_col1\" class=\"data row18 col1\" >4.942000</td>\n",
       "                        <td id=\"T_3189f300_cf52_11ea_8d36_803253a1022erow18_col2\" class=\"data row18 col2\" >54.127300</td>\n",
       "                        <td id=\"T_3189f300_cf52_11ea_8d36_803253a1022erow18_col3\" class=\"data row18 col3\" >7.117500</td>\n",
       "                        <td id=\"T_3189f300_cf52_11ea_8d36_803253a1022erow18_col4\" class=\"data row18 col4\" >0.374800</td>\n",
       "                        <td id=\"T_3189f300_cf52_11ea_8d36_803253a1022erow18_col5\" class=\"data row18 col5\" >0.269200</td>\n",
       "                        <td id=\"T_3189f300_cf52_11ea_8d36_803253a1022erow18_col6\" class=\"data row18 col6\" >0.218600</td>\n",
       "            </tr>\n",
       "            <tr>\n",
       "                        <th id=\"T_3189f300_cf52_11ea_8d36_803253a1022elevel0_row19\" class=\"row_heading level0 row19\" >19</th>\n",
       "                        <td id=\"T_3189f300_cf52_11ea_8d36_803253a1022erow19_col0\" class=\"data row19 col0\" >Support Vector Machine</td>\n",
       "                        <td id=\"T_3189f300_cf52_11ea_8d36_803253a1022erow19_col1\" class=\"data row19 col1\" >5.641800</td>\n",
       "                        <td id=\"T_3189f300_cf52_11ea_8d36_803253a1022erow19_col2\" class=\"data row19 col2\" >74.651700</td>\n",
       "                        <td id=\"T_3189f300_cf52_11ea_8d36_803253a1022erow19_col3\" class=\"data row19 col3\" >8.419200</td>\n",
       "                        <td id=\"T_3189f300_cf52_11ea_8d36_803253a1022erow19_col4\" class=\"data row19 col4\" >0.148200</td>\n",
       "                        <td id=\"T_3189f300_cf52_11ea_8d36_803253a1022erow19_col5\" class=\"data row19 col5\" >0.318200</td>\n",
       "                        <td id=\"T_3189f300_cf52_11ea_8d36_803253a1022erow19_col6\" class=\"data row19 col6\" >0.243800</td>\n",
       "            </tr>\n",
       "            <tr>\n",
       "                        <th id=\"T_3189f300_cf52_11ea_8d36_803253a1022elevel0_row20\" class=\"row_heading level0 row20\" >20</th>\n",
       "                        <td id=\"T_3189f300_cf52_11ea_8d36_803253a1022erow20_col0\" class=\"data row20 col0\" >Lasso Least Angle Regression</td>\n",
       "                        <td id=\"T_3189f300_cf52_11ea_8d36_803253a1022erow20_col1\" class=\"data row20 col1\" >6.820000</td>\n",
       "                        <td id=\"T_3189f300_cf52_11ea_8d36_803253a1022erow20_col2\" class=\"data row20 col2\" >87.011800</td>\n",
       "                        <td id=\"T_3189f300_cf52_11ea_8d36_803253a1022erow20_col3\" class=\"data row20 col3\" >9.196500</td>\n",
       "                        <td id=\"T_3189f300_cf52_11ea_8d36_803253a1022erow20_col4\" class=\"data row20 col4\" >-0.020900</td>\n",
       "                        <td id=\"T_3189f300_cf52_11ea_8d36_803253a1022erow20_col5\" class=\"data row20 col5\" >0.383000</td>\n",
       "                        <td id=\"T_3189f300_cf52_11ea_8d36_803253a1022erow20_col6\" class=\"data row20 col6\" >0.357100</td>\n",
       "            </tr>\n",
       "            <tr>\n",
       "                        <th id=\"T_3189f300_cf52_11ea_8d36_803253a1022elevel0_row21\" class=\"row_heading level0 row21\" >21</th>\n",
       "                        <td id=\"T_3189f300_cf52_11ea_8d36_803253a1022erow21_col0\" class=\"data row21 col0\" >Passive Aggressive Regressor</td>\n",
       "                        <td id=\"T_3189f300_cf52_11ea_8d36_803253a1022erow21_col1\" class=\"data row21 col1\" >7.743700</td>\n",
       "                        <td id=\"T_3189f300_cf52_11ea_8d36_803253a1022erow21_col2\" class=\"data row21 col2\" >111.552300</td>\n",
       "                        <td id=\"T_3189f300_cf52_11ea_8d36_803253a1022erow21_col3\" class=\"data row21 col3\" >10.227900</td>\n",
       "                        <td id=\"T_3189f300_cf52_11ea_8d36_803253a1022erow21_col4\" class=\"data row21 col4\" >-0.289400</td>\n",
       "                        <td id=\"T_3189f300_cf52_11ea_8d36_803253a1022erow21_col5\" class=\"data row21 col5\" >0.492800</td>\n",
       "                        <td id=\"T_3189f300_cf52_11ea_8d36_803253a1022erow21_col6\" class=\"data row21 col6\" >0.400400</td>\n",
       "            </tr>\n",
       "    </tbody></table>"
      ],
      "text/plain": [
       "<pandas.io.formats.style.Styler at 0x291dd999f88>"
      ]
     },
     "execution_count": 14,
     "metadata": {},
     "output_type": "execute_result"
    }
   ],
   "source": [
    "compare_models()"
   ]
  },
  {
   "cell_type": "code",
   "execution_count": 15,
   "metadata": {},
   "outputs": [
    {
     "data": {
      "text/html": [
       "<div>\n",
       "<style scoped>\n",
       "    .dataframe tbody tr th:only-of-type {\n",
       "        vertical-align: middle;\n",
       "    }\n",
       "\n",
       "    .dataframe tbody tr th {\n",
       "        vertical-align: top;\n",
       "    }\n",
       "\n",
       "    .dataframe thead th {\n",
       "        text-align: right;\n",
       "    }\n",
       "</style>\n",
       "<table border=\"1\" class=\"dataframe\">\n",
       "  <thead>\n",
       "    <tr style=\"text-align: right;\">\n",
       "      <th></th>\n",
       "      <th>MAE</th>\n",
       "      <th>MSE</th>\n",
       "      <th>RMSE</th>\n",
       "      <th>R2</th>\n",
       "      <th>RMSLE</th>\n",
       "      <th>MAPE</th>\n",
       "    </tr>\n",
       "  </thead>\n",
       "  <tbody>\n",
       "    <tr>\n",
       "      <th>0</th>\n",
       "      <td>2.1411</td>\n",
       "      <td>9.0096</td>\n",
       "      <td>3.0016</td>\n",
       "      <td>0.8850</td>\n",
       "      <td>0.1467</td>\n",
       "      <td>0.1095</td>\n",
       "    </tr>\n",
       "    <tr>\n",
       "      <th>1</th>\n",
       "      <td>1.9295</td>\n",
       "      <td>7.1121</td>\n",
       "      <td>2.6669</td>\n",
       "      <td>0.8936</td>\n",
       "      <td>0.1324</td>\n",
       "      <td>0.0998</td>\n",
       "    </tr>\n",
       "    <tr>\n",
       "      <th>2</th>\n",
       "      <td>2.4641</td>\n",
       "      <td>13.5517</td>\n",
       "      <td>3.6813</td>\n",
       "      <td>0.8722</td>\n",
       "      <td>0.1547</td>\n",
       "      <td>0.1160</td>\n",
       "    </tr>\n",
       "    <tr>\n",
       "      <th>3</th>\n",
       "      <td>1.8603</td>\n",
       "      <td>7.8193</td>\n",
       "      <td>2.7963</td>\n",
       "      <td>0.8305</td>\n",
       "      <td>0.1241</td>\n",
       "      <td>0.0812</td>\n",
       "    </tr>\n",
       "    <tr>\n",
       "      <th>4</th>\n",
       "      <td>2.2520</td>\n",
       "      <td>8.5483</td>\n",
       "      <td>2.9238</td>\n",
       "      <td>0.8772</td>\n",
       "      <td>0.1263</td>\n",
       "      <td>0.1080</td>\n",
       "    </tr>\n",
       "    <tr>\n",
       "      <th>5</th>\n",
       "      <td>2.6015</td>\n",
       "      <td>12.7573</td>\n",
       "      <td>3.5717</td>\n",
       "      <td>0.9103</td>\n",
       "      <td>0.1547</td>\n",
       "      <td>0.1271</td>\n",
       "    </tr>\n",
       "    <tr>\n",
       "      <th>6</th>\n",
       "      <td>1.7791</td>\n",
       "      <td>5.5710</td>\n",
       "      <td>2.3603</td>\n",
       "      <td>0.9451</td>\n",
       "      <td>0.1289</td>\n",
       "      <td>0.0962</td>\n",
       "    </tr>\n",
       "    <tr>\n",
       "      <th>7</th>\n",
       "      <td>1.5152</td>\n",
       "      <td>4.1457</td>\n",
       "      <td>2.0361</td>\n",
       "      <td>0.9288</td>\n",
       "      <td>0.1078</td>\n",
       "      <td>0.0849</td>\n",
       "    </tr>\n",
       "    <tr>\n",
       "      <th>8</th>\n",
       "      <td>3.4519</td>\n",
       "      <td>42.4698</td>\n",
       "      <td>6.5169</td>\n",
       "      <td>0.6638</td>\n",
       "      <td>0.1760</td>\n",
       "      <td>0.1123</td>\n",
       "    </tr>\n",
       "    <tr>\n",
       "      <th>9</th>\n",
       "      <td>2.6426</td>\n",
       "      <td>14.3944</td>\n",
       "      <td>3.7940</td>\n",
       "      <td>0.7643</td>\n",
       "      <td>0.1825</td>\n",
       "      <td>0.1352</td>\n",
       "    </tr>\n",
       "    <tr>\n",
       "      <th>Mean</th>\n",
       "      <td>2.2637</td>\n",
       "      <td>12.5379</td>\n",
       "      <td>3.3349</td>\n",
       "      <td>0.8571</td>\n",
       "      <td>0.1434</td>\n",
       "      <td>0.1070</td>\n",
       "    </tr>\n",
       "    <tr>\n",
       "      <th>SD</th>\n",
       "      <td>0.5286</td>\n",
       "      <td>10.4856</td>\n",
       "      <td>1.1902</td>\n",
       "      <td>0.0807</td>\n",
       "      <td>0.0226</td>\n",
       "      <td>0.0162</td>\n",
       "    </tr>\n",
       "  </tbody>\n",
       "</table>\n",
       "</div>"
      ],
      "text/plain": [
       "         MAE      MSE    RMSE      R2   RMSLE    MAPE\n",
       "0     2.1411   9.0096  3.0016  0.8850  0.1467  0.1095\n",
       "1     1.9295   7.1121  2.6669  0.8936  0.1324  0.0998\n",
       "2     2.4641  13.5517  3.6813  0.8722  0.1547  0.1160\n",
       "3     1.8603   7.8193  2.7963  0.8305  0.1241  0.0812\n",
       "4     2.2520   8.5483  2.9238  0.8772  0.1263  0.1080\n",
       "5     2.6015  12.7573  3.5717  0.9103  0.1547  0.1271\n",
       "6     1.7791   5.5710  2.3603  0.9451  0.1289  0.0962\n",
       "7     1.5152   4.1457  2.0361  0.9288  0.1078  0.0849\n",
       "8     3.4519  42.4698  6.5169  0.6638  0.1760  0.1123\n",
       "9     2.6426  14.3944  3.7940  0.7643  0.1825  0.1352\n",
       "Mean  2.2637  12.5379  3.3349  0.8571  0.1434  0.1070\n",
       "SD    0.5286  10.4856  1.1902  0.0807  0.0226  0.0162"
      ]
     },
     "metadata": {},
     "output_type": "display_data"
    }
   ],
   "source": [
    "reg_model=create_model('catboost')"
   ]
  },
  {
   "cell_type": "code",
   "execution_count": null,
   "metadata": {},
   "outputs": [],
   "source": [
    "### Hyper Tuning of Model\n",
    "reg_model_hypertune=tune_model('catboost',n_iter=50,optimize='mae')"
   ]
  },
  {
   "cell_type": "code",
   "execution_count": 53,
   "metadata": {},
   "outputs": [
    {
     "data": {
      "text/html": [
       "<div>\n",
       "<style scoped>\n",
       "    .dataframe tbody tr th:only-of-type {\n",
       "        vertical-align: middle;\n",
       "    }\n",
       "\n",
       "    .dataframe tbody tr th {\n",
       "        vertical-align: top;\n",
       "    }\n",
       "\n",
       "    .dataframe thead th {\n",
       "        text-align: right;\n",
       "    }\n",
       "</style>\n",
       "<table border=\"1\" class=\"dataframe\">\n",
       "  <thead>\n",
       "    <tr style=\"text-align: right;\">\n",
       "      <th></th>\n",
       "      <th>Age</th>\n",
       "      <th>Income</th>\n",
       "      <th>SpendingScore</th>\n",
       "      <th>Savings</th>\n",
       "    </tr>\n",
       "  </thead>\n",
       "  <tbody>\n",
       "    <tr>\n",
       "      <th>0</th>\n",
       "      <td>58</td>\n",
       "      <td>77769</td>\n",
       "      <td>0.791329</td>\n",
       "      <td>6559.829923</td>\n",
       "    </tr>\n",
       "    <tr>\n",
       "      <th>1</th>\n",
       "      <td>59</td>\n",
       "      <td>81799</td>\n",
       "      <td>0.791082</td>\n",
       "      <td>5417.661426</td>\n",
       "    </tr>\n",
       "    <tr>\n",
       "      <th>2</th>\n",
       "      <td>62</td>\n",
       "      <td>74751</td>\n",
       "      <td>0.702657</td>\n",
       "      <td>9258.992965</td>\n",
       "    </tr>\n",
       "    <tr>\n",
       "      <th>3</th>\n",
       "      <td>59</td>\n",
       "      <td>74373</td>\n",
       "      <td>0.765680</td>\n",
       "      <td>7346.334504</td>\n",
       "    </tr>\n",
       "    <tr>\n",
       "      <th>4</th>\n",
       "      <td>87</td>\n",
       "      <td>17760</td>\n",
       "      <td>0.348778</td>\n",
       "      <td>16869.507130</td>\n",
       "    </tr>\n",
       "  </tbody>\n",
       "</table>\n",
       "</div>"
      ],
      "text/plain": [
       "   Age  Income  SpendingScore       Savings\n",
       "0   58   77769       0.791329   6559.829923\n",
       "1   59   81799       0.791082   5417.661426\n",
       "2   62   74751       0.702657   9258.992965\n",
       "3   59   74373       0.765680   7346.334504\n",
       "4   87   17760       0.348778  16869.507130"
      ]
     },
     "metadata": {},
     "output_type": "display_data"
    }
   ],
   "source": [
    "#### Clustering Techniques\n",
    "jewellery=get_data('jewellery')"
   ]
  },
  {
   "cell_type": "code",
   "execution_count": 54,
   "metadata": {},
   "outputs": [
    {
     "name": "stdout",
     "output_type": "stream",
     "text": [
      "\n",
      "Setup Succesfully Completed!\n"
     ]
    },
    {
     "data": {
      "text/html": [
       "<style  type=\"text/css\" >\n",
       "</style><table id=\"T_c6aa91c0_cf55_11ea_8595_803253a1022e\" ><thead>    <tr>        <th class=\"blank level0\" ></th>        <th class=\"col_heading level0 col0\" >Description</th>        <th class=\"col_heading level0 col1\" >Value</th>    </tr></thead><tbody>\n",
       "                <tr>\n",
       "                        <th id=\"T_c6aa91c0_cf55_11ea_8595_803253a1022elevel0_row0\" class=\"row_heading level0 row0\" >0</th>\n",
       "                        <td id=\"T_c6aa91c0_cf55_11ea_8595_803253a1022erow0_col0\" class=\"data row0 col0\" >session_id </td>\n",
       "                        <td id=\"T_c6aa91c0_cf55_11ea_8595_803253a1022erow0_col1\" class=\"data row0 col1\" >2927</td>\n",
       "            </tr>\n",
       "            <tr>\n",
       "                        <th id=\"T_c6aa91c0_cf55_11ea_8595_803253a1022elevel0_row1\" class=\"row_heading level0 row1\" >1</th>\n",
       "                        <td id=\"T_c6aa91c0_cf55_11ea_8595_803253a1022erow1_col0\" class=\"data row1 col0\" >Original Data </td>\n",
       "                        <td id=\"T_c6aa91c0_cf55_11ea_8595_803253a1022erow1_col1\" class=\"data row1 col1\" >(505, 4)</td>\n",
       "            </tr>\n",
       "            <tr>\n",
       "                        <th id=\"T_c6aa91c0_cf55_11ea_8595_803253a1022elevel0_row2\" class=\"row_heading level0 row2\" >2</th>\n",
       "                        <td id=\"T_c6aa91c0_cf55_11ea_8595_803253a1022erow2_col0\" class=\"data row2 col0\" >Missing Values </td>\n",
       "                        <td id=\"T_c6aa91c0_cf55_11ea_8595_803253a1022erow2_col1\" class=\"data row2 col1\" >False</td>\n",
       "            </tr>\n",
       "            <tr>\n",
       "                        <th id=\"T_c6aa91c0_cf55_11ea_8595_803253a1022elevel0_row3\" class=\"row_heading level0 row3\" >3</th>\n",
       "                        <td id=\"T_c6aa91c0_cf55_11ea_8595_803253a1022erow3_col0\" class=\"data row3 col0\" >Numeric Features </td>\n",
       "                        <td id=\"T_c6aa91c0_cf55_11ea_8595_803253a1022erow3_col1\" class=\"data row3 col1\" >4</td>\n",
       "            </tr>\n",
       "            <tr>\n",
       "                        <th id=\"T_c6aa91c0_cf55_11ea_8595_803253a1022elevel0_row4\" class=\"row_heading level0 row4\" >4</th>\n",
       "                        <td id=\"T_c6aa91c0_cf55_11ea_8595_803253a1022erow4_col0\" class=\"data row4 col0\" >Categorical Features </td>\n",
       "                        <td id=\"T_c6aa91c0_cf55_11ea_8595_803253a1022erow4_col1\" class=\"data row4 col1\" >0</td>\n",
       "            </tr>\n",
       "            <tr>\n",
       "                        <th id=\"T_c6aa91c0_cf55_11ea_8595_803253a1022elevel0_row5\" class=\"row_heading level0 row5\" >5</th>\n",
       "                        <td id=\"T_c6aa91c0_cf55_11ea_8595_803253a1022erow5_col0\" class=\"data row5 col0\" >Ordinal Features </td>\n",
       "                        <td id=\"T_c6aa91c0_cf55_11ea_8595_803253a1022erow5_col1\" class=\"data row5 col1\" >False</td>\n",
       "            </tr>\n",
       "            <tr>\n",
       "                        <th id=\"T_c6aa91c0_cf55_11ea_8595_803253a1022elevel0_row6\" class=\"row_heading level0 row6\" >6</th>\n",
       "                        <td id=\"T_c6aa91c0_cf55_11ea_8595_803253a1022erow6_col0\" class=\"data row6 col0\" >High Cardinality Features </td>\n",
       "                        <td id=\"T_c6aa91c0_cf55_11ea_8595_803253a1022erow6_col1\" class=\"data row6 col1\" >False</td>\n",
       "            </tr>\n",
       "            <tr>\n",
       "                        <th id=\"T_c6aa91c0_cf55_11ea_8595_803253a1022elevel0_row7\" class=\"row_heading level0 row7\" >7</th>\n",
       "                        <td id=\"T_c6aa91c0_cf55_11ea_8595_803253a1022erow7_col0\" class=\"data row7 col0\" >Transformed Data </td>\n",
       "                        <td id=\"T_c6aa91c0_cf55_11ea_8595_803253a1022erow7_col1\" class=\"data row7 col1\" >(505, 4)</td>\n",
       "            </tr>\n",
       "            <tr>\n",
       "                        <th id=\"T_c6aa91c0_cf55_11ea_8595_803253a1022elevel0_row8\" class=\"row_heading level0 row8\" >8</th>\n",
       "                        <td id=\"T_c6aa91c0_cf55_11ea_8595_803253a1022erow8_col0\" class=\"data row8 col0\" >Numeric Imputer </td>\n",
       "                        <td id=\"T_c6aa91c0_cf55_11ea_8595_803253a1022erow8_col1\" class=\"data row8 col1\" >mean</td>\n",
       "            </tr>\n",
       "            <tr>\n",
       "                        <th id=\"T_c6aa91c0_cf55_11ea_8595_803253a1022elevel0_row9\" class=\"row_heading level0 row9\" >9</th>\n",
       "                        <td id=\"T_c6aa91c0_cf55_11ea_8595_803253a1022erow9_col0\" class=\"data row9 col0\" >Categorical Imputer </td>\n",
       "                        <td id=\"T_c6aa91c0_cf55_11ea_8595_803253a1022erow9_col1\" class=\"data row9 col1\" >constant</td>\n",
       "            </tr>\n",
       "            <tr>\n",
       "                        <th id=\"T_c6aa91c0_cf55_11ea_8595_803253a1022elevel0_row10\" class=\"row_heading level0 row10\" >10</th>\n",
       "                        <td id=\"T_c6aa91c0_cf55_11ea_8595_803253a1022erow10_col0\" class=\"data row10 col0\" >Normalize </td>\n",
       "                        <td id=\"T_c6aa91c0_cf55_11ea_8595_803253a1022erow10_col1\" class=\"data row10 col1\" >False</td>\n",
       "            </tr>\n",
       "            <tr>\n",
       "                        <th id=\"T_c6aa91c0_cf55_11ea_8595_803253a1022elevel0_row11\" class=\"row_heading level0 row11\" >11</th>\n",
       "                        <td id=\"T_c6aa91c0_cf55_11ea_8595_803253a1022erow11_col0\" class=\"data row11 col0\" >Normalize Method </td>\n",
       "                        <td id=\"T_c6aa91c0_cf55_11ea_8595_803253a1022erow11_col1\" class=\"data row11 col1\" >None</td>\n",
       "            </tr>\n",
       "            <tr>\n",
       "                        <th id=\"T_c6aa91c0_cf55_11ea_8595_803253a1022elevel0_row12\" class=\"row_heading level0 row12\" >12</th>\n",
       "                        <td id=\"T_c6aa91c0_cf55_11ea_8595_803253a1022erow12_col0\" class=\"data row12 col0\" >Transformation </td>\n",
       "                        <td id=\"T_c6aa91c0_cf55_11ea_8595_803253a1022erow12_col1\" class=\"data row12 col1\" >False</td>\n",
       "            </tr>\n",
       "            <tr>\n",
       "                        <th id=\"T_c6aa91c0_cf55_11ea_8595_803253a1022elevel0_row13\" class=\"row_heading level0 row13\" >13</th>\n",
       "                        <td id=\"T_c6aa91c0_cf55_11ea_8595_803253a1022erow13_col0\" class=\"data row13 col0\" >Transformation Method </td>\n",
       "                        <td id=\"T_c6aa91c0_cf55_11ea_8595_803253a1022erow13_col1\" class=\"data row13 col1\" >None</td>\n",
       "            </tr>\n",
       "            <tr>\n",
       "                        <th id=\"T_c6aa91c0_cf55_11ea_8595_803253a1022elevel0_row14\" class=\"row_heading level0 row14\" >14</th>\n",
       "                        <td id=\"T_c6aa91c0_cf55_11ea_8595_803253a1022erow14_col0\" class=\"data row14 col0\" >PCA </td>\n",
       "                        <td id=\"T_c6aa91c0_cf55_11ea_8595_803253a1022erow14_col1\" class=\"data row14 col1\" >False</td>\n",
       "            </tr>\n",
       "            <tr>\n",
       "                        <th id=\"T_c6aa91c0_cf55_11ea_8595_803253a1022elevel0_row15\" class=\"row_heading level0 row15\" >15</th>\n",
       "                        <td id=\"T_c6aa91c0_cf55_11ea_8595_803253a1022erow15_col0\" class=\"data row15 col0\" >PCA Method </td>\n",
       "                        <td id=\"T_c6aa91c0_cf55_11ea_8595_803253a1022erow15_col1\" class=\"data row15 col1\" >None</td>\n",
       "            </tr>\n",
       "            <tr>\n",
       "                        <th id=\"T_c6aa91c0_cf55_11ea_8595_803253a1022elevel0_row16\" class=\"row_heading level0 row16\" >16</th>\n",
       "                        <td id=\"T_c6aa91c0_cf55_11ea_8595_803253a1022erow16_col0\" class=\"data row16 col0\" >PCA components </td>\n",
       "                        <td id=\"T_c6aa91c0_cf55_11ea_8595_803253a1022erow16_col1\" class=\"data row16 col1\" >None</td>\n",
       "            </tr>\n",
       "            <tr>\n",
       "                        <th id=\"T_c6aa91c0_cf55_11ea_8595_803253a1022elevel0_row17\" class=\"row_heading level0 row17\" >17</th>\n",
       "                        <td id=\"T_c6aa91c0_cf55_11ea_8595_803253a1022erow17_col0\" class=\"data row17 col0\" >Ignore Low Variance </td>\n",
       "                        <td id=\"T_c6aa91c0_cf55_11ea_8595_803253a1022erow17_col1\" class=\"data row17 col1\" >False</td>\n",
       "            </tr>\n",
       "            <tr>\n",
       "                        <th id=\"T_c6aa91c0_cf55_11ea_8595_803253a1022elevel0_row18\" class=\"row_heading level0 row18\" >18</th>\n",
       "                        <td id=\"T_c6aa91c0_cf55_11ea_8595_803253a1022erow18_col0\" class=\"data row18 col0\" >Combine Rare Levels </td>\n",
       "                        <td id=\"T_c6aa91c0_cf55_11ea_8595_803253a1022erow18_col1\" class=\"data row18 col1\" >False</td>\n",
       "            </tr>\n",
       "            <tr>\n",
       "                        <th id=\"T_c6aa91c0_cf55_11ea_8595_803253a1022elevel0_row19\" class=\"row_heading level0 row19\" >19</th>\n",
       "                        <td id=\"T_c6aa91c0_cf55_11ea_8595_803253a1022erow19_col0\" class=\"data row19 col0\" >Rare Level Threshold </td>\n",
       "                        <td id=\"T_c6aa91c0_cf55_11ea_8595_803253a1022erow19_col1\" class=\"data row19 col1\" >None</td>\n",
       "            </tr>\n",
       "            <tr>\n",
       "                        <th id=\"T_c6aa91c0_cf55_11ea_8595_803253a1022elevel0_row20\" class=\"row_heading level0 row20\" >20</th>\n",
       "                        <td id=\"T_c6aa91c0_cf55_11ea_8595_803253a1022erow20_col0\" class=\"data row20 col0\" >Numeric Binning </td>\n",
       "                        <td id=\"T_c6aa91c0_cf55_11ea_8595_803253a1022erow20_col1\" class=\"data row20 col1\" >False</td>\n",
       "            </tr>\n",
       "            <tr>\n",
       "                        <th id=\"T_c6aa91c0_cf55_11ea_8595_803253a1022elevel0_row21\" class=\"row_heading level0 row21\" >21</th>\n",
       "                        <td id=\"T_c6aa91c0_cf55_11ea_8595_803253a1022erow21_col0\" class=\"data row21 col0\" >Remove Multicollinearity </td>\n",
       "                        <td id=\"T_c6aa91c0_cf55_11ea_8595_803253a1022erow21_col1\" class=\"data row21 col1\" >False</td>\n",
       "            </tr>\n",
       "            <tr>\n",
       "                        <th id=\"T_c6aa91c0_cf55_11ea_8595_803253a1022elevel0_row22\" class=\"row_heading level0 row22\" >22</th>\n",
       "                        <td id=\"T_c6aa91c0_cf55_11ea_8595_803253a1022erow22_col0\" class=\"data row22 col0\" >Multicollinearity Threshold </td>\n",
       "                        <td id=\"T_c6aa91c0_cf55_11ea_8595_803253a1022erow22_col1\" class=\"data row22 col1\" >None</td>\n",
       "            </tr>\n",
       "            <tr>\n",
       "                        <th id=\"T_c6aa91c0_cf55_11ea_8595_803253a1022elevel0_row23\" class=\"row_heading level0 row23\" >23</th>\n",
       "                        <td id=\"T_c6aa91c0_cf55_11ea_8595_803253a1022erow23_col0\" class=\"data row23 col0\" >Group Features </td>\n",
       "                        <td id=\"T_c6aa91c0_cf55_11ea_8595_803253a1022erow23_col1\" class=\"data row23 col1\" >False</td>\n",
       "            </tr>\n",
       "    </tbody></table>"
      ],
      "text/plain": [
       "<pandas.io.formats.style.Styler at 0x291dfd1efc8>"
      ]
     },
     "metadata": {},
     "output_type": "display_data"
    }
   ],
   "source": [
    "from pycaret.clustering import *\n",
    "clust_algo=setup(jewellery)"
   ]
  },
  {
   "cell_type": "code",
   "execution_count": null,
   "metadata": {},
   "outputs": [],
   "source": []
  },
  {
   "cell_type": "code",
   "execution_count": 59,
   "metadata": {},
   "outputs": [],
   "source": [
    "kmeans=create_model('kmeans')"
   ]
  },
  {
   "cell_type": "code",
   "execution_count": 60,
   "metadata": {},
   "outputs": [
    {
     "data": {
      "text/plain": [
       "KMeans(algorithm='auto', copy_x=True, init='k-means++', max_iter=300,\n",
       "       n_clusters=4, n_init=10, n_jobs=None, precompute_distances='auto',\n",
       "       random_state=2927, tol=0.0001, verbose=0)"
      ]
     },
     "execution_count": 60,
     "metadata": {},
     "output_type": "execute_result"
    }
   ],
   "source": [
    "kmeans"
   ]
  },
  {
   "cell_type": "code",
   "execution_count": 61,
   "metadata": {},
   "outputs": [],
   "source": [
    "### Assig the labels to the dataframe\n",
    "kmeans_df=assign_model(kmeans)"
   ]
  },
  {
   "cell_type": "code",
   "execution_count": 62,
   "metadata": {},
   "outputs": [
    {
     "data": {
      "text/html": [
       "<div>\n",
       "<style scoped>\n",
       "    .dataframe tbody tr th:only-of-type {\n",
       "        vertical-align: middle;\n",
       "    }\n",
       "\n",
       "    .dataframe tbody tr th {\n",
       "        vertical-align: top;\n",
       "    }\n",
       "\n",
       "    .dataframe thead th {\n",
       "        text-align: right;\n",
       "    }\n",
       "</style>\n",
       "<table border=\"1\" class=\"dataframe\">\n",
       "  <thead>\n",
       "    <tr style=\"text-align: right;\">\n",
       "      <th></th>\n",
       "      <th>Age</th>\n",
       "      <th>Income</th>\n",
       "      <th>SpendingScore</th>\n",
       "      <th>Savings</th>\n",
       "      <th>Cluster</th>\n",
       "    </tr>\n",
       "  </thead>\n",
       "  <tbody>\n",
       "    <tr>\n",
       "      <th>0</th>\n",
       "      <td>58</td>\n",
       "      <td>77769</td>\n",
       "      <td>0.791329</td>\n",
       "      <td>6559.829923</td>\n",
       "      <td>Cluster 2</td>\n",
       "    </tr>\n",
       "    <tr>\n",
       "      <th>1</th>\n",
       "      <td>59</td>\n",
       "      <td>81799</td>\n",
       "      <td>0.791082</td>\n",
       "      <td>5417.661426</td>\n",
       "      <td>Cluster 2</td>\n",
       "    </tr>\n",
       "    <tr>\n",
       "      <th>2</th>\n",
       "      <td>62</td>\n",
       "      <td>74751</td>\n",
       "      <td>0.702657</td>\n",
       "      <td>9258.992965</td>\n",
       "      <td>Cluster 2</td>\n",
       "    </tr>\n",
       "    <tr>\n",
       "      <th>3</th>\n",
       "      <td>59</td>\n",
       "      <td>74373</td>\n",
       "      <td>0.765680</td>\n",
       "      <td>7346.334504</td>\n",
       "      <td>Cluster 2</td>\n",
       "    </tr>\n",
       "    <tr>\n",
       "      <th>4</th>\n",
       "      <td>87</td>\n",
       "      <td>17760</td>\n",
       "      <td>0.348778</td>\n",
       "      <td>16869.507130</td>\n",
       "      <td>Cluster 1</td>\n",
       "    </tr>\n",
       "    <tr>\n",
       "      <th>...</th>\n",
       "      <td>...</td>\n",
       "      <td>...</td>\n",
       "      <td>...</td>\n",
       "      <td>...</td>\n",
       "      <td>...</td>\n",
       "    </tr>\n",
       "    <tr>\n",
       "      <th>500</th>\n",
       "      <td>28</td>\n",
       "      <td>101206</td>\n",
       "      <td>0.387441</td>\n",
       "      <td>14936.775389</td>\n",
       "      <td>Cluster 3</td>\n",
       "    </tr>\n",
       "    <tr>\n",
       "      <th>501</th>\n",
       "      <td>93</td>\n",
       "      <td>19934</td>\n",
       "      <td>0.203140</td>\n",
       "      <td>17969.693769</td>\n",
       "      <td>Cluster 1</td>\n",
       "    </tr>\n",
       "    <tr>\n",
       "      <th>502</th>\n",
       "      <td>90</td>\n",
       "      <td>35297</td>\n",
       "      <td>0.355149</td>\n",
       "      <td>16091.401954</td>\n",
       "      <td>Cluster 1</td>\n",
       "    </tr>\n",
       "    <tr>\n",
       "      <th>503</th>\n",
       "      <td>91</td>\n",
       "      <td>20681</td>\n",
       "      <td>0.354679</td>\n",
       "      <td>18401.088445</td>\n",
       "      <td>Cluster 1</td>\n",
       "    </tr>\n",
       "    <tr>\n",
       "      <th>504</th>\n",
       "      <td>89</td>\n",
       "      <td>30267</td>\n",
       "      <td>0.289310</td>\n",
       "      <td>14386.351880</td>\n",
       "      <td>Cluster 1</td>\n",
       "    </tr>\n",
       "  </tbody>\n",
       "</table>\n",
       "<p>505 rows × 5 columns</p>\n",
       "</div>"
      ],
      "text/plain": [
       "     Age  Income  SpendingScore       Savings    Cluster\n",
       "0     58   77769       0.791329   6559.829923  Cluster 2\n",
       "1     59   81799       0.791082   5417.661426  Cluster 2\n",
       "2     62   74751       0.702657   9258.992965  Cluster 2\n",
       "3     59   74373       0.765680   7346.334504  Cluster 2\n",
       "4     87   17760       0.348778  16869.507130  Cluster 1\n",
       "..   ...     ...            ...           ...        ...\n",
       "500   28  101206       0.387441  14936.775389  Cluster 3\n",
       "501   93   19934       0.203140  17969.693769  Cluster 1\n",
       "502   90   35297       0.355149  16091.401954  Cluster 1\n",
       "503   91   20681       0.354679  18401.088445  Cluster 1\n",
       "504   89   30267       0.289310  14386.351880  Cluster 1\n",
       "\n",
       "[505 rows x 5 columns]"
      ]
     },
     "execution_count": 62,
     "metadata": {},
     "output_type": "execute_result"
    }
   ],
   "source": [
    "kmeans_df"
   ]
  },
  {
   "cell_type": "code",
   "execution_count": 64,
   "metadata": {},
   "outputs": [
    {
     "data": {
      "text/html": [
       "        <script type=\"text/javascript\">\n",
       "        window.PlotlyConfig = {MathJaxConfig: 'local'};\n",
       "        if (window.MathJax) {MathJax.Hub.Config({SVG: {font: \"STIX-Web\"}});}\n",
       "        if (typeof require !== 'undefined') {\n",
       "        require.undef(\"plotly\");\n",
       "        requirejs.config({\n",
       "            paths: {\n",
       "                'plotly': ['https://cdn.plot.ly/plotly-latest.min']\n",
       "            }\n",
       "        });\n",
       "        require(['plotly'], function(Plotly) {\n",
       "            window._Plotly = Plotly;\n",
       "        });\n",
       "        }\n",
       "        </script>\n",
       "        "
      ]
     },
     "metadata": {},
     "output_type": "display_data"
    },
    {
     "data": {
      "application/vnd.plotly.v1+json": {
       "config": {
        "plotlyServerURL": "https://plot.ly"
       },
       "data": [
        {
         "customdata": [
          [
           58
          ],
          [
           59
          ],
          [
           62
          ],
          [
           59
          ],
          [
           87
          ],
          [
           29
          ],
          [
           54
          ],
          [
           87
          ],
          [
           83
          ],
          [
           84
          ],
          [
           85
          ],
          [
           36
          ],
          [
           30
          ],
          [
           31
          ],
          [
           61
          ],
          [
           92
          ],
          [
           55
          ],
          [
           87
          ],
          [
           82
          ],
          [
           88
          ],
          [
           30
          ],
          [
           84
          ],
          [
           53
          ],
          [
           91
          ],
          [
           89
          ],
          [
           30
          ],
          [
           17
          ],
          [
           55
          ],
          [
           90
          ],
          [
           61
          ],
          [
           59
          ],
          [
           59
          ],
          [
           88
          ],
          [
           56
          ],
          [
           33
          ],
          [
           61
          ],
          [
           84
          ],
          [
           61
          ],
          [
           39
          ],
          [
           31
          ],
          [
           60
          ],
          [
           87
          ],
          [
           20
          ],
          [
           57
          ],
          [
           61
          ],
          [
           18
          ],
          [
           83
          ],
          [
           25
          ],
          [
           31
          ],
          [
           55
          ],
          [
           84
          ],
          [
           36
          ],
          [
           27
          ],
          [
           91
          ],
          [
           53
          ],
          [
           91
          ],
          [
           25
          ],
          [
           83
          ],
          [
           87
          ],
          [
           90
          ],
          [
           83
          ],
          [
           83
          ],
          [
           83
          ],
          [
           61
          ],
          [
           64
          ],
          [
           62
          ],
          [
           91
          ],
          [
           28
          ],
          [
           23
          ],
          [
           55
          ],
          [
           58
          ],
          [
           31
          ]
         ],
         "hoverlabel": {
          "namelength": 0
         },
         "hovertemplate": "Cluster=Cluster 0<br>PCA1=%{x}<br>PCA2=%{y}<br>Feature=%{customdata[0]}",
         "legendgroup": "Cluster=Cluster 0",
         "marker": {
          "color": "#636efa",
          "opacity": 0.5,
          "symbol": "circle"
         },
         "mode": "markers",
         "name": "Cluster=Cluster 0",
         "showlegend": true,
         "textposition": "top center",
         "type": "scatter",
         "x": [
          51532.47005840445,
          61085.16181542694,
          47415.38916240537,
          45280.29645748767,
          53976.790002631344,
          59803.04557919305,
          47210.61128412966,
          47518.881318567954,
          50874.5937331519,
          48697.32854441,
          59239.85352839819,
          52679.137422450636,
          52465.033586659956,
          51395.224355999555,
          48029.23598296095,
          48551.89779119268,
          54778.91990969149,
          43600.21618030979,
          63317.06653244297,
          41328.252663310006,
          48281.96476402195,
          61617.25602185726,
          55783.42885801495,
          43084.431301068405,
          46000.80248469958,
          41859.15436997564,
          50433.85138453339,
          52263.49410874452,
          54230.311420476646,
          45920.30384600763,
          45728.40114434416,
          45302.57090416747,
          41933.87634909214,
          46271.74999066815,
          54542.56026091133,
          50397.08389773139,
          48602.571111840254,
          49923.232402586356,
          47836.448391826874,
          45049.71303774853,
          55795.99791496399,
          52844.214540832174,
          48577.245944563736,
          44074.74432267951,
          47964.55226138695,
          62912.45709780573,
          52086.38065892726,
          55587.351730733615,
          42157.805428701016,
          66750.62108457659,
          56651.45548374752,
          53924.5970395588,
          47842.883679066545,
          48410.00929047234,
          59798.17482849977,
          47549.76254622712,
          57857.28905692235,
          43861.747091025536,
          43629.01273923759,
          46993.64108790843,
          58984.55027496731,
          44952.90203538897,
          41580.27174463825,
          42045.79570257143,
          55809.60825993986,
          59196.59308633916,
          53899.234059979615,
          42414.13984409398,
          53422.55248570129,
          56449.67813828145,
          55168.45154506194,
          47182.06858155584
         ],
         "xaxis": "x",
         "y": [
          6006.733833662514,
          4243.721728508772,
          4709.388807631829,
          4437.356566167742,
          5488.389984582108,
          8450.307562492615,
          6674.23467749592,
          4941.999362973273,
          -5178.0528134400865,
          5282.497809754311,
          4745.144589124809,
          -4749.057025715379,
          3371.5330650130977,
          5657.241494980821,
          5422.323757682564,
          4668.214697412175,
          4629.7913652810985,
          -5657.478831520013,
          4946.177510120509,
          -4823.645899335602,
          8499.966944599812,
          6726.313750520615,
          4732.087714707708,
          -4660.855622444522,
          3884.452851319085,
          -4543.326267067208,
          -6854.20613407797,
          5916.358054129832,
          3238.4287703236855,
          -4953.921129423374,
          3658.3065012522216,
          3778.181421309609,
          4717.9972052376115,
          4207.414796612185,
          4193.8829993723075,
          2890.550968564704,
          6249.537360930087,
          6048.72407922771,
          6059.983323374552,
          4590.872583456107,
          4252.897540706997,
          -5677.667475551925,
          -6305.307759672745,
          -6307.669140625985,
          -4397.186114919692,
          5261.355213266389,
          3388.4270346813746,
          3427.135195258811,
          -5954.454601851158,
          2693.0081866217497,
          4271.292185091136,
          5765.842845736468,
          4758.188729714917,
          -5693.665441157463,
          4315.751792559067,
          3437.8964823947804,
          5717.501137167643,
          -6877.035883382081,
          -6254.84094120914,
          -4647.129088588664,
          3350.7116179336454,
          -4985.51480122041,
          -5615.560772408655,
          -3106.1034758683704,
          3879.149733262657,
          3903.97492681537,
          3176.746885409092,
          -5432.281819509658,
          3894.2354791277485,
          5101.398697367522,
          4016.981622201614,
          -4557.71660179189
         ],
         "yaxis": "y"
        },
        {
         "customdata": [
          [
           83
          ],
          [
           91
          ],
          [
           30
          ],
          [
           57
          ],
          [
           33
          ],
          [
           59
          ],
          [
           58
          ],
          [
           29
          ],
          [
           59
          ],
          [
           84
          ],
          [
           64
          ],
          [
           87
          ],
          [
           88
          ],
          [
           35
          ],
          [
           34
          ],
          [
           58
          ],
          [
           56
          ],
          [
           63
          ],
          [
           58
          ],
          [
           60
          ],
          [
           24
          ],
          [
           94
          ],
          [
           58
          ],
          [
           25
          ],
          [
           36
          ],
          [
           62
          ],
          [
           66
          ],
          [
           37
          ],
          [
           27
          ],
          [
           24
          ],
          [
           31
          ],
          [
           23
          ],
          [
           34
          ],
          [
           88
          ],
          [
           89
          ],
          [
           32
          ],
          [
           38
          ],
          [
           57
          ],
          [
           90
          ],
          [
           33
          ],
          [
           66
          ],
          [
           35
          ],
          [
           31
          ],
          [
           35
          ],
          [
           63
          ],
          [
           30
          ],
          [
           22
          ],
          [
           84
          ],
          [
           28
          ],
          [
           88
          ],
          [
           84
          ],
          [
           88
          ],
          [
           35
          ],
          [
           82
          ],
          [
           64
          ],
          [
           91
          ],
          [
           62
          ],
          [
           62
          ],
          [
           34
          ],
          [
           60
          ],
          [
           32
          ],
          [
           65
          ],
          [
           24
          ],
          [
           88
          ],
          [
           82
          ],
          [
           26
          ],
          [
           60
          ],
          [
           31
          ],
          [
           85
          ],
          [
           63
          ],
          [
           56
          ],
          [
           28
          ],
          [
           58
          ],
          [
           26
          ],
          [
           62
          ],
          [
           86
          ],
          [
           56
          ],
          [
           91
          ],
          [
           59
          ],
          [
           28
          ],
          [
           85
          ],
          [
           65
          ],
          [
           94
          ],
          [
           86
          ],
          [
           30
          ],
          [
           62
          ],
          [
           85
          ],
          [
           59
          ],
          [
           30
          ],
          [
           83
          ],
          [
           66
          ],
          [
           31
          ],
          [
           88
          ],
          [
           28
          ],
          [
           85
          ],
          [
           64
          ],
          [
           33
          ],
          [
           62
          ],
          [
           89
          ],
          [
           61
          ],
          [
           29
          ],
          [
           56
          ],
          [
           92
          ],
          [
           62
          ],
          [
           60
          ],
          [
           85
          ],
          [
           88
          ],
          [
           94
          ],
          [
           62
          ],
          [
           64
          ],
          [
           29
          ],
          [
           27
          ],
          [
           31
          ],
          [
           87
          ],
          [
           32
          ],
          [
           63
          ],
          [
           58
          ],
          [
           62
          ],
          [
           32
          ],
          [
           93
          ],
          [
           59
          ],
          [
           61
          ],
          [
           53
          ],
          [
           82
          ],
          [
           28
          ],
          [
           32
          ],
          [
           89
          ],
          [
           84
          ],
          [
           87
          ],
          [
           29
          ],
          [
           58
          ],
          [
           29
          ],
          [
           55
          ],
          [
           25
          ],
          [
           60
          ],
          [
           88
          ],
          [
           24
          ],
          [
           56
          ],
          [
           95
          ],
          [
           89
          ],
          [
           86
          ],
          [
           85
          ],
          [
           60
          ],
          [
           87
          ],
          [
           29
          ],
          [
           23
          ],
          [
           31
          ]
         ],
         "hoverlabel": {
          "namelength": 0
         },
         "hovertemplate": "Cluster=Cluster 1<br>PCA1=%{x}<br>PCA2=%{y}<br>Feature=%{customdata[0]}",
         "legendgroup": "Cluster=Cluster 1",
         "marker": {
          "color": "#EF553B",
          "opacity": 0.5,
          "symbol": "circle"
         },
         "mode": "markers",
         "name": "Cluster=Cluster 1",
         "showlegend": true,
         "textposition": "top center",
         "type": "scatter",
         "x": [
          -58306.89374121137,
          -53484.99044797625,
          -50504.82314273774,
          -56854.24491468414,
          -45489.12002421867,
          -46897.28720484187,
          -36822.882729901095,
          -47271.41327624214,
          -47975.62989430373,
          -47129.84416342065,
          -49427.524137026165,
          -48890.16204283168,
          -39916.590611526924,
          -49274.442396159335,
          -45508.353885877696,
          -43012.76978349143,
          -48329.37521986346,
          -42805.17469366232,
          -47000.17170879293,
          -54957.490989172366,
          -57495.82751822284,
          -48496.84792497307,
          -45148.06214608794,
          -50446.687258505626,
          -57750.757746123934,
          -50055.78756429359,
          -53103.847912897334,
          -44680.89350931928,
          -44945.69901444303,
          -46108.56441807314,
          -40907.25147798811,
          -48448.18982139343,
          -47148.04950665262,
          -56820.08755360429,
          -37730.76934060821,
          -28705.212826769828,
          -47927.756153353286,
          -49952.56386424758,
          -49206.07297923625,
          -56491.726161601466,
          -45504.928216643886,
          -43811.47262039391,
          -56178.67327005182,
          -63634.72200273959,
          -54413.158553524765,
          -40724.15688509667,
          -53514.36608306828,
          -63656.34758998017,
          -39063.286676190924,
          -46522.919419751204,
          -39882.02333138305,
          -42432.6450996623,
          -49610.67501015973,
          -48754.553222931485,
          -44821.271955370954,
          -28723.991919566026,
          -51459.513505463474,
          -55300.438356116516,
          -42172.09142372817,
          -58771.33010043621,
          -43231.47790879881,
          -55368.98427568016,
          -48469.7582255558,
          -51191.18311026799,
          -53329.08890863797,
          -42253.87287795827,
          -55116.836018168404,
          -41272.895339861825,
          -58127.50387027005,
          -42594.24300193299,
          -48254.006229924926,
          -46206.7607091729,
          -57176.86780610608,
          -48762.36466827123,
          -45316.581406095596,
          -39708.6469896635,
          -57516.27318363647,
          -51304.42079121022,
          -48867.33422412478,
          -47072.83270827884,
          -52350.13688160771,
          -42485.19893050841,
          -42546.30928703386,
          -52508.30353343577,
          -45053.501151340206,
          -52745.27199507387,
          -53120.54070874584,
          -49855.3602390612,
          -37510.588011321204,
          -51858.95285225978,
          -41183.65207165714,
          -38870.67264138036,
          -53905.33080870671,
          -49083.989044483504,
          -49618.564251583935,
          -42334.04767150637,
          -48031.60033869837,
          -46621.6751899209,
          -55003.114735362986,
          -52219.788910263276,
          -40392.52353813579,
          -55837.8962125591,
          -57945.29400939382,
          -44891.72694017819,
          -33223.78792758693,
          -41229.085326467924,
          -48086.47161506785,
          -45889.16124528397,
          -39730.754923732,
          -44207.36919669006,
          -42152.50281937877,
          -39255.473865513486,
          -48338.70466261935,
          -52957.61629178099,
          -56895.33602609467,
          -38257.01252267872,
          -47591.22511122003,
          -52877.38164603339,
          -57888.9869379862,
          -45243.33599570983,
          -51590.97205811305,
          -40276.44813108958,
          -44316.39097613655,
          -50029.04867348446,
          -33685.82303783503,
          -59885.183450800905,
          -51335.696362198076,
          -51006.62596717183,
          -41654.285370916754,
          -46888.4058987738,
          -47339.9473341083,
          -46752.171891149104,
          -60035.35573518636,
          -53680.72058527794,
          -47490.05337363709,
          -42382.69883203623,
          -41047.376366850345,
          -42194.798734952434,
          -41090.432711623675,
          -47366.649393097156,
          -51240.79467490212,
          -47211.309218979426,
          -49640.51633393595,
          -46294.69652581512,
          -43219.570630798,
          -48459.5788531647,
          -45592.66271459648
         ],
         "xaxis": "x",
         "y": [
          -1498.307062590399,
          -2964.8711615389425,
          -2541.1040744024217,
          -1039.8869670204472,
          -857.2365574199112,
          -1500.599753550346,
          -3004.1359250357345,
          -1422.2632521531457,
          -2697.4806496368724,
          -2166.945526513025,
          -3282.496783689518,
          -3117.043572435124,
          -5860.406970913435,
          -1819.1411133435663,
          -1716.0957515179941,
          -2388.397515567187,
          -2106.9565485318567,
          -2383.9235864924353,
          -3258.5927312494305,
          -1273.0340909671531,
          -874.5938320396211,
          -1255.023121717519,
          -918.4435413744562,
          -1789.8310613735046,
          -1546.7860227984625,
          -458.7329379734676,
          -1838.664645556659,
          -3320.2381091067437,
          -2663.4363034143594,
          -4704.90071814008,
          -2247.7230980697605,
          -424.4944516024696,
          -948.1700320034133,
          -2626.494760123041,
          -3447.522865699354,
          -2125.5165732968344,
          1139.0677249894109,
          -1016.362817605335,
          646.5438723752065,
          -1529.9495201383818,
          -1656.425055816305,
          -3844.0506429942848,
          -1450.7318688866605,
          -958.5365645110744,
          -1055.9968931753674,
          -3403.3549980948796,
          -3511.6505427575594,
          -672.1303645870966,
          -2178.951260878268,
          -2395.1506203279105,
          -3145.838811669633,
          -2804.317598781818,
          -2494.346015854769,
          -3476.7575329414085,
          -809.2478504066133,
          -1283.2493416842212,
          -1443.6312210611657,
          -2379.445392952535,
          -3482.9509244203155,
          -1946.425634881532,
          -2464.366506729347,
          -990.6075970316513,
          -975.0110199269358,
          -2999.0481368530072,
          -3704.115203066883,
          -2813.4088657561033,
          -3386.631387427836,
          -2039.0519450914783,
          -3329.42415575039,
          -4573.135949676132,
          -3586.3929123393627,
          -3972.4372911141995,
          -500.38222602903306,
          -1902.303752571812,
          72.34189620852688,
          -2812.640832274528,
          -2662.2379174130565,
          -1341.6421504993373,
          -3330.0950893142635,
          -3652.1430220775064,
          -1271.836696800181,
          -1573.1293339464692,
          -2323.9550250667417,
          -2003.3795586148924,
          -3267.853088065968,
          -3270.250012030127,
          -2373.906852113616,
          -2551.640945867301,
          -2385.930673599972,
          -1998.314514884126,
          -2299.1775764582517,
          -4966.632983631634,
          776.7213551828838,
          -2706.954245859542,
          -1200.4987085747,
          -946.4427010468272,
          -2520.879670925898,
          -1061.3928297006275,
          -1806.3716349634742,
          -361.8228772290578,
          -1918.0706539765367,
          -2913.151326193393,
          -1690.2235244245392,
          -1059.5099705589162,
          -4327.59980040403,
          -559.8887343311553,
          -3267.6645334787445,
          -3656.8600405231227,
          -3215.3117531036205,
          -1788.5950192551395,
          -3595.4264994551563,
          -2456.0624695072065,
          -296.9479102201359,
          -512.1681616652346,
          -219.83567344031886,
          -3209.705699855124,
          -2876.0168218541626,
          -1034.0462861180677,
          -2297.4104284560135,
          -2386.74467038797,
          -1709.6809922654018,
          -3159.4030652887413,
          -1681.1078093986155,
          -2907.7981801354927,
          -2359.981060852438,
          968.182184170179,
          -2253.3249547903124,
          1229.6342021038022,
          -1284.2763352326012,
          -1747.284515874375,
          -2756.2104567652154,
          -4260.667936777427,
          -2067.785202202856,
          -1523.1531827794747,
          -1025.655637713158,
          -1026.2178281219424,
          163.00860194240744,
          -2831.244972649778,
          -2507.468037848859,
          -2226.523883594685,
          -337.58311029945645,
          -497.0287321468138,
          -2403.452656500527,
          -3445.1407626668774,
          -982.6374045457414,
          -623.0248233972336,
          -1858.741542867275
         ],
         "yaxis": "y"
        },
        {
         "customdata": [
          [
           89
          ],
          [
           58
          ],
          [
           56
          ],
          [
           37
          ],
          [
           89
          ],
          [
           29
          ],
          [
           23
          ],
          [
           34
          ],
          [
           64
          ],
          [
           63
          ],
          [
           85
          ],
          [
           62
          ],
          [
           59
          ],
          [
           92
          ],
          [
           67
          ],
          [
           58
          ],
          [
           58
          ],
          [
           38
          ],
          [
           57
          ],
          [
           31
          ],
          [
           36
          ],
          [
           25
          ],
          [
           66
          ],
          [
           64
          ],
          [
           59
          ],
          [
           90
          ],
          [
           68
          ],
          [
           35
          ],
          [
           84
          ],
          [
           24
          ],
          [
           29
          ],
          [
           28
          ],
          [
           81
          ],
          [
           57
          ],
          [
           37
          ],
          [
           91
          ],
          [
           82
          ],
          [
           36
          ],
          [
           31
          ],
          [
           61
          ],
          [
           64
          ],
          [
           83
          ],
          [
           63
          ],
          [
           55
          ],
          [
           86
          ],
          [
           57
          ],
          [
           94
          ],
          [
           37
          ],
          [
           26
          ],
          [
           57
          ],
          [
           37
          ],
          [
           88
          ],
          [
           61
          ],
          [
           91
          ],
          [
           84
          ],
          [
           43
          ],
          [
           59
          ],
          [
           90
          ],
          [
           88
          ],
          [
           59
          ],
          [
           59
          ],
          [
           88
          ],
          [
           37
          ],
          [
           33
          ],
          [
           90
          ],
          [
           31
          ],
          [
           90
          ],
          [
           91
          ],
          [
           29
          ],
          [
           83
          ],
          [
           84
          ],
          [
           87
          ],
          [
           22
          ],
          [
           58
          ],
          [
           31
          ],
          [
           33
          ],
          [
           56
          ],
          [
           30
          ],
          [
           85
          ],
          [
           87
          ],
          [
           34
          ],
          [
           61
          ],
          [
           30
          ],
          [
           88
          ],
          [
           56
          ],
          [
           30
          ],
          [
           25
          ],
          [
           61
          ],
          [
           88
          ],
          [
           37
          ],
          [
           35
          ],
          [
           85
          ],
          [
           85
          ],
          [
           88
          ],
          [
           59
          ],
          [
           90
          ],
          [
           33
          ],
          [
           62
          ],
          [
           59
          ],
          [
           91
          ],
          [
           33
          ],
          [
           87
          ],
          [
           26
          ],
          [
           88
          ],
          [
           24
          ],
          [
           91
          ],
          [
           86
          ],
          [
           36
          ],
          [
           87
          ],
          [
           33
          ],
          [
           59
          ],
          [
           29
          ],
          [
           59
          ],
          [
           57
          ],
          [
           40
          ],
          [
           42
          ],
          [
           89
          ],
          [
           93
          ],
          [
           17
          ],
          [
           24
          ],
          [
           34
          ],
          [
           90
          ],
          [
           20
          ],
          [
           92
          ],
          [
           84
          ],
          [
           59
          ],
          [
           61
          ],
          [
           67
          ],
          [
           82
          ],
          [
           94
          ],
          [
           28
          ],
          [
           36
          ],
          [
           91
          ],
          [
           34
          ],
          [
           77
          ],
          [
           63
          ],
          [
           35
          ],
          [
           21
          ],
          [
           86
          ],
          [
           56
          ],
          [
           83
          ],
          [
           28
          ],
          [
           59
          ],
          [
           83
          ],
          [
           83
          ],
          [
           58
          ],
          [
           91
          ],
          [
           29
          ],
          [
           61
          ],
          [
           84
          ],
          [
           34
          ],
          [
           33
          ],
          [
           55
          ],
          [
           88
          ],
          [
           91
          ],
          [
           91
          ]
         ],
         "hoverlabel": {
          "namelength": 0
         },
         "hovertemplate": "Cluster=Cluster 2<br>PCA1=%{x}<br>PCA2=%{y}<br>Feature=%{customdata[0]}",
         "legendgroup": "Cluster=Cluster 2",
         "marker": {
          "color": "#00cc96",
          "opacity": 0.5,
          "symbol": "circle"
         },
         "mode": "markers",
         "name": "Cluster=Cluster 2",
         "showlegend": true,
         "textposition": "top center",
         "type": "scatter",
         "x": [
          -6075.7239459118755,
          -7981.746810683441,
          -6214.354917756374,
          4968.764645874576,
          -3222.028497117646,
          1547.9124395594265,
          375.6120252474155,
          4615.604589783899,
          -1755.3663563989908,
          834.6063416853555,
          -4114.665812502666,
          5679.935032255564,
          -4883.7205617978125,
          -967.1345292294802,
          -1709.006711698437,
          1855.0479869186888,
          -7793.454352086527,
          -18832.3230899951,
          -9176.939917160447,
          -5149.414552966312,
          3574.8676282851393,
          3735.2223001205466,
          -7431.169946592949,
          -4794.730185972459,
          -1864.594059061443,
          2868.675335891815,
          -9270.983246113974,
          7034.566991846879,
          -6586.375015596342,
          -811.2733012583001,
          -12402.614006035741,
          -805.5182840466932,
          -7827.504392605749,
          -7225.656651496555,
          -7793.21150891416,
          3607.621847535451,
          -3147.9716901024,
          -10371.487057071718,
          -2220.6354506100643,
          5619.12553876363,
          5122.28256229892,
          -9600.009525716896,
          -6270.130057704636,
          2663.814142724262,
          -11770.096221904692,
          -1424.2968527852474,
          -5898.74447968115,
          -5787.584457334289,
          -6051.798027149637,
          7017.407229806952,
          -4661.643199436443,
          3333.0370081988945,
          -10419.650727093276,
          -3197.7706749317085,
          -3127.7464754071866,
          -4588.845682887328,
          -9823.292971418658,
          2555.784235160217,
          5567.478117111814,
          -1710.0091006297735,
          -2630.794135208178,
          1381.2925438038965,
          -10238.837928743034,
          -2329.616759752765,
          -3536.6248996188633,
          -11570.013629472296,
          -12594.175242128533,
          -3881.2792235448305,
          -9447.566957019659,
          -4595.725467462926,
          277.3194547180385,
          9121.208329826184,
          499.4966180961365,
          -4176.722631704309,
          -6529.597912750258,
          -7423.928769536229,
          3385.8220491313227,
          -5414.849621380294,
          11039.026942031716,
          -5806.0770526118185,
          -10072.875118803533,
          3175.7301008876834,
          -5327.512619806884,
          -6874.447300583785,
          -6945.4902208559015,
          1198.2155272857283,
          7325.256189492699,
          -7249.02812979693,
          4864.683651413003,
          -9153.992100917838,
          -5628.98377140921,
          -8175.944783841654,
          4848.442764387986,
          10499.407295945588,
          6644.597612798235,
          -611.8920766835439,
          -879.6961231840176,
          1270.5926186365125,
          -3354.4093954920504,
          -3652.0516272195187,
          1535.3200349238657,
          3442.0678654010494,
          1691.1469990055048,
          -9514.74212229377,
          -5495.930030665687,
          -11393.264281389047,
          -1006.7942808926927,
          -11385.807297750885,
          -5228.773548143097,
          106.44730782999932,
          -2009.7086141751702,
          11129.424149229615,
          -4333.353171495313,
          13091.374153516692,
          -860.4354477953807,
          1797.8692846207557,
          -2601.869628345945,
          -4972.922141129969,
          4241.7758951530495,
          -4197.995995572506,
          -5414.451723823094,
          -14757.626854505614,
          -6112.701966838935,
          -13124.391604038416,
          -847.3002227743386,
          -907.6690876091163,
          -3902.650760127406,
          -1148.5927138363136,
          -284.93461613175003,
          1223.3332842063598,
          -4025.534586861494,
          -9955.599000501974,
          5073.487356522348,
          2456.1149429108887,
          -5713.304475031717,
          -10817.514881421737,
          -18377.080919160897,
          -182.87509706289552,
          -3578.6411667637303,
          -12401.01261442263,
          384.4886537787881,
          -9604.9761012314,
          -4335.121223668246,
          -4856.160277619081,
          -15876.014194933874,
          3594.0424216908364,
          -1254.7961050822776,
          -7927.279393999566,
          2392.951400013233,
          871.0561448640455,
          1380.9095854822615,
          -5506.504775277302,
          8122.08038041555,
          -7740.904879089722,
          -15159.901916245679,
          -1867.5011952055129
         ],
         "xaxis": "x",
         "y": [
          3500.596454313257,
          3467.5659749114216,
          8154.200533863815,
          3943.1170736339145,
          4129.181189416361,
          3973.9069974865156,
          5049.606296947779,
          5713.442041909507,
          4273.205301847638,
          5141.101367432595,
          3078.8964384945943,
          4711.285967238693,
          4688.370746949261,
          4638.724240674154,
          3684.695295940361,
          5468.7432742866995,
          5788.853893383753,
          6823.253328040573,
          7146.662858252785,
          5556.666139133824,
          6638.189488143051,
          4370.467828822721,
          6342.036901878033,
          5174.470545977297,
          5267.35255320978,
          5223.642330390361,
          5996.549152653399,
          3374.2871342934286,
          4795.659622307601,
          4771.515153180696,
          4277.420432790433,
          4348.095679784139,
          5701.697575023517,
          4564.617621855321,
          6334.243251982051,
          4852.444518767342,
          5506.996622913865,
          6211.274488459207,
          4177.140129281853,
          4314.803908984971,
          3424.0736039052904,
          4923.281603355226,
          5401.821696967172,
          3399.120354730325,
          5001.420783196854,
          7267.328542397009,
          5205.840154213883,
          5711.628393266974,
          6221.683453940024,
          5588.800602998209,
          4875.412034392045,
          4012.215493342318,
          5982.858221439138,
          5127.949261280459,
          5318.28199362223,
          4468.268102563847,
          6862.247572080615,
          5164.69038739358,
          6399.6794579285815,
          5692.091704359404,
          5512.809888472105,
          5207.221097509014,
          7423.315368546441,
          6502.2078827755995,
          5070.413098436328,
          6393.584927460241,
          5058.593507665871,
          3532.7508016456404,
          6026.370137728777,
          4575.315245883318,
          5152.077722121319,
          4076.1888638585,
          4450.572465085805,
          5121.948177991024,
          5174.0600160707545,
          5595.425208078434,
          4513.159427781261,
          4509.378948047734,
          4384.687289531571,
          5686.132349951811,
          7033.8323062254785,
          4727.079813055351,
          5507.674538617937,
          3266.4701832643827,
          5240.28369762661,
          6031.597780098124,
          5245.750156657966,
          5030.101509904849,
          4834.95399186589,
          6237.455006749803,
          3413.4609900340365,
          5599.274828311299,
          6716.389270082334,
          4092.586810582497,
          6074.108821940043,
          2642.856462873311,
          4574.029852480235,
          4918.861099714741,
          4039.049708218611,
          4298.147934215803,
          6617.143404468862,
          3293.9257098257876,
          4305.605513370142,
          5484.0622101307545,
          5033.927181148629,
          4760.7266838361265,
          6827.736752280874,
          5239.834486252135,
          4906.821369117013,
          5019.545071865864,
          4571.3116018885175,
          2451.3956456354927,
          6791.121727987137,
          3878.0740056043546,
          1366.21750619139,
          3616.906622264865,
          5720.063910631853,
          5053.974394482311,
          4854.373611538011,
          4646.423038232099,
          6401.49685037856,
          5008.012103778611,
          7150.265686204217,
          5122.2985754661395,
          5435.293808150469,
          4662.571801362165,
          5499.339332721772,
          6154.51860618152,
          4064.008336080813,
          5666.3679547527045,
          5644.552199614274,
          4085.312250446126,
          5244.436809348919,
          5539.978254276129,
          6098.407171499213,
          6677.482101590943,
          5086.37432471311,
          4411.324353776286,
          4687.331305792247,
          6731.622371228148,
          6845.141814371284,
          5517.4569987997975,
          2658.2975188904147,
          6861.841710581512,
          7337.462584330773,
          5244.2237675362085,
          6380.915494292797,
          5673.527728610809,
          5992.684094109713,
          5689.000453091916,
          5567.112673818736,
          6298.4301788677385,
          4731.012058760931,
          5133.639471687393,
          5573.243592768735,
          2685.662685436797
         ],
         "yaxis": "y"
        },
        {
         "customdata": [
          [
           84
          ],
          [
           87
          ],
          [
           39
          ],
          [
           38
          ],
          [
           89
          ],
          [
           59
          ],
          [
           35
          ],
          [
           59
          ],
          [
           87
          ],
          [
           94
          ],
          [
           86
          ],
          [
           60
          ],
          [
           79
          ],
          [
           86
          ],
          [
           60
          ],
          [
           85
          ],
          [
           92
          ],
          [
           37
          ],
          [
           89
          ],
          [
           67
          ],
          [
           31
          ],
          [
           20
          ],
          [
           37
          ],
          [
           57
          ],
          [
           87
          ],
          [
           33
          ],
          [
           56
          ],
          [
           67
          ],
          [
           58
          ],
          [
           89
          ],
          [
           34
          ],
          [
           25
          ],
          [
           44
          ],
          [
           68
          ],
          [
           31
          ],
          [
           58
          ],
          [
           55
          ],
          [
           21
          ],
          [
           36
          ],
          [
           88
          ],
          [
           26
          ],
          [
           29
          ],
          [
           38
          ],
          [
           79
          ],
          [
           51
          ],
          [
           82
          ],
          [
           39
          ],
          [
           87
          ],
          [
           36
          ],
          [
           57
          ],
          [
           61
          ],
          [
           86
          ],
          [
           86
          ],
          [
           35
          ],
          [
           89
          ],
          [
           30
          ],
          [
           60
          ],
          [
           64
          ],
          [
           37
          ],
          [
           65
          ],
          [
           90
          ],
          [
           59
          ],
          [
           29
          ],
          [
           58
          ],
          [
           88
          ],
          [
           63
          ],
          [
           92
          ],
          [
           17
          ],
          [
           34
          ],
          [
           22
          ],
          [
           24
          ],
          [
           36
          ],
          [
           34
          ],
          [
           87
          ],
          [
           85
          ],
          [
           61
          ],
          [
           27
          ],
          [
           59
          ],
          [
           31
          ],
          [
           31
          ],
          [
           93
          ],
          [
           17
          ],
          [
           35
          ],
          [
           28
          ],
          [
           94
          ],
          [
           28
          ],
          [
           33
          ],
          [
           56
          ],
          [
           28
          ],
          [
           86
          ],
          [
           92
          ],
          [
           18
          ],
          [
           61
          ],
          [
           32
          ],
          [
           63
          ],
          [
           58
          ],
          [
           31
          ],
          [
           62
          ],
          [
           60
          ],
          [
           62
          ],
          [
           90
          ],
          [
           33
          ],
          [
           33
          ],
          [
           65
          ],
          [
           59
          ],
          [
           65
          ],
          [
           86
          ],
          [
           32
          ],
          [
           84
          ],
          [
           84
          ],
          [
           90
          ],
          [
           91
          ],
          [
           26
          ],
          [
           92
          ],
          [
           97
          ],
          [
           84
          ],
          [
           58
          ],
          [
           61
          ],
          [
           92
          ],
          [
           87
          ],
          [
           66
          ],
          [
           22
          ],
          [
           91
          ],
          [
           30
          ],
          [
           25
          ],
          [
           28
          ],
          [
           93
          ],
          [
           90
          ],
          [
           91
          ],
          [
           89
          ]
         ],
         "hoverlabel": {
          "namelength": 0
         },
         "hovertemplate": "Cluster=Cluster 3<br>PCA1=%{x}<br>PCA2=%{y}<br>Feature=%{customdata[0]}",
         "legendgroup": "Cluster=Cluster 3",
         "marker": {
          "color": "#ab63fa",
          "opacity": 0.5,
          "symbol": "circle"
         },
         "mode": "markers",
         "name": "Cluster=Cluster 3",
         "showlegend": true,
         "textposition": "top center",
         "type": "scatter",
         "x": [
          30949.636901997954,
          31614.4425654191,
          24294.80847834634,
          23967.006087975635,
          32345.708428700607,
          32322.90855312249,
          22258.608668569905,
          35579.205815806345,
          26298.14841024673,
          22105.034591078263,
          20592.346613007772,
          38543.62512292872,
          26507.04287235992,
          28639.385002450505,
          22224.556143435297,
          33345.15627123119,
          23196.213306438236,
          28912.89513619995,
          28627.25985640031,
          21900.78530003277,
          41298.631292835074,
          30268.7054812633,
          25474.402763797294,
          18943.37281781304,
          38847.169767760824,
          39135.376223130086,
          30148.682673916097,
          31911.001239366346,
          15764.491431415838,
          25328.069962281683,
          32572.750272366204,
          25376.693266073173,
          37228.7347452007,
          32912.892063315856,
          24706.128352845157,
          35758.27543553671,
          31361.085267799153,
          31045.22025567879,
          24491.38889864474,
          32416.939873895564,
          30584.12461511326,
          25732.344972190567,
          25363.919226720427,
          32289.540207166676,
          22350.769816321572,
          32797.643669354955,
          31202.412682476093,
          25765.790042328365,
          30806.776341952795,
          30046.48908092607,
          22393.417730180132,
          19017.16946491751,
          32307.936729140958,
          40849.48059769065,
          24827.978780545982,
          34360.481807350596,
          35187.91053468467,
          40419.57669510418,
          20486.14069594546,
          32561.025360063308,
          23858.598240023435,
          23748.677815454063,
          23032.680124651277,
          32149.921292682888,
          26228.3762864362,
          35572.71538685358,
          23470.847033328027,
          30614.16577855357,
          39941.237375096134,
          30155.334159636997,
          15177.319714667694,
          40673.859644327466,
          36260.399857073884,
          37939.71700891236,
          26983.04636427821,
          34834.90179466,
          35036.71585548722,
          26023.566351406167,
          33379.42058468912,
          29861.546669621468,
          30836.978307627454,
          39513.273555432446,
          27412.69140542124,
          31253.468530449427,
          19785.99439327468,
          35711.07999432948,
          23392.9420468506,
          14006.000965365403,
          30950.1018396824,
          26312.37296892753,
          36008.72535912233,
          37194.90227907422,
          38869.64945267172,
          32210.979768642424,
          31960.754514207278,
          33203.84256888805,
          26578.153196266194,
          36813.76713420397,
          28960.634964946785,
          23896.368807904095,
          19295.267686809577,
          28681.549887585767,
          39399.40138181151,
          34753.148485730824,
          34060.87750047386,
          23022.218263126655,
          31016.95277066788,
          34830.866037353604,
          32691.86956168575,
          24819.360949497754,
          26003.522431925623,
          29210.556946439705,
          33217.92661094811,
          31330.34398452479,
          32853.06228369528,
          34815.25492053808,
          27758.387575808218,
          29240.50974864811,
          26343.678673902472,
          35023.2162708003,
          21973.30795044383,
          31502.360342968233,
          16918.676201100126,
          24613.751980326128,
          31317.298064553714,
          27456.91326667312,
          22236.169474372287,
          38938.11813871436,
          26071.981181359257,
          25938.05049675625
         ],
         "xaxis": "x",
         "y": [
          -4397.197322284796,
          -3948.41315370151,
          -3156.1748677381534,
          -5918.696393593381,
          -2201.720436215357,
          -3681.2903856818057,
          -5195.925409188559,
          -6195.25651540274,
          -5023.038755192277,
          -4346.187741550612,
          -4611.587648361576,
          -7198.0637530044505,
          -5484.674656121102,
          -3130.950539346106,
          -5737.014216399176,
          -6080.299826048205,
          -5613.714946473874,
          -5224.554435670848,
          -3324.816421778019,
          -5234.91443543625,
          -6422.065006311358,
          -4917.675594824391,
          -4541.161711915868,
          -6099.926511675165,
          -8209.639308093887,
          -4339.707016425759,
          -3727.6412226852485,
          -2672.9112969661555,
          -2149.1522120766235,
          -4507.818852759074,
          -6711.005814772032,
          -3922.3292073945445,
          -4575.537648425257,
          -4588.664684244316,
          -6304.286871577947,
          -4122.4720974860165,
          -4837.589604607759,
          -4354.88067353698,
          -3378.5440905478717,
          -3316.8737845198543,
          -5198.6517437837265,
          -4846.280009746121,
          -6518.877743618628,
          -3634.341360640744,
          -5405.192380070515,
          -5654.546848389325,
          -4006.880782404127,
          -4647.515091833702,
          -5560.204679600007,
          -2733.109485171267,
          -5150.746928288217,
          -4587.056600403998,
          -3401.081521768781,
          -5591.430862352513,
          -5088.608312301612,
          -5038.816440742182,
          -4164.858385743977,
          -6642.233640263953,
          -4804.203700356802,
          -5658.529147335403,
          -4857.9973025145555,
          -4085.3878885407817,
          -5461.179044520959,
          -5508.9451693990995,
          -4266.484164687805,
          -4807.665202226781,
          -4720.248925408392,
          -4762.434912619342,
          -5237.495032301016,
          -6491.84591630207,
          4253.670268811265,
          -5771.827716588535,
          -3890.34479626126,
          -4683.440281859756,
          -2897.418110778122,
          -5079.540930731759,
          -6415.699536226253,
          -7172.33478561994,
          -4139.053044046943,
          -4210.49174279733,
          -4248.410998779934,
          -4805.682520520952,
          -5970.659605817784,
          -4792.820172444669,
          -4699.3915274697665,
          -4543.481105344739,
          -5117.926369906294,
          -1775.6050399833523,
          -6274.399407676462,
          -4286.405360287336,
          -6111.705171395264,
          -4030.486076235756,
          -4117.836047019017,
          -5806.362366658905,
          -7950.137679904547,
          -6552.89316938495,
          -4542.181472406773,
          -4615.462129870634,
          -5439.902381792015,
          -4653.572550884045,
          -3266.650100279915,
          -4194.112454577073,
          -5202.090344164474,
          -4008.5890127539055,
          -5075.67835114901,
          -4439.122859420635,
          -4865.004407317285,
          -5377.22902111622,
          -6066.457122934581,
          -6443.116567478207,
          -3786.1336424715328,
          -6286.3569089641105,
          -4387.404636496329,
          -5635.16354461919,
          -5910.595724540109,
          -5108.281670571718,
          -3524.601882041498,
          -5240.709879901145,
          -3863.0068749343095,
          -4416.577273256123,
          -5227.972306159953,
          -5081.205331963826,
          -2877.1946078768788,
          -3288.4642893518376,
          -6141.763263553501,
          -4868.312164441832,
          -4400.0423310007745,
          -4443.169815276393,
          -4687.764619495451,
          -4054.2528418970896
         ],
         "yaxis": "y"
        }
       ],
       "layout": {
        "height": 600,
        "legend": {
         "tracegroupgap": 0
        },
        "margin": {
         "t": 60
        },
        "plot_bgcolor": "rgb(240,240,240)",
        "template": {
         "data": {
          "bar": [
           {
            "error_x": {
             "color": "#2a3f5f"
            },
            "error_y": {
             "color": "#2a3f5f"
            },
            "marker": {
             "line": {
              "color": "#E5ECF6",
              "width": 0.5
             }
            },
            "type": "bar"
           }
          ],
          "barpolar": [
           {
            "marker": {
             "line": {
              "color": "#E5ECF6",
              "width": 0.5
             }
            },
            "type": "barpolar"
           }
          ],
          "carpet": [
           {
            "aaxis": {
             "endlinecolor": "#2a3f5f",
             "gridcolor": "white",
             "linecolor": "white",
             "minorgridcolor": "white",
             "startlinecolor": "#2a3f5f"
            },
            "baxis": {
             "endlinecolor": "#2a3f5f",
             "gridcolor": "white",
             "linecolor": "white",
             "minorgridcolor": "white",
             "startlinecolor": "#2a3f5f"
            },
            "type": "carpet"
           }
          ],
          "choropleth": [
           {
            "colorbar": {
             "outlinewidth": 0,
             "ticks": ""
            },
            "type": "choropleth"
           }
          ],
          "contour": [
           {
            "colorbar": {
             "outlinewidth": 0,
             "ticks": ""
            },
            "colorscale": [
             [
              0,
              "#0d0887"
             ],
             [
              0.1111111111111111,
              "#46039f"
             ],
             [
              0.2222222222222222,
              "#7201a8"
             ],
             [
              0.3333333333333333,
              "#9c179e"
             ],
             [
              0.4444444444444444,
              "#bd3786"
             ],
             [
              0.5555555555555556,
              "#d8576b"
             ],
             [
              0.6666666666666666,
              "#ed7953"
             ],
             [
              0.7777777777777778,
              "#fb9f3a"
             ],
             [
              0.8888888888888888,
              "#fdca26"
             ],
             [
              1,
              "#f0f921"
             ]
            ],
            "type": "contour"
           }
          ],
          "contourcarpet": [
           {
            "colorbar": {
             "outlinewidth": 0,
             "ticks": ""
            },
            "type": "contourcarpet"
           }
          ],
          "heatmap": [
           {
            "colorbar": {
             "outlinewidth": 0,
             "ticks": ""
            },
            "colorscale": [
             [
              0,
              "#0d0887"
             ],
             [
              0.1111111111111111,
              "#46039f"
             ],
             [
              0.2222222222222222,
              "#7201a8"
             ],
             [
              0.3333333333333333,
              "#9c179e"
             ],
             [
              0.4444444444444444,
              "#bd3786"
             ],
             [
              0.5555555555555556,
              "#d8576b"
             ],
             [
              0.6666666666666666,
              "#ed7953"
             ],
             [
              0.7777777777777778,
              "#fb9f3a"
             ],
             [
              0.8888888888888888,
              "#fdca26"
             ],
             [
              1,
              "#f0f921"
             ]
            ],
            "type": "heatmap"
           }
          ],
          "heatmapgl": [
           {
            "colorbar": {
             "outlinewidth": 0,
             "ticks": ""
            },
            "colorscale": [
             [
              0,
              "#0d0887"
             ],
             [
              0.1111111111111111,
              "#46039f"
             ],
             [
              0.2222222222222222,
              "#7201a8"
             ],
             [
              0.3333333333333333,
              "#9c179e"
             ],
             [
              0.4444444444444444,
              "#bd3786"
             ],
             [
              0.5555555555555556,
              "#d8576b"
             ],
             [
              0.6666666666666666,
              "#ed7953"
             ],
             [
              0.7777777777777778,
              "#fb9f3a"
             ],
             [
              0.8888888888888888,
              "#fdca26"
             ],
             [
              1,
              "#f0f921"
             ]
            ],
            "type": "heatmapgl"
           }
          ],
          "histogram": [
           {
            "marker": {
             "colorbar": {
              "outlinewidth": 0,
              "ticks": ""
             }
            },
            "type": "histogram"
           }
          ],
          "histogram2d": [
           {
            "colorbar": {
             "outlinewidth": 0,
             "ticks": ""
            },
            "colorscale": [
             [
              0,
              "#0d0887"
             ],
             [
              0.1111111111111111,
              "#46039f"
             ],
             [
              0.2222222222222222,
              "#7201a8"
             ],
             [
              0.3333333333333333,
              "#9c179e"
             ],
             [
              0.4444444444444444,
              "#bd3786"
             ],
             [
              0.5555555555555556,
              "#d8576b"
             ],
             [
              0.6666666666666666,
              "#ed7953"
             ],
             [
              0.7777777777777778,
              "#fb9f3a"
             ],
             [
              0.8888888888888888,
              "#fdca26"
             ],
             [
              1,
              "#f0f921"
             ]
            ],
            "type": "histogram2d"
           }
          ],
          "histogram2dcontour": [
           {
            "colorbar": {
             "outlinewidth": 0,
             "ticks": ""
            },
            "colorscale": [
             [
              0,
              "#0d0887"
             ],
             [
              0.1111111111111111,
              "#46039f"
             ],
             [
              0.2222222222222222,
              "#7201a8"
             ],
             [
              0.3333333333333333,
              "#9c179e"
             ],
             [
              0.4444444444444444,
              "#bd3786"
             ],
             [
              0.5555555555555556,
              "#d8576b"
             ],
             [
              0.6666666666666666,
              "#ed7953"
             ],
             [
              0.7777777777777778,
              "#fb9f3a"
             ],
             [
              0.8888888888888888,
              "#fdca26"
             ],
             [
              1,
              "#f0f921"
             ]
            ],
            "type": "histogram2dcontour"
           }
          ],
          "mesh3d": [
           {
            "colorbar": {
             "outlinewidth": 0,
             "ticks": ""
            },
            "type": "mesh3d"
           }
          ],
          "parcoords": [
           {
            "line": {
             "colorbar": {
              "outlinewidth": 0,
              "ticks": ""
             }
            },
            "type": "parcoords"
           }
          ],
          "pie": [
           {
            "automargin": true,
            "type": "pie"
           }
          ],
          "scatter": [
           {
            "marker": {
             "colorbar": {
              "outlinewidth": 0,
              "ticks": ""
             }
            },
            "type": "scatter"
           }
          ],
          "scatter3d": [
           {
            "line": {
             "colorbar": {
              "outlinewidth": 0,
              "ticks": ""
             }
            },
            "marker": {
             "colorbar": {
              "outlinewidth": 0,
              "ticks": ""
             }
            },
            "type": "scatter3d"
           }
          ],
          "scattercarpet": [
           {
            "marker": {
             "colorbar": {
              "outlinewidth": 0,
              "ticks": ""
             }
            },
            "type": "scattercarpet"
           }
          ],
          "scattergeo": [
           {
            "marker": {
             "colorbar": {
              "outlinewidth": 0,
              "ticks": ""
             }
            },
            "type": "scattergeo"
           }
          ],
          "scattergl": [
           {
            "marker": {
             "colorbar": {
              "outlinewidth": 0,
              "ticks": ""
             }
            },
            "type": "scattergl"
           }
          ],
          "scattermapbox": [
           {
            "marker": {
             "colorbar": {
              "outlinewidth": 0,
              "ticks": ""
             }
            },
            "type": "scattermapbox"
           }
          ],
          "scatterpolar": [
           {
            "marker": {
             "colorbar": {
              "outlinewidth": 0,
              "ticks": ""
             }
            },
            "type": "scatterpolar"
           }
          ],
          "scatterpolargl": [
           {
            "marker": {
             "colorbar": {
              "outlinewidth": 0,
              "ticks": ""
             }
            },
            "type": "scatterpolargl"
           }
          ],
          "scatterternary": [
           {
            "marker": {
             "colorbar": {
              "outlinewidth": 0,
              "ticks": ""
             }
            },
            "type": "scatterternary"
           }
          ],
          "surface": [
           {
            "colorbar": {
             "outlinewidth": 0,
             "ticks": ""
            },
            "colorscale": [
             [
              0,
              "#0d0887"
             ],
             [
              0.1111111111111111,
              "#46039f"
             ],
             [
              0.2222222222222222,
              "#7201a8"
             ],
             [
              0.3333333333333333,
              "#9c179e"
             ],
             [
              0.4444444444444444,
              "#bd3786"
             ],
             [
              0.5555555555555556,
              "#d8576b"
             ],
             [
              0.6666666666666666,
              "#ed7953"
             ],
             [
              0.7777777777777778,
              "#fb9f3a"
             ],
             [
              0.8888888888888888,
              "#fdca26"
             ],
             [
              1,
              "#f0f921"
             ]
            ],
            "type": "surface"
           }
          ],
          "table": [
           {
            "cells": {
             "fill": {
              "color": "#EBF0F8"
             },
             "line": {
              "color": "white"
             }
            },
            "header": {
             "fill": {
              "color": "#C8D4E3"
             },
             "line": {
              "color": "white"
             }
            },
            "type": "table"
           }
          ]
         },
         "layout": {
          "annotationdefaults": {
           "arrowcolor": "#2a3f5f",
           "arrowhead": 0,
           "arrowwidth": 1
          },
          "coloraxis": {
           "colorbar": {
            "outlinewidth": 0,
            "ticks": ""
           }
          },
          "colorscale": {
           "diverging": [
            [
             0,
             "#8e0152"
            ],
            [
             0.1,
             "#c51b7d"
            ],
            [
             0.2,
             "#de77ae"
            ],
            [
             0.3,
             "#f1b6da"
            ],
            [
             0.4,
             "#fde0ef"
            ],
            [
             0.5,
             "#f7f7f7"
            ],
            [
             0.6,
             "#e6f5d0"
            ],
            [
             0.7,
             "#b8e186"
            ],
            [
             0.8,
             "#7fbc41"
            ],
            [
             0.9,
             "#4d9221"
            ],
            [
             1,
             "#276419"
            ]
           ],
           "sequential": [
            [
             0,
             "#0d0887"
            ],
            [
             0.1111111111111111,
             "#46039f"
            ],
            [
             0.2222222222222222,
             "#7201a8"
            ],
            [
             0.3333333333333333,
             "#9c179e"
            ],
            [
             0.4444444444444444,
             "#bd3786"
            ],
            [
             0.5555555555555556,
             "#d8576b"
            ],
            [
             0.6666666666666666,
             "#ed7953"
            ],
            [
             0.7777777777777778,
             "#fb9f3a"
            ],
            [
             0.8888888888888888,
             "#fdca26"
            ],
            [
             1,
             "#f0f921"
            ]
           ],
           "sequentialminus": [
            [
             0,
             "#0d0887"
            ],
            [
             0.1111111111111111,
             "#46039f"
            ],
            [
             0.2222222222222222,
             "#7201a8"
            ],
            [
             0.3333333333333333,
             "#9c179e"
            ],
            [
             0.4444444444444444,
             "#bd3786"
            ],
            [
             0.5555555555555556,
             "#d8576b"
            ],
            [
             0.6666666666666666,
             "#ed7953"
            ],
            [
             0.7777777777777778,
             "#fb9f3a"
            ],
            [
             0.8888888888888888,
             "#fdca26"
            ],
            [
             1,
             "#f0f921"
            ]
           ]
          },
          "colorway": [
           "#636efa",
           "#EF553B",
           "#00cc96",
           "#ab63fa",
           "#FFA15A",
           "#19d3f3",
           "#FF6692",
           "#B6E880",
           "#FF97FF",
           "#FECB52"
          ],
          "font": {
           "color": "#2a3f5f"
          },
          "geo": {
           "bgcolor": "white",
           "lakecolor": "white",
           "landcolor": "#E5ECF6",
           "showlakes": true,
           "showland": true,
           "subunitcolor": "white"
          },
          "hoverlabel": {
           "align": "left"
          },
          "hovermode": "closest",
          "mapbox": {
           "style": "light"
          },
          "paper_bgcolor": "white",
          "plot_bgcolor": "#E5ECF6",
          "polar": {
           "angularaxis": {
            "gridcolor": "white",
            "linecolor": "white",
            "ticks": ""
           },
           "bgcolor": "#E5ECF6",
           "radialaxis": {
            "gridcolor": "white",
            "linecolor": "white",
            "ticks": ""
           }
          },
          "scene": {
           "xaxis": {
            "backgroundcolor": "#E5ECF6",
            "gridcolor": "white",
            "gridwidth": 2,
            "linecolor": "white",
            "showbackground": true,
            "ticks": "",
            "zerolinecolor": "white"
           },
           "yaxis": {
            "backgroundcolor": "#E5ECF6",
            "gridcolor": "white",
            "gridwidth": 2,
            "linecolor": "white",
            "showbackground": true,
            "ticks": "",
            "zerolinecolor": "white"
           },
           "zaxis": {
            "backgroundcolor": "#E5ECF6",
            "gridcolor": "white",
            "gridwidth": 2,
            "linecolor": "white",
            "showbackground": true,
            "ticks": "",
            "zerolinecolor": "white"
           }
          },
          "shapedefaults": {
           "line": {
            "color": "#2a3f5f"
           }
          },
          "ternary": {
           "aaxis": {
            "gridcolor": "white",
            "linecolor": "white",
            "ticks": ""
           },
           "baxis": {
            "gridcolor": "white",
            "linecolor": "white",
            "ticks": ""
           },
           "bgcolor": "#E5ECF6",
           "caxis": {
            "gridcolor": "white",
            "linecolor": "white",
            "ticks": ""
           }
          },
          "title": {
           "x": 0.05
          },
          "xaxis": {
           "automargin": true,
           "gridcolor": "white",
           "linecolor": "white",
           "ticks": "",
           "title": {
            "standoff": 15
           },
           "zerolinecolor": "white",
           "zerolinewidth": 2
          },
          "yaxis": {
           "automargin": true,
           "gridcolor": "white",
           "linecolor": "white",
           "ticks": "",
           "title": {
            "standoff": 15
           },
           "zerolinecolor": "white",
           "zerolinewidth": 2
          }
         }
        },
        "title": {
         "text": "2D Cluster PCA Plot"
        },
        "xaxis": {
         "anchor": "y",
         "domain": [
          0,
          1
         ],
         "title": {
          "text": "PCA1"
         }
        },
        "yaxis": {
         "anchor": "x",
         "domain": [
          0,
          1
         ],
         "title": {
          "text": "PCA2"
         }
        }
       }
      },
      "text/html": [
       "<div>\n",
       "        \n",
       "        \n",
       "            <div id=\"4b478e69-c9d0-440c-8d44-1dc18b84f7a5\" class=\"plotly-graph-div\" style=\"height:600px; width:100%;\"></div>\n",
       "            <script type=\"text/javascript\">\n",
       "                require([\"plotly\"], function(Plotly) {\n",
       "                    window.PLOTLYENV=window.PLOTLYENV || {};\n",
       "                    \n",
       "                if (document.getElementById(\"4b478e69-c9d0-440c-8d44-1dc18b84f7a5\")) {\n",
       "                    Plotly.newPlot(\n",
       "                        '4b478e69-c9d0-440c-8d44-1dc18b84f7a5',\n",
       "                        [{\"customdata\": [[58], [59], [62], [59], [87], [29], [54], [87], [83], [84], [85], [36], [30], [31], [61], [92], [55], [87], [82], [88], [30], [84], [53], [91], [89], [30], [17], [55], [90], [61], [59], [59], [88], [56], [33], [61], [84], [61], [39], [31], [60], [87], [20], [57], [61], [18], [83], [25], [31], [55], [84], [36], [27], [91], [53], [91], [25], [83], [87], [90], [83], [83], [83], [61], [64], [62], [91], [28], [23], [55], [58], [31]], \"hoverlabel\": {\"namelength\": 0}, \"hovertemplate\": \"Cluster=Cluster 0<br>PCA1=%{x}<br>PCA2=%{y}<br>Feature=%{customdata[0]}\", \"legendgroup\": \"Cluster=Cluster 0\", \"marker\": {\"color\": \"#636efa\", \"opacity\": 0.5, \"symbol\": \"circle\"}, \"mode\": \"markers\", \"name\": \"Cluster=Cluster 0\", \"showlegend\": true, \"textposition\": \"top center\", \"type\": \"scatter\", \"x\": [51532.47005840445, 61085.16181542694, 47415.38916240537, 45280.29645748767, 53976.790002631344, 59803.04557919305, 47210.61128412966, 47518.881318567954, 50874.5937331519, 48697.32854441, 59239.85352839819, 52679.137422450636, 52465.033586659956, 51395.224355999555, 48029.23598296095, 48551.89779119268, 54778.91990969149, 43600.21618030979, 63317.06653244297, 41328.252663310006, 48281.96476402195, 61617.25602185726, 55783.42885801495, 43084.431301068405, 46000.80248469958, 41859.15436997564, 50433.85138453339, 52263.49410874452, 54230.311420476646, 45920.30384600763, 45728.40114434416, 45302.57090416747, 41933.87634909214, 46271.74999066815, 54542.56026091133, 50397.08389773139, 48602.571111840254, 49923.232402586356, 47836.448391826874, 45049.71303774853, 55795.99791496399, 52844.214540832174, 48577.245944563736, 44074.74432267951, 47964.55226138695, 62912.45709780573, 52086.38065892726, 55587.351730733615, 42157.805428701016, 66750.62108457659, 56651.45548374752, 53924.5970395588, 47842.883679066545, 48410.00929047234, 59798.17482849977, 47549.76254622712, 57857.28905692235, 43861.747091025536, 43629.01273923759, 46993.64108790843, 58984.55027496731, 44952.90203538897, 41580.27174463825, 42045.79570257143, 55809.60825993986, 59196.59308633916, 53899.234059979615, 42414.13984409398, 53422.55248570129, 56449.67813828145, 55168.45154506194, 47182.06858155584], \"xaxis\": \"x\", \"y\": [6006.733833662514, 4243.721728508772, 4709.388807631829, 4437.356566167742, 5488.389984582108, 8450.307562492615, 6674.23467749592, 4941.999362973273, -5178.0528134400865, 5282.497809754311, 4745.144589124809, -4749.057025715379, 3371.5330650130977, 5657.241494980821, 5422.323757682564, 4668.214697412175, 4629.7913652810985, -5657.478831520013, 4946.177510120509, -4823.645899335602, 8499.966944599812, 6726.313750520615, 4732.087714707708, -4660.855622444522, 3884.452851319085, -4543.326267067208, -6854.20613407797, 5916.358054129832, 3238.4287703236855, -4953.921129423374, 3658.3065012522216, 3778.181421309609, 4717.9972052376115, 4207.414796612185, 4193.8829993723075, 2890.550968564704, 6249.537360930087, 6048.72407922771, 6059.983323374552, 4590.872583456107, 4252.897540706997, -5677.667475551925, -6305.307759672745, -6307.669140625985, -4397.186114919692, 5261.355213266389, 3388.4270346813746, 3427.135195258811, -5954.454601851158, 2693.0081866217497, 4271.292185091136, 5765.842845736468, 4758.188729714917, -5693.665441157463, 4315.751792559067, 3437.8964823947804, 5717.501137167643, -6877.035883382081, -6254.84094120914, -4647.129088588664, 3350.7116179336454, -4985.51480122041, -5615.560772408655, -3106.1034758683704, 3879.149733262657, 3903.97492681537, 3176.746885409092, -5432.281819509658, 3894.2354791277485, 5101.398697367522, 4016.981622201614, -4557.71660179189], \"yaxis\": \"y\"}, {\"customdata\": [[83], [91], [30], [57], [33], [59], [58], [29], [59], [84], [64], [87], [88], [35], [34], [58], [56], [63], [58], [60], [24], [94], [58], [25], [36], [62], [66], [37], [27], [24], [31], [23], [34], [88], [89], [32], [38], [57], [90], [33], [66], [35], [31], [35], [63], [30], [22], [84], [28], [88], [84], [88], [35], [82], [64], [91], [62], [62], [34], [60], [32], [65], [24], [88], [82], [26], [60], [31], [85], [63], [56], [28], [58], [26], [62], [86], [56], [91], [59], [28], [85], [65], [94], [86], [30], [62], [85], [59], [30], [83], [66], [31], [88], [28], [85], [64], [33], [62], [89], [61], [29], [56], [92], [62], [60], [85], [88], [94], [62], [64], [29], [27], [31], [87], [32], [63], [58], [62], [32], [93], [59], [61], [53], [82], [28], [32], [89], [84], [87], [29], [58], [29], [55], [25], [60], [88], [24], [56], [95], [89], [86], [85], [60], [87], [29], [23], [31]], \"hoverlabel\": {\"namelength\": 0}, \"hovertemplate\": \"Cluster=Cluster 1<br>PCA1=%{x}<br>PCA2=%{y}<br>Feature=%{customdata[0]}\", \"legendgroup\": \"Cluster=Cluster 1\", \"marker\": {\"color\": \"#EF553B\", \"opacity\": 0.5, \"symbol\": \"circle\"}, \"mode\": \"markers\", \"name\": \"Cluster=Cluster 1\", \"showlegend\": true, \"textposition\": \"top center\", \"type\": \"scatter\", \"x\": [-58306.89374121137, -53484.99044797625, -50504.82314273774, -56854.24491468414, -45489.12002421867, -46897.28720484187, -36822.882729901095, -47271.41327624214, -47975.62989430373, -47129.84416342065, -49427.524137026165, -48890.16204283168, -39916.590611526924, -49274.442396159335, -45508.353885877696, -43012.76978349143, -48329.37521986346, -42805.17469366232, -47000.17170879293, -54957.490989172366, -57495.82751822284, -48496.84792497307, -45148.06214608794, -50446.687258505626, -57750.757746123934, -50055.78756429359, -53103.847912897334, -44680.89350931928, -44945.69901444303, -46108.56441807314, -40907.25147798811, -48448.18982139343, -47148.04950665262, -56820.08755360429, -37730.76934060821, -28705.212826769828, -47927.756153353286, -49952.56386424758, -49206.07297923625, -56491.726161601466, -45504.928216643886, -43811.47262039391, -56178.67327005182, -63634.72200273959, -54413.158553524765, -40724.15688509667, -53514.36608306828, -63656.34758998017, -39063.286676190924, -46522.919419751204, -39882.02333138305, -42432.6450996623, -49610.67501015973, -48754.553222931485, -44821.271955370954, -28723.991919566026, -51459.513505463474, -55300.438356116516, -42172.09142372817, -58771.33010043621, -43231.47790879881, -55368.98427568016, -48469.7582255558, -51191.18311026799, -53329.08890863797, -42253.87287795827, -55116.836018168404, -41272.895339861825, -58127.50387027005, -42594.24300193299, -48254.006229924926, -46206.7607091729, -57176.86780610608, -48762.36466827123, -45316.581406095596, -39708.6469896635, -57516.27318363647, -51304.42079121022, -48867.33422412478, -47072.83270827884, -52350.13688160771, -42485.19893050841, -42546.30928703386, -52508.30353343577, -45053.501151340206, -52745.27199507387, -53120.54070874584, -49855.3602390612, -37510.588011321204, -51858.95285225978, -41183.65207165714, -38870.67264138036, -53905.33080870671, -49083.989044483504, -49618.564251583935, -42334.04767150637, -48031.60033869837, -46621.6751899209, -55003.114735362986, -52219.788910263276, -40392.52353813579, -55837.8962125591, -57945.29400939382, -44891.72694017819, -33223.78792758693, -41229.085326467924, -48086.47161506785, -45889.16124528397, -39730.754923732, -44207.36919669006, -42152.50281937877, -39255.473865513486, -48338.70466261935, -52957.61629178099, -56895.33602609467, -38257.01252267872, -47591.22511122003, -52877.38164603339, -57888.9869379862, -45243.33599570983, -51590.97205811305, -40276.44813108958, -44316.39097613655, -50029.04867348446, -33685.82303783503, -59885.183450800905, -51335.696362198076, -51006.62596717183, -41654.285370916754, -46888.4058987738, -47339.9473341083, -46752.171891149104, -60035.35573518636, -53680.72058527794, -47490.05337363709, -42382.69883203623, -41047.376366850345, -42194.798734952434, -41090.432711623675, -47366.649393097156, -51240.79467490212, -47211.309218979426, -49640.51633393595, -46294.69652581512, -43219.570630798, -48459.5788531647, -45592.66271459648], \"xaxis\": \"x\", \"y\": [-1498.307062590399, -2964.8711615389425, -2541.1040744024217, -1039.8869670204472, -857.2365574199112, -1500.599753550346, -3004.1359250357345, -1422.2632521531457, -2697.4806496368724, -2166.945526513025, -3282.496783689518, -3117.043572435124, -5860.406970913435, -1819.1411133435663, -1716.0957515179941, -2388.397515567187, -2106.9565485318567, -2383.9235864924353, -3258.5927312494305, -1273.0340909671531, -874.5938320396211, -1255.023121717519, -918.4435413744562, -1789.8310613735046, -1546.7860227984625, -458.7329379734676, -1838.664645556659, -3320.2381091067437, -2663.4363034143594, -4704.90071814008, -2247.7230980697605, -424.4944516024696, -948.1700320034133, -2626.494760123041, -3447.522865699354, -2125.5165732968344, 1139.0677249894109, -1016.362817605335, 646.5438723752065, -1529.9495201383818, -1656.425055816305, -3844.0506429942848, -1450.7318688866605, -958.5365645110744, -1055.9968931753674, -3403.3549980948796, -3511.6505427575594, -672.1303645870966, -2178.951260878268, -2395.1506203279105, -3145.838811669633, -2804.317598781818, -2494.346015854769, -3476.7575329414085, -809.2478504066133, -1283.2493416842212, -1443.6312210611657, -2379.445392952535, -3482.9509244203155, -1946.425634881532, -2464.366506729347, -990.6075970316513, -975.0110199269358, -2999.0481368530072, -3704.115203066883, -2813.4088657561033, -3386.631387427836, -2039.0519450914783, -3329.42415575039, -4573.135949676132, -3586.3929123393627, -3972.4372911141995, -500.38222602903306, -1902.303752571812, 72.34189620852688, -2812.640832274528, -2662.2379174130565, -1341.6421504993373, -3330.0950893142635, -3652.1430220775064, -1271.836696800181, -1573.1293339464692, -2323.9550250667417, -2003.3795586148924, -3267.853088065968, -3270.250012030127, -2373.906852113616, -2551.640945867301, -2385.930673599972, -1998.314514884126, -2299.1775764582517, -4966.632983631634, 776.7213551828838, -2706.954245859542, -1200.4987085747, -946.4427010468272, -2520.879670925898, -1061.3928297006275, -1806.3716349634742, -361.8228772290578, -1918.0706539765367, -2913.151326193393, -1690.2235244245392, -1059.5099705589162, -4327.59980040403, -559.8887343311553, -3267.6645334787445, -3656.8600405231227, -3215.3117531036205, -1788.5950192551395, -3595.4264994551563, -2456.0624695072065, -296.9479102201359, -512.1681616652346, -219.83567344031886, -3209.705699855124, -2876.0168218541626, -1034.0462861180677, -2297.4104284560135, -2386.74467038797, -1709.6809922654018, -3159.4030652887413, -1681.1078093986155, -2907.7981801354927, -2359.981060852438, 968.182184170179, -2253.3249547903124, 1229.6342021038022, -1284.2763352326012, -1747.284515874375, -2756.2104567652154, -4260.667936777427, -2067.785202202856, -1523.1531827794747, -1025.655637713158, -1026.2178281219424, 163.00860194240744, -2831.244972649778, -2507.468037848859, -2226.523883594685, -337.58311029945645, -497.0287321468138, -2403.452656500527, -3445.1407626668774, -982.6374045457414, -623.0248233972336, -1858.741542867275], \"yaxis\": \"y\"}, {\"customdata\": [[89], [58], [56], [37], [89], [29], [23], [34], [64], [63], [85], [62], [59], [92], [67], [58], [58], [38], [57], [31], [36], [25], [66], [64], [59], [90], [68], [35], [84], [24], [29], [28], [81], [57], [37], [91], [82], [36], [31], [61], [64], [83], [63], [55], [86], [57], [94], [37], [26], [57], [37], [88], [61], [91], [84], [43], [59], [90], [88], [59], [59], [88], [37], [33], [90], [31], [90], [91], [29], [83], [84], [87], [22], [58], [31], [33], [56], [30], [85], [87], [34], [61], [30], [88], [56], [30], [25], [61], [88], [37], [35], [85], [85], [88], [59], [90], [33], [62], [59], [91], [33], [87], [26], [88], [24], [91], [86], [36], [87], [33], [59], [29], [59], [57], [40], [42], [89], [93], [17], [24], [34], [90], [20], [92], [84], [59], [61], [67], [82], [94], [28], [36], [91], [34], [77], [63], [35], [21], [86], [56], [83], [28], [59], [83], [83], [58], [91], [29], [61], [84], [34], [33], [55], [88], [91], [91]], \"hoverlabel\": {\"namelength\": 0}, \"hovertemplate\": \"Cluster=Cluster 2<br>PCA1=%{x}<br>PCA2=%{y}<br>Feature=%{customdata[0]}\", \"legendgroup\": \"Cluster=Cluster 2\", \"marker\": {\"color\": \"#00cc96\", \"opacity\": 0.5, \"symbol\": \"circle\"}, \"mode\": \"markers\", \"name\": \"Cluster=Cluster 2\", \"showlegend\": true, \"textposition\": \"top center\", \"type\": \"scatter\", \"x\": [-6075.7239459118755, -7981.746810683441, -6214.354917756374, 4968.764645874576, -3222.028497117646, 1547.9124395594265, 375.6120252474155, 4615.604589783899, -1755.3663563989908, 834.6063416853555, -4114.665812502666, 5679.935032255564, -4883.7205617978125, -967.1345292294802, -1709.006711698437, 1855.0479869186888, -7793.454352086527, -18832.3230899951, -9176.939917160447, -5149.414552966312, 3574.8676282851393, 3735.2223001205466, -7431.169946592949, -4794.730185972459, -1864.594059061443, 2868.675335891815, -9270.983246113974, 7034.566991846879, -6586.375015596342, -811.2733012583001, -12402.614006035741, -805.5182840466932, -7827.504392605749, -7225.656651496555, -7793.21150891416, 3607.621847535451, -3147.9716901024, -10371.487057071718, -2220.6354506100643, 5619.12553876363, 5122.28256229892, -9600.009525716896, -6270.130057704636, 2663.814142724262, -11770.096221904692, -1424.2968527852474, -5898.74447968115, -5787.584457334289, -6051.798027149637, 7017.407229806952, -4661.643199436443, 3333.0370081988945, -10419.650727093276, -3197.7706749317085, -3127.7464754071866, -4588.845682887328, -9823.292971418658, 2555.784235160217, 5567.478117111814, -1710.0091006297735, -2630.794135208178, 1381.2925438038965, -10238.837928743034, -2329.616759752765, -3536.6248996188633, -11570.013629472296, -12594.175242128533, -3881.2792235448305, -9447.566957019659, -4595.725467462926, 277.3194547180385, 9121.208329826184, 499.4966180961365, -4176.722631704309, -6529.597912750258, -7423.928769536229, 3385.8220491313227, -5414.849621380294, 11039.026942031716, -5806.0770526118185, -10072.875118803533, 3175.7301008876834, -5327.512619806884, -6874.447300583785, -6945.4902208559015, 1198.2155272857283, 7325.256189492699, -7249.02812979693, 4864.683651413003, -9153.992100917838, -5628.98377140921, -8175.944783841654, 4848.442764387986, 10499.407295945588, 6644.597612798235, -611.8920766835439, -879.6961231840176, 1270.5926186365125, -3354.4093954920504, -3652.0516272195187, 1535.3200349238657, 3442.0678654010494, 1691.1469990055048, -9514.74212229377, -5495.930030665687, -11393.264281389047, -1006.7942808926927, -11385.807297750885, -5228.773548143097, 106.44730782999932, -2009.7086141751702, 11129.424149229615, -4333.353171495313, 13091.374153516692, -860.4354477953807, 1797.8692846207557, -2601.869628345945, -4972.922141129969, 4241.7758951530495, -4197.995995572506, -5414.451723823094, -14757.626854505614, -6112.701966838935, -13124.391604038416, -847.3002227743386, -907.6690876091163, -3902.650760127406, -1148.5927138363136, -284.93461613175003, 1223.3332842063598, -4025.534586861494, -9955.599000501974, 5073.487356522348, 2456.1149429108887, -5713.304475031717, -10817.514881421737, -18377.080919160897, -182.87509706289552, -3578.6411667637303, -12401.01261442263, 384.4886537787881, -9604.9761012314, -4335.121223668246, -4856.160277619081, -15876.014194933874, 3594.0424216908364, -1254.7961050822776, -7927.279393999566, 2392.951400013233, 871.0561448640455, 1380.9095854822615, -5506.504775277302, 8122.08038041555, -7740.904879089722, -15159.901916245679, -1867.5011952055129], \"xaxis\": \"x\", \"y\": [3500.596454313257, 3467.5659749114216, 8154.200533863815, 3943.1170736339145, 4129.181189416361, 3973.9069974865156, 5049.606296947779, 5713.442041909507, 4273.205301847638, 5141.101367432595, 3078.8964384945943, 4711.285967238693, 4688.370746949261, 4638.724240674154, 3684.695295940361, 5468.7432742866995, 5788.853893383753, 6823.253328040573, 7146.662858252785, 5556.666139133824, 6638.189488143051, 4370.467828822721, 6342.036901878033, 5174.470545977297, 5267.35255320978, 5223.642330390361, 5996.549152653399, 3374.2871342934286, 4795.659622307601, 4771.515153180696, 4277.420432790433, 4348.095679784139, 5701.697575023517, 4564.617621855321, 6334.243251982051, 4852.444518767342, 5506.996622913865, 6211.274488459207, 4177.140129281853, 4314.803908984971, 3424.0736039052904, 4923.281603355226, 5401.821696967172, 3399.120354730325, 5001.420783196854, 7267.328542397009, 5205.840154213883, 5711.628393266974, 6221.683453940024, 5588.800602998209, 4875.412034392045, 4012.215493342318, 5982.858221439138, 5127.949261280459, 5318.28199362223, 4468.268102563847, 6862.247572080615, 5164.69038739358, 6399.6794579285815, 5692.091704359404, 5512.809888472105, 5207.221097509014, 7423.315368546441, 6502.2078827755995, 5070.413098436328, 6393.584927460241, 5058.593507665871, 3532.7508016456404, 6026.370137728777, 4575.315245883318, 5152.077722121319, 4076.1888638585, 4450.572465085805, 5121.948177991024, 5174.0600160707545, 5595.425208078434, 4513.159427781261, 4509.378948047734, 4384.687289531571, 5686.132349951811, 7033.8323062254785, 4727.079813055351, 5507.674538617937, 3266.4701832643827, 5240.28369762661, 6031.597780098124, 5245.750156657966, 5030.101509904849, 4834.95399186589, 6237.455006749803, 3413.4609900340365, 5599.274828311299, 6716.389270082334, 4092.586810582497, 6074.108821940043, 2642.856462873311, 4574.029852480235, 4918.861099714741, 4039.049708218611, 4298.147934215803, 6617.143404468862, 3293.9257098257876, 4305.605513370142, 5484.0622101307545, 5033.927181148629, 4760.7266838361265, 6827.736752280874, 5239.834486252135, 4906.821369117013, 5019.545071865864, 4571.3116018885175, 2451.3956456354927, 6791.121727987137, 3878.0740056043546, 1366.21750619139, 3616.906622264865, 5720.063910631853, 5053.974394482311, 4854.373611538011, 4646.423038232099, 6401.49685037856, 5008.012103778611, 7150.265686204217, 5122.2985754661395, 5435.293808150469, 4662.571801362165, 5499.339332721772, 6154.51860618152, 4064.008336080813, 5666.3679547527045, 5644.552199614274, 4085.312250446126, 5244.436809348919, 5539.978254276129, 6098.407171499213, 6677.482101590943, 5086.37432471311, 4411.324353776286, 4687.331305792247, 6731.622371228148, 6845.141814371284, 5517.4569987997975, 2658.2975188904147, 6861.841710581512, 7337.462584330773, 5244.2237675362085, 6380.915494292797, 5673.527728610809, 5992.684094109713, 5689.000453091916, 5567.112673818736, 6298.4301788677385, 4731.012058760931, 5133.639471687393, 5573.243592768735, 2685.662685436797], \"yaxis\": \"y\"}, {\"customdata\": [[84], [87], [39], [38], [89], [59], [35], [59], [87], [94], [86], [60], [79], [86], [60], [85], [92], [37], [89], [67], [31], [20], [37], [57], [87], [33], [56], [67], [58], [89], [34], [25], [44], [68], [31], [58], [55], [21], [36], [88], [26], [29], [38], [79], [51], [82], [39], [87], [36], [57], [61], [86], [86], [35], [89], [30], [60], [64], [37], [65], [90], [59], [29], [58], [88], [63], [92], [17], [34], [22], [24], [36], [34], [87], [85], [61], [27], [59], [31], [31], [93], [17], [35], [28], [94], [28], [33], [56], [28], [86], [92], [18], [61], [32], [63], [58], [31], [62], [60], [62], [90], [33], [33], [65], [59], [65], [86], [32], [84], [84], [90], [91], [26], [92], [97], [84], [58], [61], [92], [87], [66], [22], [91], [30], [25], [28], [93], [90], [91], [89]], \"hoverlabel\": {\"namelength\": 0}, \"hovertemplate\": \"Cluster=Cluster 3<br>PCA1=%{x}<br>PCA2=%{y}<br>Feature=%{customdata[0]}\", \"legendgroup\": \"Cluster=Cluster 3\", \"marker\": {\"color\": \"#ab63fa\", \"opacity\": 0.5, \"symbol\": \"circle\"}, \"mode\": \"markers\", \"name\": \"Cluster=Cluster 3\", \"showlegend\": true, \"textposition\": \"top center\", \"type\": \"scatter\", \"x\": [30949.636901997954, 31614.4425654191, 24294.80847834634, 23967.006087975635, 32345.708428700607, 32322.90855312249, 22258.608668569905, 35579.205815806345, 26298.14841024673, 22105.034591078263, 20592.346613007772, 38543.62512292872, 26507.04287235992, 28639.385002450505, 22224.556143435297, 33345.15627123119, 23196.213306438236, 28912.89513619995, 28627.25985640031, 21900.78530003277, 41298.631292835074, 30268.7054812633, 25474.402763797294, 18943.37281781304, 38847.169767760824, 39135.376223130086, 30148.682673916097, 31911.001239366346, 15764.491431415838, 25328.069962281683, 32572.750272366204, 25376.693266073173, 37228.7347452007, 32912.892063315856, 24706.128352845157, 35758.27543553671, 31361.085267799153, 31045.22025567879, 24491.38889864474, 32416.939873895564, 30584.12461511326, 25732.344972190567, 25363.919226720427, 32289.540207166676, 22350.769816321572, 32797.643669354955, 31202.412682476093, 25765.790042328365, 30806.776341952795, 30046.48908092607, 22393.417730180132, 19017.16946491751, 32307.936729140958, 40849.48059769065, 24827.978780545982, 34360.481807350596, 35187.91053468467, 40419.57669510418, 20486.14069594546, 32561.025360063308, 23858.598240023435, 23748.677815454063, 23032.680124651277, 32149.921292682888, 26228.3762864362, 35572.71538685358, 23470.847033328027, 30614.16577855357, 39941.237375096134, 30155.334159636997, 15177.319714667694, 40673.859644327466, 36260.399857073884, 37939.71700891236, 26983.04636427821, 34834.90179466, 35036.71585548722, 26023.566351406167, 33379.42058468912, 29861.546669621468, 30836.978307627454, 39513.273555432446, 27412.69140542124, 31253.468530449427, 19785.99439327468, 35711.07999432948, 23392.9420468506, 14006.000965365403, 30950.1018396824, 26312.37296892753, 36008.72535912233, 37194.90227907422, 38869.64945267172, 32210.979768642424, 31960.754514207278, 33203.84256888805, 26578.153196266194, 36813.76713420397, 28960.634964946785, 23896.368807904095, 19295.267686809577, 28681.549887585767, 39399.40138181151, 34753.148485730824, 34060.87750047386, 23022.218263126655, 31016.95277066788, 34830.866037353604, 32691.86956168575, 24819.360949497754, 26003.522431925623, 29210.556946439705, 33217.92661094811, 31330.34398452479, 32853.06228369528, 34815.25492053808, 27758.387575808218, 29240.50974864811, 26343.678673902472, 35023.2162708003, 21973.30795044383, 31502.360342968233, 16918.676201100126, 24613.751980326128, 31317.298064553714, 27456.91326667312, 22236.169474372287, 38938.11813871436, 26071.981181359257, 25938.05049675625], \"xaxis\": \"x\", \"y\": [-4397.197322284796, -3948.41315370151, -3156.1748677381534, -5918.696393593381, -2201.720436215357, -3681.2903856818057, -5195.925409188559, -6195.25651540274, -5023.038755192277, -4346.187741550612, -4611.587648361576, -7198.0637530044505, -5484.674656121102, -3130.950539346106, -5737.014216399176, -6080.299826048205, -5613.714946473874, -5224.554435670848, -3324.816421778019, -5234.91443543625, -6422.065006311358, -4917.675594824391, -4541.161711915868, -6099.926511675165, -8209.639308093887, -4339.707016425759, -3727.6412226852485, -2672.9112969661555, -2149.1522120766235, -4507.818852759074, -6711.005814772032, -3922.3292073945445, -4575.537648425257, -4588.664684244316, -6304.286871577947, -4122.4720974860165, -4837.589604607759, -4354.88067353698, -3378.5440905478717, -3316.8737845198543, -5198.6517437837265, -4846.280009746121, -6518.877743618628, -3634.341360640744, -5405.192380070515, -5654.546848389325, -4006.880782404127, -4647.515091833702, -5560.204679600007, -2733.109485171267, -5150.746928288217, -4587.056600403998, -3401.081521768781, -5591.430862352513, -5088.608312301612, -5038.816440742182, -4164.858385743977, -6642.233640263953, -4804.203700356802, -5658.529147335403, -4857.9973025145555, -4085.3878885407817, -5461.179044520959, -5508.9451693990995, -4266.484164687805, -4807.665202226781, -4720.248925408392, -4762.434912619342, -5237.495032301016, -6491.84591630207, 4253.670268811265, -5771.827716588535, -3890.34479626126, -4683.440281859756, -2897.418110778122, -5079.540930731759, -6415.699536226253, -7172.33478561994, -4139.053044046943, -4210.49174279733, -4248.410998779934, -4805.682520520952, -5970.659605817784, -4792.820172444669, -4699.3915274697665, -4543.481105344739, -5117.926369906294, -1775.6050399833523, -6274.399407676462, -4286.405360287336, -6111.705171395264, -4030.486076235756, -4117.836047019017, -5806.362366658905, -7950.137679904547, -6552.89316938495, -4542.181472406773, -4615.462129870634, -5439.902381792015, -4653.572550884045, -3266.650100279915, -4194.112454577073, -5202.090344164474, -4008.5890127539055, -5075.67835114901, -4439.122859420635, -4865.004407317285, -5377.22902111622, -6066.457122934581, -6443.116567478207, -3786.1336424715328, -6286.3569089641105, -4387.404636496329, -5635.16354461919, -5910.595724540109, -5108.281670571718, -3524.601882041498, -5240.709879901145, -3863.0068749343095, -4416.577273256123, -5227.972306159953, -5081.205331963826, -2877.1946078768788, -3288.4642893518376, -6141.763263553501, -4868.312164441832, -4400.0423310007745, -4443.169815276393, -4687.764619495451, -4054.2528418970896], \"yaxis\": \"y\"}],\n",
       "                        {\"height\": 600, \"legend\": {\"tracegroupgap\": 0}, \"margin\": {\"t\": 60}, \"plot_bgcolor\": \"rgb(240,240,240)\", \"template\": {\"data\": {\"bar\": [{\"error_x\": {\"color\": \"#2a3f5f\"}, \"error_y\": {\"color\": \"#2a3f5f\"}, \"marker\": {\"line\": {\"color\": \"#E5ECF6\", \"width\": 0.5}}, \"type\": \"bar\"}], \"barpolar\": [{\"marker\": {\"line\": {\"color\": \"#E5ECF6\", \"width\": 0.5}}, \"type\": \"barpolar\"}], \"carpet\": [{\"aaxis\": {\"endlinecolor\": \"#2a3f5f\", \"gridcolor\": \"white\", \"linecolor\": \"white\", \"minorgridcolor\": \"white\", \"startlinecolor\": \"#2a3f5f\"}, \"baxis\": {\"endlinecolor\": \"#2a3f5f\", \"gridcolor\": \"white\", \"linecolor\": \"white\", \"minorgridcolor\": \"white\", \"startlinecolor\": \"#2a3f5f\"}, \"type\": \"carpet\"}], \"choropleth\": [{\"colorbar\": {\"outlinewidth\": 0, \"ticks\": \"\"}, \"type\": \"choropleth\"}], \"contour\": [{\"colorbar\": {\"outlinewidth\": 0, \"ticks\": \"\"}, \"colorscale\": [[0.0, \"#0d0887\"], [0.1111111111111111, \"#46039f\"], [0.2222222222222222, \"#7201a8\"], [0.3333333333333333, \"#9c179e\"], [0.4444444444444444, \"#bd3786\"], [0.5555555555555556, \"#d8576b\"], [0.6666666666666666, \"#ed7953\"], [0.7777777777777778, \"#fb9f3a\"], [0.8888888888888888, \"#fdca26\"], [1.0, \"#f0f921\"]], \"type\": \"contour\"}], \"contourcarpet\": [{\"colorbar\": {\"outlinewidth\": 0, \"ticks\": \"\"}, \"type\": \"contourcarpet\"}], \"heatmap\": [{\"colorbar\": {\"outlinewidth\": 0, \"ticks\": \"\"}, \"colorscale\": [[0.0, \"#0d0887\"], [0.1111111111111111, \"#46039f\"], [0.2222222222222222, \"#7201a8\"], [0.3333333333333333, \"#9c179e\"], [0.4444444444444444, \"#bd3786\"], [0.5555555555555556, \"#d8576b\"], [0.6666666666666666, \"#ed7953\"], [0.7777777777777778, \"#fb9f3a\"], [0.8888888888888888, \"#fdca26\"], [1.0, \"#f0f921\"]], \"type\": \"heatmap\"}], \"heatmapgl\": [{\"colorbar\": {\"outlinewidth\": 0, \"ticks\": \"\"}, \"colorscale\": [[0.0, \"#0d0887\"], [0.1111111111111111, \"#46039f\"], [0.2222222222222222, \"#7201a8\"], [0.3333333333333333, \"#9c179e\"], [0.4444444444444444, \"#bd3786\"], [0.5555555555555556, \"#d8576b\"], [0.6666666666666666, \"#ed7953\"], [0.7777777777777778, \"#fb9f3a\"], [0.8888888888888888, \"#fdca26\"], [1.0, \"#f0f921\"]], \"type\": \"heatmapgl\"}], \"histogram\": [{\"marker\": {\"colorbar\": {\"outlinewidth\": 0, \"ticks\": \"\"}}, \"type\": \"histogram\"}], \"histogram2d\": [{\"colorbar\": {\"outlinewidth\": 0, \"ticks\": \"\"}, \"colorscale\": [[0.0, \"#0d0887\"], [0.1111111111111111, \"#46039f\"], [0.2222222222222222, \"#7201a8\"], [0.3333333333333333, \"#9c179e\"], [0.4444444444444444, \"#bd3786\"], [0.5555555555555556, \"#d8576b\"], [0.6666666666666666, \"#ed7953\"], [0.7777777777777778, \"#fb9f3a\"], [0.8888888888888888, \"#fdca26\"], [1.0, \"#f0f921\"]], \"type\": \"histogram2d\"}], \"histogram2dcontour\": [{\"colorbar\": {\"outlinewidth\": 0, \"ticks\": \"\"}, \"colorscale\": [[0.0, \"#0d0887\"], [0.1111111111111111, \"#46039f\"], [0.2222222222222222, \"#7201a8\"], [0.3333333333333333, \"#9c179e\"], [0.4444444444444444, \"#bd3786\"], [0.5555555555555556, \"#d8576b\"], [0.6666666666666666, \"#ed7953\"], [0.7777777777777778, \"#fb9f3a\"], [0.8888888888888888, \"#fdca26\"], [1.0, \"#f0f921\"]], \"type\": \"histogram2dcontour\"}], \"mesh3d\": [{\"colorbar\": {\"outlinewidth\": 0, \"ticks\": \"\"}, \"type\": \"mesh3d\"}], \"parcoords\": [{\"line\": {\"colorbar\": {\"outlinewidth\": 0, \"ticks\": \"\"}}, \"type\": \"parcoords\"}], \"pie\": [{\"automargin\": true, \"type\": \"pie\"}], \"scatter\": [{\"marker\": {\"colorbar\": {\"outlinewidth\": 0, \"ticks\": \"\"}}, \"type\": \"scatter\"}], \"scatter3d\": [{\"line\": {\"colorbar\": {\"outlinewidth\": 0, \"ticks\": \"\"}}, \"marker\": {\"colorbar\": {\"outlinewidth\": 0, \"ticks\": \"\"}}, \"type\": \"scatter3d\"}], \"scattercarpet\": [{\"marker\": {\"colorbar\": {\"outlinewidth\": 0, \"ticks\": \"\"}}, \"type\": \"scattercarpet\"}], \"scattergeo\": [{\"marker\": {\"colorbar\": {\"outlinewidth\": 0, \"ticks\": \"\"}}, \"type\": \"scattergeo\"}], \"scattergl\": [{\"marker\": {\"colorbar\": {\"outlinewidth\": 0, \"ticks\": \"\"}}, \"type\": \"scattergl\"}], \"scattermapbox\": [{\"marker\": {\"colorbar\": {\"outlinewidth\": 0, \"ticks\": \"\"}}, \"type\": \"scattermapbox\"}], \"scatterpolar\": [{\"marker\": {\"colorbar\": {\"outlinewidth\": 0, \"ticks\": \"\"}}, \"type\": \"scatterpolar\"}], \"scatterpolargl\": [{\"marker\": {\"colorbar\": {\"outlinewidth\": 0, \"ticks\": \"\"}}, \"type\": \"scatterpolargl\"}], \"scatterternary\": [{\"marker\": {\"colorbar\": {\"outlinewidth\": 0, \"ticks\": \"\"}}, \"type\": \"scatterternary\"}], \"surface\": [{\"colorbar\": {\"outlinewidth\": 0, \"ticks\": \"\"}, \"colorscale\": [[0.0, \"#0d0887\"], [0.1111111111111111, \"#46039f\"], [0.2222222222222222, \"#7201a8\"], [0.3333333333333333, \"#9c179e\"], [0.4444444444444444, \"#bd3786\"], [0.5555555555555556, \"#d8576b\"], [0.6666666666666666, \"#ed7953\"], [0.7777777777777778, \"#fb9f3a\"], [0.8888888888888888, \"#fdca26\"], [1.0, \"#f0f921\"]], \"type\": \"surface\"}], \"table\": [{\"cells\": {\"fill\": {\"color\": \"#EBF0F8\"}, \"line\": {\"color\": \"white\"}}, \"header\": {\"fill\": {\"color\": \"#C8D4E3\"}, \"line\": {\"color\": \"white\"}}, \"type\": \"table\"}]}, \"layout\": {\"annotationdefaults\": {\"arrowcolor\": \"#2a3f5f\", \"arrowhead\": 0, \"arrowwidth\": 1}, \"coloraxis\": {\"colorbar\": {\"outlinewidth\": 0, \"ticks\": \"\"}}, \"colorscale\": {\"diverging\": [[0, \"#8e0152\"], [0.1, \"#c51b7d\"], [0.2, \"#de77ae\"], [0.3, \"#f1b6da\"], [0.4, \"#fde0ef\"], [0.5, \"#f7f7f7\"], [0.6, \"#e6f5d0\"], [0.7, \"#b8e186\"], [0.8, \"#7fbc41\"], [0.9, \"#4d9221\"], [1, \"#276419\"]], \"sequential\": [[0.0, \"#0d0887\"], [0.1111111111111111, \"#46039f\"], [0.2222222222222222, \"#7201a8\"], [0.3333333333333333, \"#9c179e\"], [0.4444444444444444, \"#bd3786\"], [0.5555555555555556, \"#d8576b\"], [0.6666666666666666, \"#ed7953\"], [0.7777777777777778, \"#fb9f3a\"], [0.8888888888888888, \"#fdca26\"], [1.0, \"#f0f921\"]], \"sequentialminus\": [[0.0, \"#0d0887\"], [0.1111111111111111, \"#46039f\"], [0.2222222222222222, \"#7201a8\"], [0.3333333333333333, \"#9c179e\"], [0.4444444444444444, \"#bd3786\"], [0.5555555555555556, \"#d8576b\"], [0.6666666666666666, \"#ed7953\"], [0.7777777777777778, \"#fb9f3a\"], [0.8888888888888888, \"#fdca26\"], [1.0, \"#f0f921\"]]}, \"colorway\": [\"#636efa\", \"#EF553B\", \"#00cc96\", \"#ab63fa\", \"#FFA15A\", \"#19d3f3\", \"#FF6692\", \"#B6E880\", \"#FF97FF\", \"#FECB52\"], \"font\": {\"color\": \"#2a3f5f\"}, \"geo\": {\"bgcolor\": \"white\", \"lakecolor\": \"white\", \"landcolor\": \"#E5ECF6\", \"showlakes\": true, \"showland\": true, \"subunitcolor\": \"white\"}, \"hoverlabel\": {\"align\": \"left\"}, \"hovermode\": \"closest\", \"mapbox\": {\"style\": \"light\"}, \"paper_bgcolor\": \"white\", \"plot_bgcolor\": \"#E5ECF6\", \"polar\": {\"angularaxis\": {\"gridcolor\": \"white\", \"linecolor\": \"white\", \"ticks\": \"\"}, \"bgcolor\": \"#E5ECF6\", \"radialaxis\": {\"gridcolor\": \"white\", \"linecolor\": \"white\", \"ticks\": \"\"}}, \"scene\": {\"xaxis\": {\"backgroundcolor\": \"#E5ECF6\", \"gridcolor\": \"white\", \"gridwidth\": 2, \"linecolor\": \"white\", \"showbackground\": true, \"ticks\": \"\", \"zerolinecolor\": \"white\"}, \"yaxis\": {\"backgroundcolor\": \"#E5ECF6\", \"gridcolor\": \"white\", \"gridwidth\": 2, \"linecolor\": \"white\", \"showbackground\": true, \"ticks\": \"\", \"zerolinecolor\": \"white\"}, \"zaxis\": {\"backgroundcolor\": \"#E5ECF6\", \"gridcolor\": \"white\", \"gridwidth\": 2, \"linecolor\": \"white\", \"showbackground\": true, \"ticks\": \"\", \"zerolinecolor\": \"white\"}}, \"shapedefaults\": {\"line\": {\"color\": \"#2a3f5f\"}}, \"ternary\": {\"aaxis\": {\"gridcolor\": \"white\", \"linecolor\": \"white\", \"ticks\": \"\"}, \"baxis\": {\"gridcolor\": \"white\", \"linecolor\": \"white\", \"ticks\": \"\"}, \"bgcolor\": \"#E5ECF6\", \"caxis\": {\"gridcolor\": \"white\", \"linecolor\": \"white\", \"ticks\": \"\"}}, \"title\": {\"x\": 0.05}, \"xaxis\": {\"automargin\": true, \"gridcolor\": \"white\", \"linecolor\": \"white\", \"ticks\": \"\", \"title\": {\"standoff\": 15}, \"zerolinecolor\": \"white\", \"zerolinewidth\": 2}, \"yaxis\": {\"automargin\": true, \"gridcolor\": \"white\", \"linecolor\": \"white\", \"ticks\": \"\", \"title\": {\"standoff\": 15}, \"zerolinecolor\": \"white\", \"zerolinewidth\": 2}}}, \"title\": {\"text\": \"2D Cluster PCA Plot\"}, \"xaxis\": {\"anchor\": \"y\", \"domain\": [0.0, 1.0], \"title\": {\"text\": \"PCA1\"}}, \"yaxis\": {\"anchor\": \"x\", \"domain\": [0.0, 1.0], \"title\": {\"text\": \"PCA2\"}}},\n",
       "                        {\"responsive\": true}\n",
       "                    ).then(function(){\n",
       "                            \n",
       "var gd = document.getElementById('4b478e69-c9d0-440c-8d44-1dc18b84f7a5');\n",
       "var x = new MutationObserver(function (mutations, observer) {{\n",
       "        var display = window.getComputedStyle(gd).display;\n",
       "        if (!display || display === 'none') {{\n",
       "            console.log([gd, 'removed!']);\n",
       "            Plotly.purge(gd);\n",
       "            observer.disconnect();\n",
       "        }}\n",
       "}});\n",
       "\n",
       "// Listen for the removal of the full notebook cells\n",
       "var notebookContainer = gd.closest('#notebook-container');\n",
       "if (notebookContainer) {{\n",
       "    x.observe(notebookContainer, {childList: true});\n",
       "}}\n",
       "\n",
       "// Listen for the clearing of the current output cell\n",
       "var outputEl = gd.closest('.output');\n",
       "if (outputEl) {{\n",
       "    x.observe(outputEl, {childList: true});\n",
       "}}\n",
       "\n",
       "                        })\n",
       "                };\n",
       "                });\n",
       "            </script>\n",
       "        </div>"
      ]
     },
     "metadata": {},
     "output_type": "display_data"
    }
   ],
   "source": [
    "plot_model(kmeans)"
   ]
  }
 ],
 "metadata": {
  "kernelspec": {
   "display_name": "Python 3",
   "language": "python",
   "name": "python3"
  },
  "language_info": {
   "codemirror_mode": {
    "name": "ipython",
    "version": 3
   },
   "file_extension": ".py",
   "mimetype": "text/x-python",
   "name": "python",
   "nbconvert_exporter": "python",
   "pygments_lexer": "ipython3",
   "version": "3.7.6"
  }
 },
 "nbformat": 4,
 "nbformat_minor": 4
}
